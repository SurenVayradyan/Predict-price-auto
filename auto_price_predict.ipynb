{
  "cells": [
    {
      "cell_type": "markdown",
      "metadata": {
        "id": "xrWn6IfoDmUE"
      },
      "source": [
        "# Определение стоимости автомобилей"
      ]
    },
    {
      "cell_type": "markdown",
      "source": [
        "## О проекте:"
      ],
      "metadata": {
        "id": "7jhVOiNjE0Ua"
      }
    },
    {
      "cell_type": "markdown",
      "metadata": {
        "id": "qh73DvjiDmUF"
      },
      "source": [
        "\n",
        "Сервис по продаже автомобилей с пробегом «Не бит, не крашен» разрабатывает приложение для привлечения новых клиентов. В нём можно быстро узнать рыночную стоимость своего автомобиля. В вашем распоряжении исторические данные: технические характеристики, комплектации и цены автомобилей. Вам нужно построить модель для определения стоимости. \n",
        "\n",
        "Заказчику важны:\n",
        "\n",
        "- качество предсказания;\n",
        "- скорость предсказания;\n",
        "- время обучения."
      ]
    },
    {
      "cell_type": "markdown",
      "metadata": {
        "id": "SO1xoabeDmUF"
      },
      "source": [
        "## Цель проекта:\n",
        "\n",
        "    * Построить модель для определения стоимости"
      ]
    },
    {
      "cell_type": "markdown",
      "metadata": {
        "id": "TPiT187lDmUF"
      },
      "source": [
        "**Признаки**\n",
        "\n",
        "    * DateCrawled — дата скачивания анкеты из базы\n",
        "    * VehicleType — тип автомобильного кузова\n",
        "    * RegistrationYear — год регистрации автомобиля\n",
        "    * Gearbox — тип коробки передач\n",
        "    * Power — мощность (л. с.)\n",
        "    * Model — модель автомобиля\n",
        "    * Kilometer — пробег (км)\n",
        "    * RegistrationMonth — месяц регистрации автомобиля\n",
        "    * FuelType — тип топлива\n",
        "    * Brand — марка автомобиля\n",
        "    * Repaired — была машина в ремонте или нет\n",
        "    * DateCreated — дата создания анкеты\n",
        "    * NumberOfPictures — количество фотографий автомобиля\n",
        "    * PostalCode — почтовый индекс владельца анкеты (пользователя)\n",
        "    * LastSeen — дата последней активности пользователя\n",
        "    \n",
        "**Целевой признак**\n",
        "\n",
        "    * \n",
        "    Price — цена (евро)"
      ]
    },
    {
      "cell_type": "markdown",
      "metadata": {
        "id": "Z0HG97_UDmUF"
      },
      "source": [
        "## Подготовка данных"
      ]
    },
    {
      "cell_type": "code",
      "execution_count": null,
      "metadata": {
        "id": "jNUXa7yCDmUG"
      },
      "outputs": [],
      "source": [
        "import pandas as pd\n",
        "import time\n",
        "from IPython.display import Markdown, display\n",
        "from tqdm.notebook import tqdm_notebook as tqdm\n",
        "\n",
        "import seaborn as sns\n",
        "import matplotlib.pyplot as plt\n",
        "%matplotlib inline\n",
        "\n",
        "from sklearn.tree import DecisionTreeRegressor\n",
        "from catboost import CatBoostRegressor\n",
        "import lightgbm as lgb\n",
        "import lightgbm as lgm\n",
        "from lightgbm import LGBMRegressor\n",
        "\n",
        "from sklearn.model_selection import train_test_split, cross_val_score, GridSearchCV\n",
        "from sklearn.preprocessing import StandardScaler, OrdinalEncoder, MinMaxScaler\n",
        "from sklearn.metrics import mean_squared_error\n",
        "\n",
        "\n",
        "import warnings\n",
        "warnings.filterwarnings('ignore')"
      ]
    },
    {
      "cell_type": "code",
      "execution_count": null,
      "metadata": {
        "id": "qK3KziueDmUG"
      },
      "outputs": [],
      "source": [
        "def dataframe_info(df):\n",
        "    \n",
        "    ''' Вывод информации о датафрейме `df`. Функционал схож с методом `pd.DataFrame.info()`\n",
        "\n",
        "    Дополнительно: вывод процента заполненных (non-null) значений, количестве дублей\n",
        "    '''\n",
        "\n",
        "    info = (pd.DataFrame({\n",
        "                'notNA': df.count(), 'notNA, %': df.count()/df.shape[0]*100,\n",
        "                'dtype': df.dtypes})\n",
        "            .style.bar(subset='notNA, %', vmin=0, color='lightblue')\n",
        "            .format(\"{:.2f}\", subset=['notNA, %'])\n",
        "    )\n",
        "    print('DataFrame shape  : {} rows, {} columns'.format(df.shape[0], df.shape[1]))\n",
        "    print('Memory usage     : {:.2f} MB'.format(df.memory_usage().sum()/1024/1024))\n",
        "    print('Duplicates count :', df.duplicated().sum())\n",
        "    return info\n",
        "\n",
        "def show_hist(df, col, bins=100, xlim=None, ylim=None, figsize=None,\n",
        "              title='Распределение значений',\n",
        "              xlabel=None, ylabel='Количество значений'):\n",
        "    '''\n",
        "    Функция построения гистограмм и диаграмм размаха для столбца col датафрейма df\n",
        "    \n",
        "    Параметры \n",
        "    ---\n",
        "    `bins` : int - задаёт число корзин для гистограммы, по умолчанию 100\n",
        "    `title` : string - задаёт название графика\n",
        "    `xlabel, ylabel` : string - подписи к осям\n",
        "    `xlim, ylim, figsize` : параметры matplotlib \n",
        "    '''\n",
        "    # создаём 3 сабплота, указываем для них соотношение занимаемой высоты\n",
        "    _, (ax_box, ax_hist) = plt.subplots(2, sharex=True,\n",
        "        gridspec_kw={\"height_ratios\": (.15, .85)}, figsize=figsize)\n",
        "\n",
        "    if col in df.columns:\n",
        "        # диаграмма размаха, гистограмма с функцией распределения\n",
        "        sns.boxplot(x=df[col], ax=ax_box)\n",
        "        sns.histplot(df[col], ax=ax_hist, bins=bins, kde=True)\n",
        "        if xlabel is None: \n",
        "            xlabel = col\n",
        "        ax_box.set(xlabel='')  # чтобы не дублировалась\n",
        "        ax_hist.set(xlabel=xlabel, ylabel=ylabel, xlim=xlim, ylim=ylim)\n",
        "        ax_hist.grid(visible=True)\n",
        "        plt.suptitle(title, y=0.92, fontsize=14)\n",
        "    else:\n",
        "        print('Столбец', col, 'отсутсвует в датафрейме')\n",
        "\n",
        "def visualize_value_counts(df, column, n_values=25, fillna='NONE'):\n",
        "    ''' Визуализация количества встречающихся значений столбца датафрейма\n",
        "\n",
        "    `df` : pd.DataFrame - датафрейм\n",
        "    `column` : string - название столбца\n",
        "    `n_values` : int - максимальное количество значений для отображения на диаграмме\n",
        "    `fillna` : any - значение, которым необходимо заполнить пропуски\n",
        "    '''\n",
        "    val_counts = df[column].fillna(fillna).value_counts()\n",
        "    bar_values = val_counts.values[:n_values]\n",
        "    bar_labels = val_counts.index[:n_values]\n",
        "    plt.figure(figsize=(8, 0.35*min(len(val_counts), n_values)))\n",
        "    ax = sns.barplot(x=bar_values, y=bar_labels)\n",
        "    ax.set(title='\"{}\" value counts ({} / {})'\n",
        "           .format(column, len(bar_labels), val_counts.shape[0]),\n",
        "           xlim=[0, 1.1*bar_values.max()])\n",
        "    plt.bar_label(ax.containers[0])\n",
        "    for i in range(len(bar_labels)):\n",
        "        if bar_labels[i] == fillna:\n",
        "            ax.patches[i].set_color('black')\n",
        "    plt.show()"
      ]
    },
    {
      "cell_type": "code",
      "execution_count": null,
      "metadata": {
        "id": "RjJGCstKDmUH",
        "outputId": "3b56b2ec-eb2a-43fa-ca19-166b50ee6217"
      },
      "outputs": [
        {
          "data": {
            "text/html": [
              "<div>\n",
              "<style scoped>\n",
              "    .dataframe tbody tr th:only-of-type {\n",
              "        vertical-align: middle;\n",
              "    }\n",
              "\n",
              "    .dataframe tbody tr th {\n",
              "        vertical-align: top;\n",
              "    }\n",
              "\n",
              "    .dataframe thead th {\n",
              "        text-align: right;\n",
              "    }\n",
              "</style>\n",
              "<table border=\"1\" class=\"dataframe\">\n",
              "  <thead>\n",
              "    <tr style=\"text-align: right;\">\n",
              "      <th></th>\n",
              "      <th>datecrawled</th>\n",
              "      <th>price</th>\n",
              "      <th>vehicletype</th>\n",
              "      <th>registrationyear</th>\n",
              "      <th>gearbox</th>\n",
              "      <th>power</th>\n",
              "      <th>model</th>\n",
              "      <th>kilometer</th>\n",
              "      <th>registrationmonth</th>\n",
              "      <th>fueltype</th>\n",
              "      <th>brand</th>\n",
              "      <th>repaired</th>\n",
              "      <th>datecreated</th>\n",
              "      <th>numberofpictures</th>\n",
              "      <th>postalcode</th>\n",
              "      <th>lastseen</th>\n",
              "    </tr>\n",
              "  </thead>\n",
              "  <tbody>\n",
              "    <tr>\n",
              "      <th>286090</th>\n",
              "      <td>2016-03-30 12:50:01</td>\n",
              "      <td>3999</td>\n",
              "      <td>sedan</td>\n",
              "      <td>2002</td>\n",
              "      <td>manual</td>\n",
              "      <td>129</td>\n",
              "      <td>c_klasse</td>\n",
              "      <td>150000</td>\n",
              "      <td>9</td>\n",
              "      <td>petrol</td>\n",
              "      <td>mercedes_benz</td>\n",
              "      <td>no</td>\n",
              "      <td>2016-03-30 00:00:00</td>\n",
              "      <td>0</td>\n",
              "      <td>48249</td>\n",
              "      <td>2016-04-07 03:44:51</td>\n",
              "    </tr>\n",
              "    <tr>\n",
              "      <th>265954</th>\n",
              "      <td>2016-04-01 16:50:26</td>\n",
              "      <td>11200</td>\n",
              "      <td>small</td>\n",
              "      <td>2007</td>\n",
              "      <td>manual</td>\n",
              "      <td>174</td>\n",
              "      <td>cooper</td>\n",
              "      <td>125000</td>\n",
              "      <td>9</td>\n",
              "      <td>petrol</td>\n",
              "      <td>mini</td>\n",
              "      <td>no</td>\n",
              "      <td>2016-04-01 00:00:00</td>\n",
              "      <td>0</td>\n",
              "      <td>46483</td>\n",
              "      <td>2016-04-05 12:17:12</td>\n",
              "    </tr>\n",
              "    <tr>\n",
              "      <th>180981</th>\n",
              "      <td>2016-03-29 11:49:56</td>\n",
              "      <td>4850</td>\n",
              "      <td>wagon</td>\n",
              "      <td>2002</td>\n",
              "      <td>manual</td>\n",
              "      <td>116</td>\n",
              "      <td>3er</td>\n",
              "      <td>150000</td>\n",
              "      <td>6</td>\n",
              "      <td>gasoline</td>\n",
              "      <td>bmw</td>\n",
              "      <td>no</td>\n",
              "      <td>2016-03-29 00:00:00</td>\n",
              "      <td>0</td>\n",
              "      <td>74523</td>\n",
              "      <td>2016-04-05 21:15:26</td>\n",
              "    </tr>\n",
              "    <tr>\n",
              "      <th>333005</th>\n",
              "      <td>2016-03-07 18:46:07</td>\n",
              "      <td>850</td>\n",
              "      <td>small</td>\n",
              "      <td>2000</td>\n",
              "      <td>manual</td>\n",
              "      <td>60</td>\n",
              "      <td>fiesta</td>\n",
              "      <td>150000</td>\n",
              "      <td>7</td>\n",
              "      <td>petrol</td>\n",
              "      <td>ford</td>\n",
              "      <td>no</td>\n",
              "      <td>2016-03-07 00:00:00</td>\n",
              "      <td>0</td>\n",
              "      <td>22959</td>\n",
              "      <td>2016-03-15 01:17:39</td>\n",
              "    </tr>\n",
              "    <tr>\n",
              "      <th>301341</th>\n",
              "      <td>2016-03-14 01:54:41</td>\n",
              "      <td>4150</td>\n",
              "      <td>NaN</td>\n",
              "      <td>2016</td>\n",
              "      <td>manual</td>\n",
              "      <td>105</td>\n",
              "      <td>a3</td>\n",
              "      <td>150000</td>\n",
              "      <td>0</td>\n",
              "      <td>gasoline</td>\n",
              "      <td>audi</td>\n",
              "      <td>NaN</td>\n",
              "      <td>2016-03-13 00:00:00</td>\n",
              "      <td>0</td>\n",
              "      <td>23558</td>\n",
              "      <td>2016-04-07 06:15:52</td>\n",
              "    </tr>\n",
              "  </tbody>\n",
              "</table>\n",
              "</div>"
            ],
            "text/plain": [
              "                datecrawled  price vehicletype  registrationyear gearbox  \\\n",
              "286090  2016-03-30 12:50:01   3999       sedan              2002  manual   \n",
              "265954  2016-04-01 16:50:26  11200       small              2007  manual   \n",
              "180981  2016-03-29 11:49:56   4850       wagon              2002  manual   \n",
              "333005  2016-03-07 18:46:07    850       small              2000  manual   \n",
              "301341  2016-03-14 01:54:41   4150         NaN              2016  manual   \n",
              "\n",
              "        power     model  kilometer  registrationmonth  fueltype  \\\n",
              "286090    129  c_klasse     150000                  9    petrol   \n",
              "265954    174    cooper     125000                  9    petrol   \n",
              "180981    116       3er     150000                  6  gasoline   \n",
              "333005     60    fiesta     150000                  7    petrol   \n",
              "301341    105        a3     150000                  0  gasoline   \n",
              "\n",
              "                brand repaired          datecreated  numberofpictures  \\\n",
              "286090  mercedes_benz       no  2016-03-30 00:00:00                 0   \n",
              "265954           mini       no  2016-04-01 00:00:00                 0   \n",
              "180981            bmw       no  2016-03-29 00:00:00                 0   \n",
              "333005           ford       no  2016-03-07 00:00:00                 0   \n",
              "301341           audi      NaN  2016-03-13 00:00:00                 0   \n",
              "\n",
              "        postalcode             lastseen  \n",
              "286090       48249  2016-04-07 03:44:51  \n",
              "265954       46483  2016-04-05 12:17:12  \n",
              "180981       74523  2016-04-05 21:15:26  \n",
              "333005       22959  2016-03-15 01:17:39  \n",
              "301341       23558  2016-04-07 06:15:52  "
            ]
          },
          "metadata": {},
          "output_type": "display_data"
        },
        {
          "name": "stdout",
          "output_type": "stream",
          "text": [
            "DataFrame shape  : 354369 rows, 16 columns\n",
            "Memory usage     : 43.26 MB\n",
            "Duplicates count : 4\n"
          ]
        },
        {
          "data": {
            "text/html": [
              "<style  type=\"text/css\" >\n",
              "#T_f0c53_row0_col1,#T_f0c53_row1_col1,#T_f0c53_row3_col1,#T_f0c53_row5_col1,#T_f0c53_row7_col1,#T_f0c53_row8_col1,#T_f0c53_row10_col1,#T_f0c53_row12_col1,#T_f0c53_row13_col1,#T_f0c53_row14_col1,#T_f0c53_row15_col1{\n",
              "            width:  10em;\n",
              "             height:  80%;\n",
              "            background:  linear-gradient(90deg,lightblue 100.0%, transparent 100.0%);\n",
              "        }#T_f0c53_row2_col1{\n",
              "            width:  10em;\n",
              "             height:  80%;\n",
              "            background:  linear-gradient(90deg,lightblue 89.4%, transparent 89.4%);\n",
              "        }#T_f0c53_row4_col1,#T_f0c53_row6_col1{\n",
              "            width:  10em;\n",
              "             height:  80%;\n",
              "            background:  linear-gradient(90deg,lightblue 94.4%, transparent 94.4%);\n",
              "        }#T_f0c53_row9_col1{\n",
              "            width:  10em;\n",
              "             height:  80%;\n",
              "            background:  linear-gradient(90deg,lightblue 90.7%, transparent 90.7%);\n",
              "        }#T_f0c53_row11_col1{\n",
              "            width:  10em;\n",
              "             height:  80%;\n",
              "            background:  linear-gradient(90deg,lightblue 79.9%, transparent 79.9%);\n",
              "        }</style><table id=\"T_f0c53_\" ><thead>    <tr>        <th class=\"blank level0\" ></th>        <th class=\"col_heading level0 col0\" >notNA</th>        <th class=\"col_heading level0 col1\" >notNA, %</th>        <th class=\"col_heading level0 col2\" >dtype</th>    </tr></thead><tbody>\n",
              "                <tr>\n",
              "                        <th id=\"T_f0c53_level0_row0\" class=\"row_heading level0 row0\" >datecrawled</th>\n",
              "                        <td id=\"T_f0c53_row0_col0\" class=\"data row0 col0\" >354369</td>\n",
              "                        <td id=\"T_f0c53_row0_col1\" class=\"data row0 col1\" >100.00</td>\n",
              "                        <td id=\"T_f0c53_row0_col2\" class=\"data row0 col2\" >object</td>\n",
              "            </tr>\n",
              "            <tr>\n",
              "                        <th id=\"T_f0c53_level0_row1\" class=\"row_heading level0 row1\" >price</th>\n",
              "                        <td id=\"T_f0c53_row1_col0\" class=\"data row1 col0\" >354369</td>\n",
              "                        <td id=\"T_f0c53_row1_col1\" class=\"data row1 col1\" >100.00</td>\n",
              "                        <td id=\"T_f0c53_row1_col2\" class=\"data row1 col2\" >int64</td>\n",
              "            </tr>\n",
              "            <tr>\n",
              "                        <th id=\"T_f0c53_level0_row2\" class=\"row_heading level0 row2\" >vehicletype</th>\n",
              "                        <td id=\"T_f0c53_row2_col0\" class=\"data row2 col0\" >316879</td>\n",
              "                        <td id=\"T_f0c53_row2_col1\" class=\"data row2 col1\" >89.42</td>\n",
              "                        <td id=\"T_f0c53_row2_col2\" class=\"data row2 col2\" >object</td>\n",
              "            </tr>\n",
              "            <tr>\n",
              "                        <th id=\"T_f0c53_level0_row3\" class=\"row_heading level0 row3\" >registrationyear</th>\n",
              "                        <td id=\"T_f0c53_row3_col0\" class=\"data row3 col0\" >354369</td>\n",
              "                        <td id=\"T_f0c53_row3_col1\" class=\"data row3 col1\" >100.00</td>\n",
              "                        <td id=\"T_f0c53_row3_col2\" class=\"data row3 col2\" >int64</td>\n",
              "            </tr>\n",
              "            <tr>\n",
              "                        <th id=\"T_f0c53_level0_row4\" class=\"row_heading level0 row4\" >gearbox</th>\n",
              "                        <td id=\"T_f0c53_row4_col0\" class=\"data row4 col0\" >334536</td>\n",
              "                        <td id=\"T_f0c53_row4_col1\" class=\"data row4 col1\" >94.40</td>\n",
              "                        <td id=\"T_f0c53_row4_col2\" class=\"data row4 col2\" >object</td>\n",
              "            </tr>\n",
              "            <tr>\n",
              "                        <th id=\"T_f0c53_level0_row5\" class=\"row_heading level0 row5\" >power</th>\n",
              "                        <td id=\"T_f0c53_row5_col0\" class=\"data row5 col0\" >354369</td>\n",
              "                        <td id=\"T_f0c53_row5_col1\" class=\"data row5 col1\" >100.00</td>\n",
              "                        <td id=\"T_f0c53_row5_col2\" class=\"data row5 col2\" >int64</td>\n",
              "            </tr>\n",
              "            <tr>\n",
              "                        <th id=\"T_f0c53_level0_row6\" class=\"row_heading level0 row6\" >model</th>\n",
              "                        <td id=\"T_f0c53_row6_col0\" class=\"data row6 col0\" >334664</td>\n",
              "                        <td id=\"T_f0c53_row6_col1\" class=\"data row6 col1\" >94.44</td>\n",
              "                        <td id=\"T_f0c53_row6_col2\" class=\"data row6 col2\" >object</td>\n",
              "            </tr>\n",
              "            <tr>\n",
              "                        <th id=\"T_f0c53_level0_row7\" class=\"row_heading level0 row7\" >kilometer</th>\n",
              "                        <td id=\"T_f0c53_row7_col0\" class=\"data row7 col0\" >354369</td>\n",
              "                        <td id=\"T_f0c53_row7_col1\" class=\"data row7 col1\" >100.00</td>\n",
              "                        <td id=\"T_f0c53_row7_col2\" class=\"data row7 col2\" >int64</td>\n",
              "            </tr>\n",
              "            <tr>\n",
              "                        <th id=\"T_f0c53_level0_row8\" class=\"row_heading level0 row8\" >registrationmonth</th>\n",
              "                        <td id=\"T_f0c53_row8_col0\" class=\"data row8 col0\" >354369</td>\n",
              "                        <td id=\"T_f0c53_row8_col1\" class=\"data row8 col1\" >100.00</td>\n",
              "                        <td id=\"T_f0c53_row8_col2\" class=\"data row8 col2\" >int64</td>\n",
              "            </tr>\n",
              "            <tr>\n",
              "                        <th id=\"T_f0c53_level0_row9\" class=\"row_heading level0 row9\" >fueltype</th>\n",
              "                        <td id=\"T_f0c53_row9_col0\" class=\"data row9 col0\" >321474</td>\n",
              "                        <td id=\"T_f0c53_row9_col1\" class=\"data row9 col1\" >90.72</td>\n",
              "                        <td id=\"T_f0c53_row9_col2\" class=\"data row9 col2\" >object</td>\n",
              "            </tr>\n",
              "            <tr>\n",
              "                        <th id=\"T_f0c53_level0_row10\" class=\"row_heading level0 row10\" >brand</th>\n",
              "                        <td id=\"T_f0c53_row10_col0\" class=\"data row10 col0\" >354369</td>\n",
              "                        <td id=\"T_f0c53_row10_col1\" class=\"data row10 col1\" >100.00</td>\n",
              "                        <td id=\"T_f0c53_row10_col2\" class=\"data row10 col2\" >object</td>\n",
              "            </tr>\n",
              "            <tr>\n",
              "                        <th id=\"T_f0c53_level0_row11\" class=\"row_heading level0 row11\" >repaired</th>\n",
              "                        <td id=\"T_f0c53_row11_col0\" class=\"data row11 col0\" >283215</td>\n",
              "                        <td id=\"T_f0c53_row11_col1\" class=\"data row11 col1\" >79.92</td>\n",
              "                        <td id=\"T_f0c53_row11_col2\" class=\"data row11 col2\" >object</td>\n",
              "            </tr>\n",
              "            <tr>\n",
              "                        <th id=\"T_f0c53_level0_row12\" class=\"row_heading level0 row12\" >datecreated</th>\n",
              "                        <td id=\"T_f0c53_row12_col0\" class=\"data row12 col0\" >354369</td>\n",
              "                        <td id=\"T_f0c53_row12_col1\" class=\"data row12 col1\" >100.00</td>\n",
              "                        <td id=\"T_f0c53_row12_col2\" class=\"data row12 col2\" >object</td>\n",
              "            </tr>\n",
              "            <tr>\n",
              "                        <th id=\"T_f0c53_level0_row13\" class=\"row_heading level0 row13\" >numberofpictures</th>\n",
              "                        <td id=\"T_f0c53_row13_col0\" class=\"data row13 col0\" >354369</td>\n",
              "                        <td id=\"T_f0c53_row13_col1\" class=\"data row13 col1\" >100.00</td>\n",
              "                        <td id=\"T_f0c53_row13_col2\" class=\"data row13 col2\" >int64</td>\n",
              "            </tr>\n",
              "            <tr>\n",
              "                        <th id=\"T_f0c53_level0_row14\" class=\"row_heading level0 row14\" >postalcode</th>\n",
              "                        <td id=\"T_f0c53_row14_col0\" class=\"data row14 col0\" >354369</td>\n",
              "                        <td id=\"T_f0c53_row14_col1\" class=\"data row14 col1\" >100.00</td>\n",
              "                        <td id=\"T_f0c53_row14_col2\" class=\"data row14 col2\" >int64</td>\n",
              "            </tr>\n",
              "            <tr>\n",
              "                        <th id=\"T_f0c53_level0_row15\" class=\"row_heading level0 row15\" >lastseen</th>\n",
              "                        <td id=\"T_f0c53_row15_col0\" class=\"data row15 col0\" >354369</td>\n",
              "                        <td id=\"T_f0c53_row15_col1\" class=\"data row15 col1\" >100.00</td>\n",
              "                        <td id=\"T_f0c53_row15_col2\" class=\"data row15 col2\" >object</td>\n",
              "            </tr>\n",
              "    </tbody></table>"
            ],
            "text/plain": [
              "<pandas.io.formats.style.Styler at 0x7f146fb12310>"
            ]
          },
          "metadata": {},
          "output_type": "display_data"
        },
        {
          "data": {
            "text/html": [
              "<div>\n",
              "<style scoped>\n",
              "    .dataframe tbody tr th:only-of-type {\n",
              "        vertical-align: middle;\n",
              "    }\n",
              "\n",
              "    .dataframe tbody tr th {\n",
              "        vertical-align: top;\n",
              "    }\n",
              "\n",
              "    .dataframe thead th {\n",
              "        text-align: right;\n",
              "    }\n",
              "</style>\n",
              "<table border=\"1\" class=\"dataframe\">\n",
              "  <thead>\n",
              "    <tr style=\"text-align: right;\">\n",
              "      <th></th>\n",
              "      <th>price</th>\n",
              "      <th>registrationyear</th>\n",
              "      <th>power</th>\n",
              "      <th>kilometer</th>\n",
              "      <th>registrationmonth</th>\n",
              "      <th>numberofpictures</th>\n",
              "      <th>postalcode</th>\n",
              "    </tr>\n",
              "  </thead>\n",
              "  <tbody>\n",
              "    <tr>\n",
              "      <th>count</th>\n",
              "      <td>354369.000000</td>\n",
              "      <td>354369.000000</td>\n",
              "      <td>354369.000000</td>\n",
              "      <td>354369.000000</td>\n",
              "      <td>354369.000000</td>\n",
              "      <td>354369.0</td>\n",
              "      <td>354369.000000</td>\n",
              "    </tr>\n",
              "    <tr>\n",
              "      <th>mean</th>\n",
              "      <td>4416.656776</td>\n",
              "      <td>2004.234448</td>\n",
              "      <td>110.094337</td>\n",
              "      <td>128211.172535</td>\n",
              "      <td>5.714645</td>\n",
              "      <td>0.0</td>\n",
              "      <td>50508.689087</td>\n",
              "    </tr>\n",
              "    <tr>\n",
              "      <th>std</th>\n",
              "      <td>4514.158514</td>\n",
              "      <td>90.227958</td>\n",
              "      <td>189.850405</td>\n",
              "      <td>37905.341530</td>\n",
              "      <td>3.726421</td>\n",
              "      <td>0.0</td>\n",
              "      <td>25783.096248</td>\n",
              "    </tr>\n",
              "    <tr>\n",
              "      <th>min</th>\n",
              "      <td>0.000000</td>\n",
              "      <td>1000.000000</td>\n",
              "      <td>0.000000</td>\n",
              "      <td>5000.000000</td>\n",
              "      <td>0.000000</td>\n",
              "      <td>0.0</td>\n",
              "      <td>1067.000000</td>\n",
              "    </tr>\n",
              "    <tr>\n",
              "      <th>25%</th>\n",
              "      <td>1050.000000</td>\n",
              "      <td>1999.000000</td>\n",
              "      <td>69.000000</td>\n",
              "      <td>125000.000000</td>\n",
              "      <td>3.000000</td>\n",
              "      <td>0.0</td>\n",
              "      <td>30165.000000</td>\n",
              "    </tr>\n",
              "    <tr>\n",
              "      <th>50%</th>\n",
              "      <td>2700.000000</td>\n",
              "      <td>2003.000000</td>\n",
              "      <td>105.000000</td>\n",
              "      <td>150000.000000</td>\n",
              "      <td>6.000000</td>\n",
              "      <td>0.0</td>\n",
              "      <td>49413.000000</td>\n",
              "    </tr>\n",
              "    <tr>\n",
              "      <th>75%</th>\n",
              "      <td>6400.000000</td>\n",
              "      <td>2008.000000</td>\n",
              "      <td>143.000000</td>\n",
              "      <td>150000.000000</td>\n",
              "      <td>9.000000</td>\n",
              "      <td>0.0</td>\n",
              "      <td>71083.000000</td>\n",
              "    </tr>\n",
              "    <tr>\n",
              "      <th>max</th>\n",
              "      <td>20000.000000</td>\n",
              "      <td>9999.000000</td>\n",
              "      <td>20000.000000</td>\n",
              "      <td>150000.000000</td>\n",
              "      <td>12.000000</td>\n",
              "      <td>0.0</td>\n",
              "      <td>99998.000000</td>\n",
              "    </tr>\n",
              "  </tbody>\n",
              "</table>\n",
              "</div>"
            ],
            "text/plain": [
              "               price  registrationyear          power      kilometer  \\\n",
              "count  354369.000000     354369.000000  354369.000000  354369.000000   \n",
              "mean     4416.656776       2004.234448     110.094337  128211.172535   \n",
              "std      4514.158514         90.227958     189.850405   37905.341530   \n",
              "min         0.000000       1000.000000       0.000000    5000.000000   \n",
              "25%      1050.000000       1999.000000      69.000000  125000.000000   \n",
              "50%      2700.000000       2003.000000     105.000000  150000.000000   \n",
              "75%      6400.000000       2008.000000     143.000000  150000.000000   \n",
              "max     20000.000000       9999.000000   20000.000000  150000.000000   \n",
              "\n",
              "       registrationmonth  numberofpictures     postalcode  \n",
              "count      354369.000000          354369.0  354369.000000  \n",
              "mean            5.714645               0.0   50508.689087  \n",
              "std             3.726421               0.0   25783.096248  \n",
              "min             0.000000               0.0    1067.000000  \n",
              "25%             3.000000               0.0   30165.000000  \n",
              "50%             6.000000               0.0   49413.000000  \n",
              "75%             9.000000               0.0   71083.000000  \n",
              "max            12.000000               0.0   99998.000000  "
            ]
          },
          "metadata": {},
          "output_type": "display_data"
        }
      ],
      "source": [
        "df = pd.read_csv('/datasets/autos.csv');df.columns = df.columns.str.lower();\n",
        "\n",
        "display(df.sample(5))\n",
        "display(dataframe_info(df))\n",
        "display(df.describe())"
      ]
    },
    {
      "cell_type": "code",
      "execution_count": null,
      "metadata": {
        "id": "fwy0vxKuDmUH",
        "outputId": "4bf0ced5-4c96-4d03-f3f2-516069ee17d0"
      },
      "outputs": [
        {
          "name": "stdout",
          "output_type": "stream",
          "text": [
            "Количество дублей 21333\n"
          ]
        }
      ],
      "source": [
        "for col in ['numberofpictures', 'datecrawled', 'datecreated', 'lastseen']:\n",
        "    if col in df.columns:\n",
        "        df.drop(col, axis=1, inplace=True)\n",
        "\n",
        "print('Количество дублей', df.duplicated().sum())"
      ]
    },
    {
      "cell_type": "code",
      "execution_count": null,
      "metadata": {
        "id": "nYK8CCq4DmUH",
        "outputId": "a6868de4-1b99-4128-d1ce-59d681a7ffbc"
      },
      "outputs": [
        {
          "data": {
            "text/plain": [
              "(333036, 12)"
            ]
          },
          "execution_count": 5,
          "metadata": {},
          "output_type": "execute_result"
        }
      ],
      "source": [
        "df = df.drop_duplicates(ignore_index=True)\n",
        "df.shape"
      ]
    },
    {
      "cell_type": "code",
      "execution_count": null,
      "metadata": {
        "id": "ecehwIGdDmUI"
      },
      "outputs": [],
      "source": [
        "if 'postalcode' in df.columns:\n",
        "    df.drop('postalcode', axis=1, inplace=True)"
      ]
    },
    {
      "cell_type": "code",
      "execution_count": null,
      "metadata": {
        "id": "Y142hIpzDmUI",
        "outputId": "70a2f89d-2798-4aeb-944d-8a8cac00209a"
      },
      "outputs": [
        {
          "data": {
            "image/png": "[encoded data removed]",
            "text/plain": [
              "<Figure size 432x288 with 1 Axes>"
            ]
          },
          "metadata": {
            "needs_background": "light"
          },
          "output_type": "display_data"
        }
      ],
      "source": [
        "sns.countplot(data=df, x='repaired');"
      ]
    },
    {
      "cell_type": "code",
      "execution_count": null,
      "metadata": {
        "id": "mMlr89LODmUI",
        "outputId": "0374eb56-3ad2-474a-9259-0b6358920dbc"
      },
      "outputs": [
        {
          "data": {
            "image/png": "[encoded data removed]",
            "text/plain": [
              "<Figure size 432x288 with 1 Axes>"
            ]
          },
          "metadata": {
            "needs_background": "light"
          },
          "output_type": "display_data"
        }
      ],
      "source": [
        "sns.countplot(data=df, x='vehicletype');"
      ]
    },
    {
      "cell_type": "code",
      "execution_count": null,
      "metadata": {
        "id": "ZWPfCqeyDmUI",
        "outputId": "9906c594-1905-4e8c-84d8-ab9ad3725cf6"
      },
      "outputs": [
        {
          "data": {
            "image/png": "[encoded data removed]",
            "text/plain": [
              "<Figure size 432x288 with 1 Axes>"
            ]
          },
          "metadata": {
            "needs_background": "light"
          },
          "output_type": "display_data"
        }
      ],
      "source": [
        "sns.countplot(data=df, x='gearbox');"
      ]
    },
    {
      "cell_type": "code",
      "execution_count": null,
      "metadata": {
        "id": "q4lBcxCmDmUI",
        "outputId": "ab35de91-8753-4ce2-f9f1-fe935b757a88"
      },
      "outputs": [
        {
          "data": {
            "image/png": "[encoded data removed]",
            "text/plain": [
              "<Figure size 432x288 with 1 Axes>"
            ]
          },
          "metadata": {
            "needs_background": "light"
          },
          "output_type": "display_data"
        }
      ],
      "source": [
        "sns.countplot(data=df, x='fueltype');"
      ]
    },
    {
      "cell_type": "code",
      "execution_count": null,
      "metadata": {
        "id": "5E8AwZ1ZDmUI",
        "outputId": "b7d4b6ef-18b6-4aed-a4f5-02614edb9fe7"
      },
      "outputs": [
        {
          "name": "stdout",
          "output_type": "stream",
          "text": [
            "registrationyear < 1970 : 1309\n",
            "registrationyear > 2016 : 13912\n"
          ]
        },
        {
          "data": {
            "image/png": "[encoded data removed]",
            "text/plain": [
              "<Figure size 720x504 with 2 Axes>"
            ]
          },
          "metadata": {
            "needs_background": "light"
          },
          "output_type": "display_data"
        }
      ],
      "source": [
        "f = 'registrationyear'\n",
        "print(f+' < 1970 :', (df[f] < 1970).sum())\n",
        "print(f+' > 2016 :', (df[f] > 2016).sum())\n",
        "\n",
        "show_hist(df[(df[f] > df[f].quantile(.005)) & (df[f] < df[f].quantile(.995))],\n",
        "          f, bins=40,  figsize=(10, 7), title='Распределение '+f)"
      ]
    },
    {
      "cell_type": "code",
      "execution_count": null,
      "metadata": {
        "id": "zfPjEos7DmUI",
        "outputId": "974eefa8-2140-4e32-d6f0-c5a7cbaec1c7"
      },
      "outputs": [
        {
          "name": "stdout",
          "output_type": "stream",
          "text": [
            "Аномальные значения :\n",
            " [1000 1001 1039 1111 1200 1234 1253 1255 1300 1400 1500 1600 1602 1688\n",
            " 1800 1910 1915 1919 1920 1923 1925 1927 1928 1929 1930 1931 1932 1933\n",
            " 1934 1935 1936 1937 1938 1940 1941 1942 1943 1944 1945 1946 1947 1948\n",
            " 1949 2017 2018 2019 2066 2200 2222 2290 2500 2800 2900 3000 3200 3500\n",
            " 3700 3800 4000 4100 4500 4800 5000 5300 5555 5600 5900 5911 6000 6500\n",
            " 7000 7100 7500 7800 8000 8200 8455 8500 8888 9000 9229 9450 9996 9999]\n"
          ]
        }
      ],
      "source": [
        "print('Аномальные значения :\\n',\n",
        "      df.query('registrationyear > 2016 or registrationyear < 1950')['registrationyear']\n",
        "      .sort_values().unique())"
      ]
    },
    {
      "cell_type": "code",
      "execution_count": null,
      "metadata": {
        "id": "EH3jj7pmDmUJ",
        "outputId": "a7cc4d9b-9137-4c33-a130-4a09e7601db6"
      },
      "outputs": [
        {
          "data": {
            "image/png": "[encoded data removed]",
            "text/plain": [
              "<Figure size 720x504 with 2 Axes>"
            ]
          },
          "metadata": {
            "needs_background": "light"
          },
          "output_type": "display_data"
        }
      ],
      "source": [
        "df = df.query('1970 <= registrationyear <= 2016')\n",
        "df = df.query('not (registrationyear == 2016 and registrationmonth > 4)')\n",
        "show_hist(df, f, bins=45,  figsize=(10, 7), \n",
        "          title='Распределение '+f+' после фильтрации')"
      ]
    },
    {
      "cell_type": "code",
      "execution_count": null,
      "metadata": {
        "id": "RIs7apgJDmUJ",
        "outputId": "15d2c947-9137-4b36-ef68-8019463098f2"
      },
      "outputs": [
        {
          "data": {
            "image/png": "[encoded data removed]",
            "text/plain": [
              "<Figure size 432x288 with 1 Axes>"
            ]
          },
          "metadata": {
            "needs_background": "light"
          },
          "output_type": "display_data"
        },
        {
          "data": {
            "image/png": "[encoded data removed]",
            "text/plain": [
              "<Figure size 432x288 with 1 Axes>"
            ]
          },
          "metadata": {
            "needs_background": "light"
          },
          "output_type": "display_data"
        },
        {
          "data": {
            "image/png": "[encoded data removed]",
            "text/plain": [
              "<Figure size 432x288 with 1 Axes>"
            ]
          },
          "metadata": {
            "needs_background": "light"
          },
          "output_type": "display_data"
        }
      ],
      "source": [
        "for i in ['power', 'kilometer','price']:\n",
        "    sns.boxplot(df[i]) \n",
        "    plt.show()"
      ]
    },
    {
      "cell_type": "code",
      "execution_count": null,
      "metadata": {
        "id": "SP_rsrV3DmUJ",
        "outputId": "248155b5-6e1d-49f7-8646-4ef2dfb2e88d"
      },
      "outputs": [
        {
          "data": {
            "text/plain": [
              "count    279275.000000\n",
              "mean       2002.645228\n",
              "std           6.151787\n",
              "min        1970.000000\n",
              "25%        1999.000000\n",
              "50%        2003.000000\n",
              "75%        2007.000000\n",
              "max        2016.000000\n",
              "Name: registrationyear, dtype: float64"
            ]
          },
          "execution_count": 15,
          "metadata": {},
          "output_type": "execute_result"
        },
        {
          "data": {
            "image/png": "[encoded data removed]",
            "text/plain": [
              "<Figure size 720x504 with 2 Axes>"
            ]
          },
          "metadata": {
            "needs_background": "light"
          },
          "output_type": "display_data"
        }
      ],
      "source": [
        "df = df.query('10 <= power <= 500')\n",
        "show_hist(df, f, bins=65,  figsize=(10, 7), title='Распределение '+f+' после фильтрации')\n",
        "df[f].describe()"
      ]
    },
    {
      "cell_type": "code",
      "execution_count": null,
      "metadata": {
        "id": "enJwwRj6DmUJ",
        "outputId": "b2759621-84bb-4bff-f806-7d4b29ae87ab"
      },
      "outputs": [
        {
          "name": "stdout",
          "output_type": "stream",
          "text": [
            "Аномальные значения :\n",
            " [0]\n"
          ]
        }
      ],
      "source": [
        "print('Аномальные значения :\\n',\n",
        "      df.query('registrationmonth == 0 or registrationmonth > 12')['registrationmonth']\n",
        "      .sort_values().unique())"
      ]
    },
    {
      "cell_type": "code",
      "execution_count": null,
      "metadata": {
        "id": "taDsPnmmDmUJ",
        "outputId": "4f57bfb3-ee38-4f77-ac64-8de9bba089bc"
      },
      "outputs": [
        {
          "data": {
            "text/plain": [
              "14999.0"
            ]
          },
          "execution_count": 17,
          "metadata": {},
          "output_type": "execute_result"
        },
        {
          "data": {
            "image/png": "[encoded data removed]",
            "text/plain": [
              "<Figure size 720x504 with 2 Axes>"
            ]
          },
          "metadata": {
            "needs_background": "light"
          },
          "output_type": "display_data"
        }
      ],
      "source": [
        "f = 'price'\n",
        "show_hist(df, f, bins=100,  figsize=(10, 7), title='Распределение '+f)\n",
        "df[f].quantile(0.95)"
      ]
    },
    {
      "cell_type": "code",
      "execution_count": null,
      "metadata": {
        "id": "SS7vvnV2DmUJ",
        "outputId": "a45de716-2572-4263-b44f-db242e85c6aa"
      },
      "outputs": [
        {
          "data": {
            "text/plain": [
              "count    258912.000000\n",
              "mean       4189.916771\n",
              "std        3674.863273\n",
              "min         100.000000\n",
              "25%        1290.000000\n",
              "50%        2950.000000\n",
              "75%        6200.000000\n",
              "max       14999.000000\n",
              "Name: price, dtype: float64"
            ]
          },
          "execution_count": 18,
          "metadata": {},
          "output_type": "execute_result"
        },
        {
          "data": {
            "image/png": "[encoded data removed]",
            "text/plain": [
              "<Figure size 720x504 with 2 Axes>"
            ]
          },
          "metadata": {
            "needs_background": "light"
          },
          "output_type": "display_data"
        }
      ],
      "source": [
        "df = df.query('100 <= price < 15000')\n",
        "show_hist(df, f, bins=100, figsize=(10, 7), title='Распределение '+f+' после фильтрации')\n",
        "df[f].describe()"
      ]
    },
    {
      "cell_type": "code",
      "execution_count": null,
      "metadata": {
        "id": "mrhuwdXtDmUJ"
      },
      "outputs": [],
      "source": [
        "if 'registrationmonth' in df.columns:\n",
        "    df.drop('registrationmonth', axis=1, inplace=True)"
      ]
    },
    {
      "cell_type": "code",
      "execution_count": null,
      "metadata": {
        "id": "CswX62T-DmUJ",
        "outputId": "a7a24905-b3a8-491b-b9f6-07536230a75a"
      },
      "outputs": [
        {
          "data": {
            "image/png": "[encoded data removed]",
            "text/plain": [
              "<Figure size 432x288 with 2 Axes>"
            ]
          },
          "metadata": {
            "needs_background": "light"
          },
          "output_type": "display_data"
        },
        {
          "name": "stdout",
          "output_type": "stream",
          "text": [
            "DataFrame shape  : 258912 rows, 10 columns\n",
            "Memory usage     : 19.75 MB\n",
            "Duplicates count : 19930\n"
          ]
        },
        {
          "data": {
            "text/html": [
              "<style  type=\"text/css\" >\n",
              "#T_bd8dc_row0_col1,#T_bd8dc_row2_col1,#T_bd8dc_row4_col1,#T_bd8dc_row6_col1,#T_bd8dc_row8_col1{\n",
              "            width:  10em;\n",
              "             height:  80%;\n",
              "            background:  linear-gradient(90deg,lightblue 100.0%, transparent 100.0%);\n",
              "        }#T_bd8dc_row1_col1{\n",
              "            width:  10em;\n",
              "             height:  80%;\n",
              "            background:  linear-gradient(90deg,lightblue 97.2%, transparent 97.2%);\n",
              "        }#T_bd8dc_row3_col1{\n",
              "            width:  10em;\n",
              "             height:  80%;\n",
              "            background:  linear-gradient(90deg,lightblue 98.1%, transparent 98.1%);\n",
              "        }#T_bd8dc_row5_col1{\n",
              "            width:  10em;\n",
              "             height:  80%;\n",
              "            background:  linear-gradient(90deg,lightblue 96.3%, transparent 96.3%);\n",
              "        }#T_bd8dc_row7_col1{\n",
              "            width:  10em;\n",
              "             height:  80%;\n",
              "            background:  linear-gradient(90deg,lightblue 94.9%, transparent 94.9%);\n",
              "        }#T_bd8dc_row9_col1{\n",
              "            width:  10em;\n",
              "             height:  80%;\n",
              "            background:  linear-gradient(90deg,lightblue 85.1%, transparent 85.1%);\n",
              "        }</style><table id=\"T_bd8dc_\" ><thead>    <tr>        <th class=\"blank level0\" ></th>        <th class=\"col_heading level0 col0\" >notNA</th>        <th class=\"col_heading level0 col1\" >notNA, %</th>        <th class=\"col_heading level0 col2\" >dtype</th>    </tr></thead><tbody>\n",
              "                <tr>\n",
              "                        <th id=\"T_bd8dc_level0_row0\" class=\"row_heading level0 row0\" >price</th>\n",
              "                        <td id=\"T_bd8dc_row0_col0\" class=\"data row0 col0\" >258912</td>\n",
              "                        <td id=\"T_bd8dc_row0_col1\" class=\"data row0 col1\" >100.00</td>\n",
              "                        <td id=\"T_bd8dc_row0_col2\" class=\"data row0 col2\" >int64</td>\n",
              "            </tr>\n",
              "            <tr>\n",
              "                        <th id=\"T_bd8dc_level0_row1\" class=\"row_heading level0 row1\" >vehicletype</th>\n",
              "                        <td id=\"T_bd8dc_row1_col0\" class=\"data row1 col0\" >251743</td>\n",
              "                        <td id=\"T_bd8dc_row1_col1\" class=\"data row1 col1\" >97.23</td>\n",
              "                        <td id=\"T_bd8dc_row1_col2\" class=\"data row1 col2\" >object</td>\n",
              "            </tr>\n",
              "            <tr>\n",
              "                        <th id=\"T_bd8dc_level0_row2\" class=\"row_heading level0 row2\" >registrationyear</th>\n",
              "                        <td id=\"T_bd8dc_row2_col0\" class=\"data row2 col0\" >258912</td>\n",
              "                        <td id=\"T_bd8dc_row2_col1\" class=\"data row2 col1\" >100.00</td>\n",
              "                        <td id=\"T_bd8dc_row2_col2\" class=\"data row2 col2\" >int64</td>\n",
              "            </tr>\n",
              "            <tr>\n",
              "                        <th id=\"T_bd8dc_level0_row3\" class=\"row_heading level0 row3\" >gearbox</th>\n",
              "                        <td id=\"T_bd8dc_row3_col0\" class=\"data row3 col0\" >254047</td>\n",
              "                        <td id=\"T_bd8dc_row3_col1\" class=\"data row3 col1\" >98.12</td>\n",
              "                        <td id=\"T_bd8dc_row3_col2\" class=\"data row3 col2\" >object</td>\n",
              "            </tr>\n",
              "            <tr>\n",
              "                        <th id=\"T_bd8dc_level0_row4\" class=\"row_heading level0 row4\" >power</th>\n",
              "                        <td id=\"T_bd8dc_row4_col0\" class=\"data row4 col0\" >258912</td>\n",
              "                        <td id=\"T_bd8dc_row4_col1\" class=\"data row4 col1\" >100.00</td>\n",
              "                        <td id=\"T_bd8dc_row4_col2\" class=\"data row4 col2\" >int64</td>\n",
              "            </tr>\n",
              "            <tr>\n",
              "                        <th id=\"T_bd8dc_level0_row5\" class=\"row_heading level0 row5\" >model</th>\n",
              "                        <td id=\"T_bd8dc_row5_col0\" class=\"data row5 col0\" >249287</td>\n",
              "                        <td id=\"T_bd8dc_row5_col1\" class=\"data row5 col1\" >96.28</td>\n",
              "                        <td id=\"T_bd8dc_row5_col2\" class=\"data row5 col2\" >object</td>\n",
              "            </tr>\n",
              "            <tr>\n",
              "                        <th id=\"T_bd8dc_level0_row6\" class=\"row_heading level0 row6\" >kilometer</th>\n",
              "                        <td id=\"T_bd8dc_row6_col0\" class=\"data row6 col0\" >258912</td>\n",
              "                        <td id=\"T_bd8dc_row6_col1\" class=\"data row6 col1\" >100.00</td>\n",
              "                        <td id=\"T_bd8dc_row6_col2\" class=\"data row6 col2\" >int64</td>\n",
              "            </tr>\n",
              "            <tr>\n",
              "                        <th id=\"T_bd8dc_level0_row7\" class=\"row_heading level0 row7\" >fueltype</th>\n",
              "                        <td id=\"T_bd8dc_row7_col0\" class=\"data row7 col0\" >245638</td>\n",
              "                        <td id=\"T_bd8dc_row7_col1\" class=\"data row7 col1\" >94.87</td>\n",
              "                        <td id=\"T_bd8dc_row7_col2\" class=\"data row7 col2\" >object</td>\n",
              "            </tr>\n",
              "            <tr>\n",
              "                        <th id=\"T_bd8dc_level0_row8\" class=\"row_heading level0 row8\" >brand</th>\n",
              "                        <td id=\"T_bd8dc_row8_col0\" class=\"data row8 col0\" >258912</td>\n",
              "                        <td id=\"T_bd8dc_row8_col1\" class=\"data row8 col1\" >100.00</td>\n",
              "                        <td id=\"T_bd8dc_row8_col2\" class=\"data row8 col2\" >object</td>\n",
              "            </tr>\n",
              "            <tr>\n",
              "                        <th id=\"T_bd8dc_level0_row9\" class=\"row_heading level0 row9\" >repaired</th>\n",
              "                        <td id=\"T_bd8dc_row9_col0\" class=\"data row9 col0\" >220312</td>\n",
              "                        <td id=\"T_bd8dc_row9_col1\" class=\"data row9 col1\" >85.09</td>\n",
              "                        <td id=\"T_bd8dc_row9_col2\" class=\"data row9 col2\" >object</td>\n",
              "            </tr>\n",
              "    </tbody></table>"
            ],
            "text/plain": [
              "<pandas.io.formats.style.Styler at 0x7f146f40a7f0>"
            ]
          },
          "execution_count": 20,
          "metadata": {},
          "output_type": "execute_result"
        }
      ],
      "source": [
        "df = df.reset_index(drop=True)\n",
        "sns.heatmap(df.corr(), annot=True, cmap='coolwarm', vmin=-1, vmax=1)\n",
        "plt.title('Correlation Matrix')\n",
        "plt.show()\n",
        "dataframe_info(df)"
      ]
    },
    {
      "cell_type": "markdown",
      "metadata": {
        "id": "YBQusWP3DmUK"
      },
      "source": [
        "**Вывод:** хорошая корреляция у цены и года регистранции авто, дубликаты появляются из за схожих месяцев и годов"
      ]
    },
    {
      "cell_type": "code",
      "execution_count": null,
      "metadata": {
        "id": "CTwXKDbaDmUK",
        "outputId": "a359b4bc-2ab2-441c-cb61-717e8121f977"
      },
      "outputs": [
        {
          "name": "stdout",
          "output_type": "stream",
          "text": [
            "`vehicletype`, unique values: 8\n",
            "['bus', 'convertible', 'coupe', 'other', 'sedan', 'small', 'suv', 'wagon']\n",
            "\n"
          ]
        },
        {
          "data": {
            "image/png": "[encoded data removed]",
            "text/plain": [
              "<Figure size 576x226.8 with 1 Axes>"
            ]
          },
          "metadata": {
            "needs_background": "light"
          },
          "output_type": "display_data"
        },
        {
          "name": "stdout",
          "output_type": "stream",
          "text": [
            "`gearbox`, unique values: 2\n",
            "['auto', 'manual']\n",
            "\n"
          ]
        },
        {
          "data": {
            "image/png": "[encoded data removed]",
            "text/plain": [
              "<Figure size 576x75.6 with 1 Axes>"
            ]
          },
          "metadata": {
            "needs_background": "light"
          },
          "output_type": "display_data"
        },
        {
          "name": "stdout",
          "output_type": "stream",
          "text": [
            "`model`, unique values: 249\n",
            "['100', '145', '147', '156', '159', '1_reihe', '1er', '200', '2_reihe', '300c', '3_reihe', '3er', '4_reihe', '500', '5_reihe', '5er', '601', '6_reihe', '6er', '7er', '80', '850', '90', '900', '9000', '911', 'a1', 'a2', 'a3', 'a4', 'a5', 'a6', 'a8', 'a_klasse', 'accord', 'agila', 'alhambra', 'almera', 'altea', 'amarok', 'antara', 'arosa', 'astra', 'auris', 'avensis', 'aveo', 'aygo', 'b_klasse', 'b_max', 'beetle', 'berlingo', 'bora', 'boxster', 'bravo', 'c1', 'c2', 'c3', 'c4', 'c5', 'c_klasse', 'c_max', 'c_reihe', 'caddy', 'calibra', 'captiva', 'carisma', 'carnival', 'cayenne', 'cc', 'ceed', 'charade', 'cherokee', 'citigo', 'civic', 'cl', 'clio', 'clk', 'clubman', 'colt', 'combo', 'cooper', 'cordoba', 'corolla', 'corsa', 'cr_reihe', 'croma', 'crossfire', 'cuore', 'cx_reihe', 'defender', 'delta', 'discovery', 'doblo', 'ducato', 'duster', 'e_klasse', 'elefantino', 'eos', 'escort', 'espace', 'exeo', 'fabia', 'fiesta', 'focus', 'forester', 'forfour', 'fortwo', 'fox', 'freelander', 'fusion', 'g_klasse', 'galant', 'galaxy', 'getz', 'gl', 'glk', 'golf', 'grand', 'i3', 'i_reihe', 'ibiza', 'impreza', 'insignia', 'jazz', 'jetta', 'jimny', 'juke', 'justy', 'ka', 'kadett', 'kaefer', 'kalina', 'kalos', 'kangoo', 'kappa', 'kuga', 'laguna', 'lancer', 'lanos', 'legacy', 'leon', 'lodgy', 'logan', 'lupo', 'lybra', 'm_klasse', 'm_reihe', 'materia', 'matiz', 'megane', 'meriva', 'micra', 'mii', 'modus', 'mondeo', 'move', 'musa', 'mustang', 'mx_reihe', 'navara', 'niva', 'note', 'nubira', 'octavia', 'omega', 'one', 'other', 'outlander', 'pajero', 'panda', 'passat', 'phaeton', 'picanto', 'polo', 'primera', 'ptcruiser', 'punto', 'q3', 'q5', 'q7', 'qashqai', 'r19', 'range_rover', 'range_rover_evoque', 'range_rover_sport', 'rangerover', 'rav', 'rio', 'roadster', 'roomster', 'rx_reihe', 's60', 's_klasse', 's_max', 's_type', 'samara', 'sandero', 'santa', 'scenic', 'scirocco', 'seicento', 'serie_2', 'serie_3', 'sharan', 'signum', 'sirion', 'sl', 'slk', 'sorento', 'spark', 'spider', 'sportage', 'sprinter', 'stilo', 'superb', 'swift', 'terios', 'tigra', 'tiguan', 'toledo', 'touareg', 'touran', 'transit', 'transporter', 'tt', 'tucson', 'twingo', 'up', 'v40', 'v50', 'v60', 'v70', 'v_klasse', 'vectra', 'verso', 'viano', 'vito', 'vivaro', 'voyager', 'wrangler', 'x_reihe', 'x_trail', 'x_type', 'xc_reihe', 'yaris', 'yeti', 'ypsilon', 'z_reihe', 'zafira']\n",
            "\n"
          ]
        },
        {
          "data": {
            "image/png": "[encoded data removed]",
            "text/plain": [
              "<Figure size 576x630 with 1 Axes>"
            ]
          },
          "metadata": {
            "needs_background": "light"
          },
          "output_type": "display_data"
        },
        {
          "name": "stdout",
          "output_type": "stream",
          "text": [
            "`fueltype`, unique values: 7\n",
            "['cng', 'electric', 'gasoline', 'hybrid', 'lpg', 'other', 'petrol']\n",
            "\n"
          ]
        },
        {
          "data": {
            "image/png": "[encoded data removed]",
            "text/plain": [
              "<Figure size 576x201.6 with 1 Axes>"
            ]
          },
          "metadata": {
            "needs_background": "light"
          },
          "output_type": "display_data"
        },
        {
          "name": "stdout",
          "output_type": "stream",
          "text": [
            "`brand`, unique values: 40\n",
            "['alfa_romeo', 'audi', 'bmw', 'chevrolet', 'chrysler', 'citroen', 'dacia', 'daewoo', 'daihatsu', 'fiat', 'ford', 'honda', 'hyundai', 'jaguar', 'jeep', 'kia', 'lada', 'lancia', 'land_rover', 'mazda', 'mercedes_benz', 'mini', 'mitsubishi', 'nissan', 'opel', 'peugeot', 'porsche', 'renault', 'rover', 'saab', 'seat', 'skoda', 'smart', 'sonstige_autos', 'subaru', 'suzuki', 'toyota', 'trabant', 'volkswagen', 'volvo']\n",
            "\n"
          ]
        },
        {
          "data": {
            "image/png": "[encoded data removed]",
            "text/plain": [
              "<Figure size 576x630 with 1 Axes>"
            ]
          },
          "metadata": {
            "needs_background": "light"
          },
          "output_type": "display_data"
        },
        {
          "name": "stdout",
          "output_type": "stream",
          "text": [
            "`repaired`, unique values: 2\n",
            "['no', 'yes']\n",
            "\n"
          ]
        },
        {
          "data": {
            "image/png": "[encoded data removed]",
            "text/plain": [
              "<Figure size 576x75.6 with 1 Axes>"
            ]
          },
          "metadata": {
            "needs_background": "light"
          },
          "output_type": "display_data"
        }
      ],
      "source": [
        "int_features = list(df.select_dtypes('integer').columns)\n",
        "cat_features = list(df.select_dtypes('object').columns)\n",
        "for f in cat_features:\n",
        "    _ = df[f].dropna().unique()\n",
        "    print('`{}`, unique values: {}\\n{}\\n'\n",
        "          .format(f, len(_), sorted(_)))\n",
        "    visualize_value_counts(df, f)"
      ]
    },
    {
      "cell_type": "code",
      "execution_count": null,
      "metadata": {
        "id": "AUiDBlFhDmUK"
      },
      "outputs": [],
      "source": [
        "df['vehicletype'] = df['vehicletype'].fillna('other')\n",
        "df['gearbox'] = df['gearbox'].fillna(df['gearbox'].mode()[0])\n",
        "df['model'] = df['model'].fillna('unknown')\n",
        "df['fueltype'] = df['fueltype'].fillna('petrol')\n",
        "df['brand'] = df['brand'].fillna('unknown')\n",
        "df['repaired'] = df['repaired'].fillna('no')"
      ]
    },
    {
      "cell_type": "code",
      "execution_count": null,
      "metadata": {
        "id": "ER5mqzWpDmUK",
        "outputId": "e255657b-47f1-4439-d056-13c48f0f44f3"
      },
      "outputs": [
        {
          "name": "stdout",
          "output_type": "stream",
          "text": [
            "DataFrame shape  : 258912 rows, 10 columns\n",
            "Memory usage     : 4.21 MB\n",
            "Duplicates count : 28317\n"
          ]
        },
        {
          "data": {
            "text/html": [
              "<style  type=\"text/css\" >\n",
              "#T_8915f_row0_col1,#T_8915f_row1_col1,#T_8915f_row2_col1,#T_8915f_row3_col1,#T_8915f_row4_col1,#T_8915f_row5_col1,#T_8915f_row6_col1,#T_8915f_row7_col1,#T_8915f_row8_col1,#T_8915f_row9_col1{\n",
              "            width:  10em;\n",
              "             height:  80%;\n",
              "            background:  linear-gradient(90deg,lightblue 100.0%, transparent 100.0%);\n",
              "        }</style><table id=\"T_8915f_\" ><thead>    <tr>        <th class=\"blank level0\" ></th>        <th class=\"col_heading level0 col0\" >notNA</th>        <th class=\"col_heading level0 col1\" >notNA, %</th>        <th class=\"col_heading level0 col2\" >dtype</th>    </tr></thead><tbody>\n",
              "                <tr>\n",
              "                        <th id=\"T_8915f_level0_row0\" class=\"row_heading level0 row0\" >price</th>\n",
              "                        <td id=\"T_8915f_row0_col0\" class=\"data row0 col0\" >258912</td>\n",
              "                        <td id=\"T_8915f_row0_col1\" class=\"data row0 col1\" >100.00</td>\n",
              "                        <td id=\"T_8915f_row0_col2\" class=\"data row0 col2\" >int16</td>\n",
              "            </tr>\n",
              "            <tr>\n",
              "                        <th id=\"T_8915f_level0_row1\" class=\"row_heading level0 row1\" >vehicletype</th>\n",
              "                        <td id=\"T_8915f_row1_col0\" class=\"data row1 col0\" >258912</td>\n",
              "                        <td id=\"T_8915f_row1_col1\" class=\"data row1 col1\" >100.00</td>\n",
              "                        <td id=\"T_8915f_row1_col2\" class=\"data row1 col2\" >category</td>\n",
              "            </tr>\n",
              "            <tr>\n",
              "                        <th id=\"T_8915f_level0_row2\" class=\"row_heading level0 row2\" >registrationyear</th>\n",
              "                        <td id=\"T_8915f_row2_col0\" class=\"data row2 col0\" >258912</td>\n",
              "                        <td id=\"T_8915f_row2_col1\" class=\"data row2 col1\" >100.00</td>\n",
              "                        <td id=\"T_8915f_row2_col2\" class=\"data row2 col2\" >int16</td>\n",
              "            </tr>\n",
              "            <tr>\n",
              "                        <th id=\"T_8915f_level0_row3\" class=\"row_heading level0 row3\" >gearbox</th>\n",
              "                        <td id=\"T_8915f_row3_col0\" class=\"data row3 col0\" >258912</td>\n",
              "                        <td id=\"T_8915f_row3_col1\" class=\"data row3 col1\" >100.00</td>\n",
              "                        <td id=\"T_8915f_row3_col2\" class=\"data row3 col2\" >category</td>\n",
              "            </tr>\n",
              "            <tr>\n",
              "                        <th id=\"T_8915f_level0_row4\" class=\"row_heading level0 row4\" >power</th>\n",
              "                        <td id=\"T_8915f_row4_col0\" class=\"data row4 col0\" >258912</td>\n",
              "                        <td id=\"T_8915f_row4_col1\" class=\"data row4 col1\" >100.00</td>\n",
              "                        <td id=\"T_8915f_row4_col2\" class=\"data row4 col2\" >int16</td>\n",
              "            </tr>\n",
              "            <tr>\n",
              "                        <th id=\"T_8915f_level0_row5\" class=\"row_heading level0 row5\" >model</th>\n",
              "                        <td id=\"T_8915f_row5_col0\" class=\"data row5 col0\" >258912</td>\n",
              "                        <td id=\"T_8915f_row5_col1\" class=\"data row5 col1\" >100.00</td>\n",
              "                        <td id=\"T_8915f_row5_col2\" class=\"data row5 col2\" >category</td>\n",
              "            </tr>\n",
              "            <tr>\n",
              "                        <th id=\"T_8915f_level0_row6\" class=\"row_heading level0 row6\" >kilometer</th>\n",
              "                        <td id=\"T_8915f_row6_col0\" class=\"data row6 col0\" >258912</td>\n",
              "                        <td id=\"T_8915f_row6_col1\" class=\"data row6 col1\" >100.00</td>\n",
              "                        <td id=\"T_8915f_row6_col2\" class=\"data row6 col2\" >int32</td>\n",
              "            </tr>\n",
              "            <tr>\n",
              "                        <th id=\"T_8915f_level0_row7\" class=\"row_heading level0 row7\" >fueltype</th>\n",
              "                        <td id=\"T_8915f_row7_col0\" class=\"data row7 col0\" >258912</td>\n",
              "                        <td id=\"T_8915f_row7_col1\" class=\"data row7 col1\" >100.00</td>\n",
              "                        <td id=\"T_8915f_row7_col2\" class=\"data row7 col2\" >category</td>\n",
              "            </tr>\n",
              "            <tr>\n",
              "                        <th id=\"T_8915f_level0_row8\" class=\"row_heading level0 row8\" >brand</th>\n",
              "                        <td id=\"T_8915f_row8_col0\" class=\"data row8 col0\" >258912</td>\n",
              "                        <td id=\"T_8915f_row8_col1\" class=\"data row8 col1\" >100.00</td>\n",
              "                        <td id=\"T_8915f_row8_col2\" class=\"data row8 col2\" >category</td>\n",
              "            </tr>\n",
              "            <tr>\n",
              "                        <th id=\"T_8915f_level0_row9\" class=\"row_heading level0 row9\" >repaired</th>\n",
              "                        <td id=\"T_8915f_row9_col0\" class=\"data row9 col0\" >258912</td>\n",
              "                        <td id=\"T_8915f_row9_col1\" class=\"data row9 col1\" >100.00</td>\n",
              "                        <td id=\"T_8915f_row9_col2\" class=\"data row9 col2\" >category</td>\n",
              "            </tr>\n",
              "    </tbody></table>"
            ],
            "text/plain": [
              "<pandas.io.formats.style.Styler at 0x7f146f9cfe80>"
            ]
          },
          "execution_count": 23,
          "metadata": {},
          "output_type": "execute_result"
        }
      ],
      "source": [
        "df[int_features] = df[int_features].apply(pd.to_numeric, downcast='integer')\n",
        "df[cat_features] = df[cat_features].astype('category')\n",
        "\n",
        "dataframe_info(df)"
      ]
    },
    {
      "cell_type": "markdown",
      "metadata": {
        "id": "9cisBQRwDmUK"
      },
      "source": [
        "**Вывод:** от лишних признаков не влияющих на score избавились, заполнили все пропуски и убрали дубликаты. Данные полностью готовы к обучению на моделях"
      ]
    },
    {
      "cell_type": "markdown",
      "metadata": {
        "id": "Evroi6KvDmUK"
      },
      "source": [
        "<div class=\"alert alert-block alert-info\">\n",
        "<b>Ответ[2]:</b>\n",
        "    \n",
        "- `катбуст отвалился` - нужно читать почему он отвалился, catboost работает с целочисленными данными (integer) либо со строками, а у тебя данные после кодирования имеют плавающую точку  - от этого catboost и отлавливается.\n",
        "    \n",
        "\n",
        "- `но когда закидываешь его в список, он увеличивается и кат тоже увел` - не понял в какой список\n",
        "</div>\n"
      ]
    },
    {
      "cell_type": "markdown",
      "metadata": {
        "id": "PNOggj0yDmUK"
      },
      "source": [
        "## Обучение моделей"
      ]
    },
    {
      "cell_type": "code",
      "execution_count": null,
      "metadata": {
        "id": "ggF4wa6gDmUK",
        "outputId": "469bfd43-9c6b-4f0c-cc9b-f58ee31496d2"
      },
      "outputs": [
        {
          "name": "stdout",
          "output_type": "stream",
          "text": [
            "Ordinal encoded features shape = [(194184, 9), (64728, 9)]\n",
            "OHE encoded features shape = [(194184, 306), (64728, 306)]\n"
          ]
        }
      ],
      "source": [
        "features_scaled = df.drop('price', axis=1)\n",
        "features_scaled[int_features[1:]] = pd.DataFrame(\n",
        "    StandardScaler().fit_transform(features_scaled[int_features[1:]]),\n",
        "    columns=int_features[1:]\n",
        ").apply(pd.to_numeric, downcast='integer')\n",
        "\n",
        "features = df.drop(['price'], axis=1)\n",
        "target = df['price']\n",
        "\n",
        "features_train, features_test, target_train, target_test = train_test_split(features, target, test_size=0.25, random_state=42)\n",
        "\n",
        "features_oe = features_scaled.copy()\n",
        "features_oe[cat_features] = pd.DataFrame(\n",
        "    MinMaxScaler(feature_range=[-1,1]).fit_transform(\n",
        "        OrdinalEncoder().fit_transform(features_oe[cat_features])),\n",
        "    columns=cat_features\n",
        ").apply(pd.to_numeric, downcast='integer')\n",
        "features_oe_train, features_oe_test = features_oe.loc[features_train.index], features_oe.loc[features_test.index]\n",
        "print(\"Ordinal encoded features shape =\", [features_oe_train.shape, features_oe_test.shape])\n",
        "\n",
        "\n",
        "features_ohe = pd.get_dummies(features_scaled, columns=cat_features, drop_first=True)\n",
        "features_ohe_train, features_ohe_test = features_ohe.loc[features_train.index], features_ohe.loc[features_test.index]\n",
        "print(\"OHE encoded features shape =\", [features_ohe_train.shape, features_ohe_test.shape])\n",
        "\n",
        "del features_scaled, features_oe, features_ohe"
      ]
    },
    {
      "cell_type": "code",
      "execution_count": null,
      "metadata": {
        "id": "RmyUi7WADmUK"
      },
      "outputs": [],
      "source": [
        "features = {}\n",
        "features['raw'] = (features_train)\n",
        "features['OE']  = (features_oe_train)\n",
        "features['OHE'] = (features_ohe_train)\n",
        "models = {}"
      ]
    },
    {
      "cell_type": "code",
      "execution_count": null,
      "metadata": {
        "id": "1n3GjQwnDmUL"
      },
      "outputs": [],
      "source": [
        "def best_cv_models(grid, count):\n",
        "    \n",
        "    ''' Выводит таблицу с показателями моделей, показавших наилучшие значения RMSE на кроссвалидации.\n",
        "\n",
        "    Принимает  \n",
        "        : `grid` - результат GridSearchCV после fit(), \n",
        "        : `count` - количество лучших моделей для вывода\n",
        "    Возвращает : pd.DataFrame c параметрами моделей\n",
        "    '''    \n",
        "\n",
        "    print('Estimator: {}'.format(grid.estimator))\n",
        "    print('Tested {} models on {} folds'.format(len(grid.cv_results_['params']), grid.cv))\n",
        "    print('Best RMSE = {}\\n'.format((-grid.best_score_) ** 0.5))\n",
        "    best_idx = grid.cv_results_['rank_test_score'].argsort()[:count]\n",
        "    return pd.DataFrame({\n",
        "            'RMSE test, €': (-grid.cv_results_['mean_test_score'][best_idx])**0.5,\n",
        "            'RMSE train, €': (-grid.cv_results_['mean_train_score'][best_idx])**0.5,\n",
        "            'fit time, s': grid.cv_results_['mean_fit_time'][best_idx],\n",
        "            'score time, s': grid.cv_results_['mean_score_time'][best_idx]}\n",
        "        ).join(pd.DataFrame([grid.cv_results_['params'][i] for i in best_idx]))\n",
        "\n",
        "\n",
        "common_cv_params = {'scoring': 'neg_mean_squared_error',\n",
        "                    'return_train_score': True,\n",
        "                    'cv': 5}"
      ]
    },
    {
      "cell_type": "markdown",
      "metadata": {
        "id": "KSsoFQnyDmUL"
      },
      "source": [
        "<div class=\"alert alert-block alert-info\">\n",
        "    \n",
        "<b>Совет[4]:</b> \n",
        "    \n",
        "- ` mean_test_score` - был более правильный выбор, это не тестовая выборка, которую ты получил во время разбиения и отложил для тестирования лучшей моделей (а моя претензия была только к тому, что ты использовал функцию `test_model` на прошлой итерации для всхе моделей.).\n",
        "    \n",
        "- `mean_test_score` это оценка внутрення  кросс-валидации, и она для анализа метрик намного интереснее чем `mean_train_score`.  \n",
        "    \n",
        "    \n",
        "Но думаю, ты это сможешь и самоятотельно учесть)\n",
        "    \n",
        "    \n",
        "</div>\n"
      ]
    },
    {
      "cell_type": "code",
      "execution_count": null,
      "metadata": {
        "id": "vk2FyP4lDmUL"
      },
      "outputs": [],
      "source": [
        "def model_elector(model, features_train, target_train, features_test, target_test, best_score):\n",
        "    now = time.time()\n",
        "    model.fit(features_train, target_train)\n",
        "    training_time = time.time() - now\n",
        "    \n",
        "    now = time.time()\n",
        "    predicted = model.predict(features_test)\n",
        "    predict_time = time.time() - now\n",
        "    rmse = mse(target_test, predicted)**0.5\n",
        "    cv_rmse = np.sqrt(-1 * best_score)\n",
        "    return training_time, predict_time, rmse, cv_rmse"
      ]
    },
    {
      "cell_type": "markdown",
      "metadata": {
        "id": "1iCmNRqCDmUL"
      },
      "source": [
        "**DecisionTreeRegressor**"
      ]
    },
    {
      "cell_type": "code",
      "execution_count": null,
      "metadata": {
        "scrolled": true,
        "id": "XqcWxVbiDmUL",
        "outputId": "50e07cef-8cb5-4388-d001-d66716c3268d"
      },
      "outputs": [
        {
          "name": "stdout",
          "output_type": "stream",
          "text": [
            "DecisionTreeRegressor for ordinal encoded features\n",
            "Estimator: DecisionTreeRegressor(random_state=42)\n",
            "Tested 12 models on 5 folds\n",
            "Best RMSE = 1649.160973149901\n",
            "\n",
            "CPU times: user 18.8 s, sys: 38.5 ms, total: 18.8 s\n",
            "Wall time: 18.8 s\n"
          ]
        },
        {
          "data": {
            "text/html": [
              "<div>\n",
              "<style scoped>\n",
              "    .dataframe tbody tr th:only-of-type {\n",
              "        vertical-align: middle;\n",
              "    }\n",
              "\n",
              "    .dataframe tbody tr th {\n",
              "        vertical-align: top;\n",
              "    }\n",
              "\n",
              "    .dataframe thead th {\n",
              "        text-align: right;\n",
              "    }\n",
              "</style>\n",
              "<table border=\"1\" class=\"dataframe\">\n",
              "  <thead>\n",
              "    <tr style=\"text-align: right;\">\n",
              "      <th></th>\n",
              "      <th>RMSE test, €</th>\n",
              "      <th>RMSE train, €</th>\n",
              "      <th>fit time, s</th>\n",
              "      <th>score time, s</th>\n",
              "      <th>max_depth</th>\n",
              "      <th>min_samples_leaf</th>\n",
              "      <th>min_samples_split</th>\n",
              "    </tr>\n",
              "  </thead>\n",
              "  <tbody>\n",
              "    <tr>\n",
              "      <th>0</th>\n",
              "      <td>1649.160973</td>\n",
              "      <td>1594.659309</td>\n",
              "      <td>0.356506</td>\n",
              "      <td>0.008127</td>\n",
              "      <td>10</td>\n",
              "      <td>10</td>\n",
              "      <td>23</td>\n",
              "    </tr>\n",
              "    <tr>\n",
              "      <th>1</th>\n",
              "      <td>1649.315970</td>\n",
              "      <td>1594.120141</td>\n",
              "      <td>0.338042</td>\n",
              "      <td>0.007707</td>\n",
              "      <td>10</td>\n",
              "      <td>10</td>\n",
              "      <td>3</td>\n",
              "    </tr>\n",
              "    <tr>\n",
              "      <th>2</th>\n",
              "      <td>1649.315970</td>\n",
              "      <td>1594.120141</td>\n",
              "      <td>0.353668</td>\n",
              "      <td>0.007844</td>\n",
              "      <td>10</td>\n",
              "      <td>10</td>\n",
              "      <td>13</td>\n",
              "    </tr>\n",
              "    <tr>\n",
              "      <th>3</th>\n",
              "      <td>1649.361827</td>\n",
              "      <td>1587.811250</td>\n",
              "      <td>0.344869</td>\n",
              "      <td>0.007847</td>\n",
              "      <td>10</td>\n",
              "      <td>5</td>\n",
              "      <td>13</td>\n",
              "    </tr>\n",
              "    <tr>\n",
              "      <th>4</th>\n",
              "      <td>1649.642399</td>\n",
              "      <td>1591.045828</td>\n",
              "      <td>0.339082</td>\n",
              "      <td>0.007851</td>\n",
              "      <td>10</td>\n",
              "      <td>5</td>\n",
              "      <td>23</td>\n",
              "    </tr>\n",
              "  </tbody>\n",
              "</table>\n",
              "</div>"
            ],
            "text/plain": [
              "   RMSE test, €  RMSE train, €  fit time, s  score time, s  max_depth  \\\n",
              "0   1649.160973    1594.659309     0.356506       0.008127         10   \n",
              "1   1649.315970    1594.120141     0.338042       0.007707         10   \n",
              "2   1649.315970    1594.120141     0.353668       0.007844         10   \n",
              "3   1649.361827    1587.811250     0.344869       0.007847         10   \n",
              "4   1649.642399    1591.045828     0.339082       0.007851         10   \n",
              "\n",
              "   min_samples_leaf  min_samples_split  \n",
              "0                10                 23  \n",
              "1                10                  3  \n",
              "2                10                 13  \n",
              "3                 5                 13  \n",
              "4                 5                 23  "
            ]
          },
          "execution_count": 28,
          "metadata": {},
          "output_type": "execute_result"
        }
      ],
      "source": [
        "%%time\n",
        "params = {'max_depth': range(5, 15, 5),\n",
        "          'min_samples_split': range(3, 31, 10),\n",
        "          'min_samples_leaf': range(5, 15, 5)}\n",
        "grid_dt_oe = GridSearchCV(DecisionTreeRegressor(random_state=42),\n",
        "                          param_grid=params, n_jobs=-1,\n",
        "                          **common_cv_params)\n",
        "grid_dt_oe.fit(features_oe_train, target_train)\n",
        "\n",
        "print('DecisionTreeRegressor for ordinal encoded features')\n",
        "best_cv_models(grid_dt_oe, 5)"
      ]
    },
    {
      "cell_type": "code",
      "execution_count": null,
      "metadata": {
        "id": "04qfx7JfDmUL",
        "outputId": "a8cef29b-0534-425e-fe34-c93d1315d42d"
      },
      "outputs": [
        {
          "name": "stdout",
          "output_type": "stream",
          "text": [
            "DecisionTreeRegressor for OHE encoded features\n",
            "Estimator: DecisionTreeRegressor(random_state=42)\n",
            "Tested 12 models on 5 folds\n",
            "Best RMSE = 1644.5297628395406\n",
            "\n",
            "CPU times: user 2min 59s, sys: 24 s, total: 3min 23s\n",
            "Wall time: 3min 24s\n"
          ]
        },
        {
          "data": {
            "text/html": [
              "<div>\n",
              "<style scoped>\n",
              "    .dataframe tbody tr th:only-of-type {\n",
              "        vertical-align: middle;\n",
              "    }\n",
              "\n",
              "    .dataframe tbody tr th {\n",
              "        vertical-align: top;\n",
              "    }\n",
              "\n",
              "    .dataframe thead th {\n",
              "        text-align: right;\n",
              "    }\n",
              "</style>\n",
              "<table border=\"1\" class=\"dataframe\">\n",
              "  <thead>\n",
              "    <tr style=\"text-align: right;\">\n",
              "      <th></th>\n",
              "      <th>RMSE test, €</th>\n",
              "      <th>RMSE train, €</th>\n",
              "      <th>fit time, s</th>\n",
              "      <th>score time, s</th>\n",
              "      <th>max_depth</th>\n",
              "      <th>min_samples_leaf</th>\n",
              "      <th>min_samples_split</th>\n",
              "    </tr>\n",
              "  </thead>\n",
              "  <tbody>\n",
              "    <tr>\n",
              "      <th>0</th>\n",
              "      <td>1644.529763</td>\n",
              "      <td>1597.609525</td>\n",
              "      <td>3.700446</td>\n",
              "      <td>0.082173</td>\n",
              "      <td>10</td>\n",
              "      <td>5</td>\n",
              "      <td>23</td>\n",
              "    </tr>\n",
              "    <tr>\n",
              "      <th>1</th>\n",
              "      <td>1644.876635</td>\n",
              "      <td>1602.196212</td>\n",
              "      <td>3.798854</td>\n",
              "      <td>0.082680</td>\n",
              "      <td>10</td>\n",
              "      <td>10</td>\n",
              "      <td>23</td>\n",
              "    </tr>\n",
              "    <tr>\n",
              "      <th>2</th>\n",
              "      <td>1644.899697</td>\n",
              "      <td>1601.906804</td>\n",
              "      <td>3.859088</td>\n",
              "      <td>0.085257</td>\n",
              "      <td>10</td>\n",
              "      <td>10</td>\n",
              "      <td>3</td>\n",
              "    </tr>\n",
              "    <tr>\n",
              "      <th>3</th>\n",
              "      <td>1644.899697</td>\n",
              "      <td>1601.906804</td>\n",
              "      <td>3.805862</td>\n",
              "      <td>0.083441</td>\n",
              "      <td>10</td>\n",
              "      <td>10</td>\n",
              "      <td>13</td>\n",
              "    </tr>\n",
              "    <tr>\n",
              "      <th>4</th>\n",
              "      <td>1645.689933</td>\n",
              "      <td>1594.621008</td>\n",
              "      <td>3.696201</td>\n",
              "      <td>0.082742</td>\n",
              "      <td>10</td>\n",
              "      <td>5</td>\n",
              "      <td>3</td>\n",
              "    </tr>\n",
              "  </tbody>\n",
              "</table>\n",
              "</div>"
            ],
            "text/plain": [
              "   RMSE test, €  RMSE train, €  fit time, s  score time, s  max_depth  \\\n",
              "0   1644.529763    1597.609525     3.700446       0.082173         10   \n",
              "1   1644.876635    1602.196212     3.798854       0.082680         10   \n",
              "2   1644.899697    1601.906804     3.859088       0.085257         10   \n",
              "3   1644.899697    1601.906804     3.805862       0.083441         10   \n",
              "4   1645.689933    1594.621008     3.696201       0.082742         10   \n",
              "\n",
              "   min_samples_leaf  min_samples_split  \n",
              "0                 5                 23  \n",
              "1                10                 23  \n",
              "2                10                  3  \n",
              "3                10                 13  \n",
              "4                 5                  3  "
            ]
          },
          "execution_count": 29,
          "metadata": {},
          "output_type": "execute_result"
        }
      ],
      "source": [
        "%%time\n",
        "params = {'max_depth': range(5, 15, 5),\n",
        "          'min_samples_split': range(3, 31, 10),\n",
        "          'min_samples_leaf': range(5, 15, 5)}\n",
        "grid_dt_ohe = GridSearchCV(DecisionTreeRegressor(random_state=42),\n",
        "                           param_grid=params, n_jobs=-1,\n",
        "                           **common_cv_params)\n",
        "grid_dt_ohe.fit(features_ohe_train, target_train)\n",
        "\n",
        "print('DecisionTreeRegressor for OHE encoded features')\n",
        "best_cv_models(grid_dt_ohe, 5)"
      ]
    },
    {
      "cell_type": "code",
      "execution_count": null,
      "metadata": {
        "id": "eiu9MRJkDmUL"
      },
      "outputs": [],
      "source": [
        "models['DecisionTree'] = {\n",
        "    'OE':  DecisionTreeRegressor(random_state=42, **grid_dt_oe.best_params_),\n",
        "    'OHE': DecisionTreeRegressor(random_state=42, **grid_dt_ohe.best_params_)\n",
        "}"
      ]
    },
    {
      "cell_type": "markdown",
      "metadata": {
        "id": "UP_dGK7UDmUL"
      },
      "source": [
        "**Lightgbm**"
      ]
    },
    {
      "cell_type": "code",
      "execution_count": null,
      "metadata": {
        "id": "U8ynqNOZDmUM"
      },
      "outputs": [],
      "source": [
        "# common_lgb_params = {'metric': 'rmse',\n",
        "#                      'random_state': 42,\n",
        "#                      'n_estimators': 200 }"
      ]
    },
    {
      "cell_type": "code",
      "execution_count": null,
      "metadata": {
        "id": "sf-kCdhHDmUM"
      },
      "outputs": [],
      "source": [
        "# %%time\n",
        "# params = {'max_depth': [10, 15],\n",
        "#           'learning_rate': [0.05, 0.06, 0.07],\n",
        "#           'num_leaves': [75]}\n",
        "# grid_lgb = GridSearchCV(LGBMRegressor(**common_lgb_params),\n",
        "#                         param_grid=params, **common_cv_params)\n",
        "# grid_lgb.fit(features_train, target_train)\n",
        "\n",
        "# print('LGBMRegressor with categorical features')\n",
        "# best_cv_models(grid_lgb, 5)"
      ]
    },
    {
      "cell_type": "code",
      "execution_count": null,
      "metadata": {
        "id": "2IeUGCyQDmUM"
      },
      "outputs": [],
      "source": [
        "# %%time\n",
        "# params = {'max_depth': [10, 15],\n",
        "#           'learning_rate': [0.05, 0.06, 0.07],\n",
        "#           'num_leaves': [75]}\n",
        "# grid_lgb_oe = GridSearchCV(LGBMRegressor(**common_lgb_params),\n",
        "#                            param_grid=params, **common_cv_params)\n",
        "# grid_lgb_oe.fit(features_oe_train, target_train)\n",
        "\n",
        "# print('LGBMRegressor for ordinal encoded features')\n",
        "# best_cv_models(grid_lgb_oe, 5)"
      ]
    },
    {
      "cell_type": "code",
      "execution_count": null,
      "metadata": {
        "id": "yT-iDXxPDmUM"
      },
      "outputs": [],
      "source": [
        "# %%time\n",
        "# params = {'max_depth': [10, 15],\n",
        "#           'learning_rate': [0.05, 0.06, 0.07],\n",
        "#           'num_leaves': [75]}\n",
        "# grid_lgb_ohe = GridSearchCV(LGBMRegressor(**common_lgb_params),\n",
        "#                            param_grid=params, **common_cv_params)\n",
        "# grid_lgb_ohe.fit(features_ohe_train, target_train)\n",
        "\n",
        "# print('LGBMRegressor for OHE encoded features')\n",
        "# best_cv_models(grid_lgb_ohe, 5)"
      ]
    },
    {
      "cell_type": "code",
      "execution_count": null,
      "metadata": {
        "id": "M_FCZUoRDmUM"
      },
      "outputs": [],
      "source": [
        "# models['LGBM'] = {\n",
        "#     'raw': LGBMRegressor(**common_lgb_params, **grid_lgb.best_params_),\n",
        "#     'OE' : LGBMRegressor(**common_lgb_params, **grid_lgb_oe.best_params_),\n",
        "#     'OHE': LGBMRegressor(**common_lgb_params, **grid_lgb_ohe.best_params_)\n",
        "# }"
      ]
    },
    {
      "cell_type": "markdown",
      "metadata": {
        "id": "a3VCU08JDmUM"
      },
      "source": [
        "**CatBoost**"
      ]
    },
    {
      "cell_type": "code",
      "execution_count": null,
      "metadata": {
        "id": "ZvE8AX6UDmUM"
      },
      "outputs": [],
      "source": [
        "common_cbr_params = {'loss_function': 'RMSE',\n",
        "                     'random_state': 42, \n",
        "                     'verbose': False,\n",
        "                     'n_estimators': 200}"
      ]
    },
    {
      "cell_type": "code",
      "execution_count": null,
      "metadata": {
        "id": "JGSimc6cDmUM",
        "outputId": "b86095fc-70e0-4a2f-8df0-7dee5b1dd179"
      },
      "outputs": [
        {
          "name": "stdout",
          "output_type": "stream",
          "text": [
            "CatBoostRegressor with catgorical features (CPU)\n",
            "Estimator: <catboost.core.CatBoostRegressor object at 0x7f146c6aed00>\n",
            "Tested 1 models on 5 folds\n",
            "Best RMSE = 1764.5204609741975\n",
            "\n",
            "CPU times: user 32.2 s, sys: 337 ms, total: 32.5 s\n",
            "Wall time: 39.7 s\n"
          ]
        },
        {
          "data": {
            "text/html": [
              "<div>\n",
              "<style scoped>\n",
              "    .dataframe tbody tr th:only-of-type {\n",
              "        vertical-align: middle;\n",
              "    }\n",
              "\n",
              "    .dataframe tbody tr th {\n",
              "        vertical-align: top;\n",
              "    }\n",
              "\n",
              "    .dataframe thead th {\n",
              "        text-align: right;\n",
              "    }\n",
              "</style>\n",
              "<table border=\"1\" class=\"dataframe\">\n",
              "  <thead>\n",
              "    <tr style=\"text-align: right;\">\n",
              "      <th></th>\n",
              "      <th>RMSE test, €</th>\n",
              "      <th>RMSE train, €</th>\n",
              "      <th>fit time, s</th>\n",
              "      <th>score time, s</th>\n",
              "      <th>max_depth</th>\n",
              "    </tr>\n",
              "  </thead>\n",
              "  <tbody>\n",
              "    <tr>\n",
              "      <th>0</th>\n",
              "      <td>1764.520461</td>\n",
              "      <td>1763.029459</td>\n",
              "      <td>6.318364</td>\n",
              "      <td>0.032242</td>\n",
              "      <td>1</td>\n",
              "    </tr>\n",
              "  </tbody>\n",
              "</table>\n",
              "</div>"
            ],
            "text/plain": [
              "   RMSE test, €  RMSE train, €  fit time, s  score time, s  max_depth\n",
              "0   1764.520461    1763.029459     6.318364       0.032242          1"
            ]
          },
          "execution_count": 37,
          "metadata": {},
          "output_type": "execute_result"
        }
      ],
      "source": [
        "%%time\n",
        "params = {'max_depth': [1]}\n",
        "grid_ctb = GridSearchCV(\n",
        "    CatBoostRegressor(**common_cbr_params, cat_features=cat_features),\n",
        "    param_grid=params, **common_cv_params)\n",
        "grid_ctb.fit(features_train, target_train)\n",
        "\n",
        "print('CatBoostRegressor with catgorical features (CPU)')\n",
        "best_cv_models(grid_ctb, 5)"
      ]
    },
    {
      "cell_type": "code",
      "execution_count": null,
      "metadata": {
        "id": "xQfoaB_hDmUM",
        "outputId": "8e4e4e52-fe0e-4f40-9971-1b234f75a574"
      },
      "outputs": [
        {
          "name": "stdout",
          "output_type": "stream",
          "text": [
            "CatBoostRegressor for ordinal encoded features\n",
            "Estimator: <catboost.core.CatBoostRegressor object at 0x7f146afd5e50>\n",
            "Tested 1 models on 5 folds\n",
            "Best RMSE = 1420.6079669446092\n",
            "\n",
            "CPU times: user 27.6 s, sys: 204 ms, total: 27.9 s\n",
            "Wall time: 35 s\n"
          ]
        },
        {
          "data": {
            "text/html": [
              "<div>\n",
              "<style scoped>\n",
              "    .dataframe tbody tr th:only-of-type {\n",
              "        vertical-align: middle;\n",
              "    }\n",
              "\n",
              "    .dataframe tbody tr th {\n",
              "        vertical-align: top;\n",
              "    }\n",
              "\n",
              "    .dataframe thead th {\n",
              "        text-align: right;\n",
              "    }\n",
              "</style>\n",
              "<table border=\"1\" class=\"dataframe\">\n",
              "  <thead>\n",
              "    <tr style=\"text-align: right;\">\n",
              "      <th></th>\n",
              "      <th>RMSE test, €</th>\n",
              "      <th>RMSE train, €</th>\n",
              "      <th>fit time, s</th>\n",
              "      <th>score time, s</th>\n",
              "      <th>max_depth</th>\n",
              "    </tr>\n",
              "  </thead>\n",
              "  <tbody>\n",
              "    <tr>\n",
              "      <th>0</th>\n",
              "      <td>1420.607967</td>\n",
              "      <td>1397.62083</td>\n",
              "      <td>5.700831</td>\n",
              "      <td>0.013169</td>\n",
              "      <td>4</td>\n",
              "    </tr>\n",
              "  </tbody>\n",
              "</table>\n",
              "</div>"
            ],
            "text/plain": [
              "   RMSE test, €  RMSE train, €  fit time, s  score time, s  max_depth\n",
              "0   1420.607967     1397.62083     5.700831       0.013169          4"
            ]
          },
          "execution_count": 38,
          "metadata": {},
          "output_type": "execute_result"
        }
      ],
      "source": [
        "%%time\n",
        "params = {'max_depth': [4]}\n",
        "grid_ctb_oe = GridSearchCV(CatBoostRegressor(**common_cbr_params),\n",
        "                           param_grid=params, **common_cv_params)\n",
        "grid_ctb_oe.fit(features_oe_train, target_train)\n",
        "\n",
        "print('CatBoostRegressor for ordinal encoded features')\n",
        "best_cv_models(grid_ctb_oe, 5)"
      ]
    },
    {
      "cell_type": "code",
      "execution_count": null,
      "metadata": {
        "id": "EQZFW5j0DmUN",
        "outputId": "e9d1e746-110b-4816-d38e-aa561592767b"
      },
      "outputs": [
        {
          "name": "stdout",
          "output_type": "stream",
          "text": [
            "CatBoostRegressor for OHE encoded features\n",
            "Estimator: <catboost.core.CatBoostRegressor object at 0x7f146b8c7ac0>\n",
            "Tested 9 models on 5 folds\n",
            "Best RMSE = 1428.8211394362227\n",
            "\n",
            "CPU times: user 4min 40s, sys: 3.04 s, total: 4min 43s\n",
            "Wall time: 5min 22s\n"
          ]
        },
        {
          "data": {
            "text/html": [
              "<div>\n",
              "<style scoped>\n",
              "    .dataframe tbody tr th:only-of-type {\n",
              "        vertical-align: middle;\n",
              "    }\n",
              "\n",
              "    .dataframe tbody tr th {\n",
              "        vertical-align: top;\n",
              "    }\n",
              "\n",
              "    .dataframe thead th {\n",
              "        text-align: right;\n",
              "    }\n",
              "</style>\n",
              "<table border=\"1\" class=\"dataframe\">\n",
              "  <thead>\n",
              "    <tr style=\"text-align: right;\">\n",
              "      <th></th>\n",
              "      <th>RMSE test, €</th>\n",
              "      <th>RMSE train, €</th>\n",
              "      <th>fit time, s</th>\n",
              "      <th>score time, s</th>\n",
              "      <th>learning_rate</th>\n",
              "      <th>max_depth</th>\n",
              "    </tr>\n",
              "  </thead>\n",
              "  <tbody>\n",
              "    <tr>\n",
              "      <th>0</th>\n",
              "      <td>1428.821139</td>\n",
              "      <td>1411.322911</td>\n",
              "      <td>8.399632</td>\n",
              "      <td>0.039441</td>\n",
              "      <td>0.07</td>\n",
              "      <td>8</td>\n",
              "    </tr>\n",
              "    <tr>\n",
              "      <th>1</th>\n",
              "      <td>1441.698476</td>\n",
              "      <td>1426.674823</td>\n",
              "      <td>8.742792</td>\n",
              "      <td>0.041725</td>\n",
              "      <td>0.06</td>\n",
              "      <td>8</td>\n",
              "    </tr>\n",
              "    <tr>\n",
              "      <th>2</th>\n",
              "      <td>1458.682962</td>\n",
              "      <td>1445.196614</td>\n",
              "      <td>8.622452</td>\n",
              "      <td>0.042046</td>\n",
              "      <td>0.05</td>\n",
              "      <td>8</td>\n",
              "    </tr>\n",
              "    <tr>\n",
              "      <th>3</th>\n",
              "      <td>1540.780844</td>\n",
              "      <td>1535.435130</td>\n",
              "      <td>6.349555</td>\n",
              "      <td>0.030327</td>\n",
              "      <td>0.07</td>\n",
              "      <td>4</td>\n",
              "    </tr>\n",
              "    <tr>\n",
              "      <th>4</th>\n",
              "      <td>1561.448742</td>\n",
              "      <td>1556.432546</td>\n",
              "      <td>6.311375</td>\n",
              "      <td>0.033235</td>\n",
              "      <td>0.06</td>\n",
              "      <td>4</td>\n",
              "    </tr>\n",
              "  </tbody>\n",
              "</table>\n",
              "</div>"
            ],
            "text/plain": [
              "   RMSE test, €  RMSE train, €  fit time, s  score time, s  learning_rate  \\\n",
              "0   1428.821139    1411.322911     8.399632       0.039441           0.07   \n",
              "1   1441.698476    1426.674823     8.742792       0.041725           0.06   \n",
              "2   1458.682962    1445.196614     8.622452       0.042046           0.05   \n",
              "3   1540.780844    1535.435130     6.349555       0.030327           0.07   \n",
              "4   1561.448742    1556.432546     6.311375       0.033235           0.06   \n",
              "\n",
              "   max_depth  \n",
              "0          8  \n",
              "1          8  \n",
              "2          8  \n",
              "3          4  \n",
              "4          4  "
            ]
          },
          "execution_count": 39,
          "metadata": {},
          "output_type": "execute_result"
        }
      ],
      "source": [
        "%%time\n",
        "params = {'max_depth': [2, 4, 8],\n",
        "          'learning_rate': [0.05, 0.06, 0.07]}\n",
        "grid_ctb_ohe = GridSearchCV(CatBoostRegressor(**common_cbr_params),\n",
        "                            param_grid=params, **common_cv_params)\n",
        "grid_ctb_ohe.fit(features_ohe_train, target_train)\n",
        "\n",
        "print('CatBoostRegressor for OHE encoded features')\n",
        "best_cv_models(grid_ctb_ohe, 5)"
      ]
    },
    {
      "cell_type": "code",
      "execution_count": null,
      "metadata": {
        "id": "luF827DwDmUN"
      },
      "outputs": [],
      "source": [
        "models['CatBoost'] = {\n",
        "    'raw': CatBoostRegressor(**common_cbr_params, learning_rate=0.2, max_depth=4,\n",
        "                             cat_features=cat_features),\n",
        "    'OE' : CatBoostRegressor(**common_cbr_params, learning_rate=0.2, max_depth=8),\n",
        "    'OHE': CatBoostRegressor(**common_cbr_params, learning_rate=0.2, max_depth=8)\n",
        "}"
      ]
    },
    {
      "cell_type": "code",
      "execution_count": null,
      "metadata": {
        "id": "yfrirOFvDmUN"
      },
      "outputs": [],
      "source": [
        "# def test_model(model, features_train, target_train, features_test, target_test):\n",
        "#     ''' \n",
        "#     - Обучение модели `model` на выборках `features_train`, `target_train`\n",
        "#     - Предсказание обученной модели на наборе `features_test`\n",
        "#     - Вычисление RMSE на полученных предсказаниях и наборе `target_test`\n",
        "    \n",
        "#     Возвращает RMSE, время обучения, время пердсказаний в виде словаря\n",
        "#     '''\n",
        "\n",
        "#     t_beg = time.time()\n",
        "#     model.fit(features_train, target_train)\n",
        "#     time_fit = time.time() - t_beg\n",
        "    \n",
        "#     t_beg = time.time()\n",
        "#     y_pred = model.predict(features_test)\n",
        "#     time_predict = time.time() - t_beg\n",
        "    \n",
        "#     rmse = mean_squared_error(target_test, y_pred, squared=False)\n",
        "\n",
        "#     return {'RMSE, €': rmse,\n",
        "#             'fit time, s': time_fit,\n",
        "#             'predict time, s':time_predict}"
      ]
    },
    {
      "cell_type": "markdown",
      "metadata": {
        "id": "vD60-1zfDmUN"
      },
      "source": [
        "## Анализ моделей"
      ]
    },
    {
      "cell_type": "code",
      "execution_count": null,
      "metadata": {
        "id": "NCKWSyKCDmUN"
      },
      "outputs": [],
      "source": [
        "# scores_table = {}\n",
        "\n",
        "# for name, regressor in tqdm(models.items()):\n",
        "#     for f, model in regressor.items():\n",
        "#         scores_table[name, f] = test_model(model, features_train[f][0], target_train, features_test[f][1], target_test) \n",
        "\n",
        "# scores_table = pd.DataFrame(scores_table).T\n",
        "# scores_table"
      ]
    },
    {
      "cell_type": "code",
      "execution_count": null,
      "metadata": {
        "id": "kAmn--kWDmUN"
      },
      "outputs": [],
      "source": [
        "# def model_elector(model, features_train, target_train, features_test, target_test, best_score):\n",
        "#     now = time.time()\n",
        "#     model.fit(features_train, target_train)\n",
        "#     training_time = time.time() - now\n",
        "    \n",
        "#     now = time.time()\n",
        "#     predicted = model.predict(features_test)\n",
        "#     predict_time = time.time() - now\n",
        "#     rmse = mse(target_test, predicted)**0.5\n",
        "#     cv_rmse = np.sqrt(-1 * best_score)\n",
        "#     return training_time, predict_time, rmse, cv_rmse"
      ]
    },
    {
      "cell_type": "code",
      "execution_count": null,
      "metadata": {
        "id": "ZeoOTeJeDmUN",
        "outputId": "ef3938b0-bcca-403b-ed43-d76e069b45d6"
      },
      "outputs": [
        {
          "ename": "ValueError",
          "evalue": "could not convert string to float: 'bus'",
          "output_type": "error",
          "traceback": [
            "\u001b[0;31m---------------------------------------------------------------------------\u001b[0m",
            "\u001b[0;31mValueError\u001b[0m                                Traceback (most recent call last)",
            "\u001b[0;32m/tmp/ipykernel_267/2645552667.py\u001b[0m in \u001b[0;36m<module>\u001b[0;34m\u001b[0m\n\u001b[1;32m      1\u001b[0m \u001b[0mmodels\u001b[0m \u001b[0;34m=\u001b[0m \u001b[0;34m[\u001b[0m\u001b[0;34m]\u001b[0m\u001b[0;34m\u001b[0m\u001b[0;34m\u001b[0m\u001b[0m\n\u001b[0;32m----> 2\u001b[0;31m \u001b[0mmodels\u001b[0m\u001b[0;34m.\u001b[0m\u001b[0mappend\u001b[0m\u001b[0;34m(\u001b[0m\u001b[0mmodel_elector\u001b[0m\u001b[0;34m(\u001b[0m\u001b[0mgrid_dt_ohe\u001b[0m\u001b[0;34m.\u001b[0m\u001b[0mbest_estimator_\u001b[0m\u001b[0;34m,\u001b[0m \u001b[0mfeatures_train\u001b[0m\u001b[0;34m,\u001b[0m \u001b[0mtarget_train\u001b[0m\u001b[0;34m,\u001b[0m \u001b[0mfeatures_test\u001b[0m\u001b[0;34m,\u001b[0m \u001b[0mtarget_test\u001b[0m\u001b[0;34m,\u001b[0m \u001b[0mgrid_dt_ohe\u001b[0m\u001b[0;34m.\u001b[0m\u001b[0mbest_score_\u001b[0m\u001b[0;34m)\u001b[0m\u001b[0;34m)\u001b[0m\u001b[0;34m\u001b[0m\u001b[0;34m\u001b[0m\u001b[0m\n\u001b[0m\u001b[1;32m      3\u001b[0m \u001b[0mmodels\u001b[0m\u001b[0;34m.\u001b[0m\u001b[0mappend\u001b[0m\u001b[0;34m(\u001b[0m\u001b[0mmodel_elector\u001b[0m\u001b[0;34m(\u001b[0m\u001b[0mgrid_ctb_oe\u001b[0m\u001b[0;34m.\u001b[0m\u001b[0mbest_estimator_\u001b[0m\u001b[0;34m,\u001b[0m \u001b[0mfeatures_train\u001b[0m\u001b[0;34m,\u001b[0m \u001b[0mtarget_train\u001b[0m\u001b[0;34m,\u001b[0m \u001b[0mfeatures_test\u001b[0m\u001b[0;34m,\u001b[0m \u001b[0mtarget_test\u001b[0m\u001b[0;34m,\u001b[0m \u001b[0mgrid_ctb_oe\u001b[0m\u001b[0;34m.\u001b[0m\u001b[0mbest_score_\u001b[0m\u001b[0;34m)\u001b[0m\u001b[0;34m)\u001b[0m\u001b[0;34m\u001b[0m\u001b[0;34m\u001b[0m\u001b[0m\n\u001b[1;32m      4\u001b[0m \u001b[0mmodels\u001b[0m\u001b[0;34m.\u001b[0m\u001b[0mappend\u001b[0m\u001b[0;34m(\u001b[0m\u001b[0mmodel_elector\u001b[0m\u001b[0;34m(\u001b[0m\u001b[0mgrid_lgb\u001b[0m\u001b[0;34m.\u001b[0m\u001b[0mbest_estimator_\u001b[0m\u001b[0;34m,\u001b[0m \u001b[0mfeatures_train\u001b[0m\u001b[0;34m,\u001b[0m \u001b[0mtarget_train\u001b[0m\u001b[0;34m,\u001b[0m \u001b[0mfeatures_test\u001b[0m\u001b[0;34m,\u001b[0m \u001b[0mtarget_test\u001b[0m\u001b[0;34m,\u001b[0m \u001b[0mgrid_lgb\u001b[0m\u001b[0;34m.\u001b[0m\u001b[0mbest_score_\u001b[0m\u001b[0;34m)\u001b[0m\u001b[0;34m)\u001b[0m\u001b[0;34m\u001b[0m\u001b[0;34m\u001b[0m\u001b[0m\n",
            "\u001b[0;32m/tmp/ipykernel_267/1339921218.py\u001b[0m in \u001b[0;36mmodel_elector\u001b[0;34m(model, features_train, target_train, features_test, target_test, best_score)\u001b[0m\n\u001b[1;32m      1\u001b[0m \u001b[0;32mdef\u001b[0m \u001b[0mmodel_elector\u001b[0m\u001b[0;34m(\u001b[0m\u001b[0mmodel\u001b[0m\u001b[0;34m,\u001b[0m \u001b[0mfeatures_train\u001b[0m\u001b[0;34m,\u001b[0m \u001b[0mtarget_train\u001b[0m\u001b[0;34m,\u001b[0m \u001b[0mfeatures_test\u001b[0m\u001b[0;34m,\u001b[0m \u001b[0mtarget_test\u001b[0m\u001b[0;34m,\u001b[0m \u001b[0mbest_score\u001b[0m\u001b[0;34m)\u001b[0m\u001b[0;34m:\u001b[0m\u001b[0;34m\u001b[0m\u001b[0;34m\u001b[0m\u001b[0m\n\u001b[1;32m      2\u001b[0m     \u001b[0mnow\u001b[0m \u001b[0;34m=\u001b[0m \u001b[0mtime\u001b[0m\u001b[0;34m.\u001b[0m\u001b[0mtime\u001b[0m\u001b[0;34m(\u001b[0m\u001b[0;34m)\u001b[0m\u001b[0;34m\u001b[0m\u001b[0;34m\u001b[0m\u001b[0m\n\u001b[0;32m----> 3\u001b[0;31m     \u001b[0mmodel\u001b[0m\u001b[0;34m.\u001b[0m\u001b[0mfit\u001b[0m\u001b[0;34m(\u001b[0m\u001b[0mfeatures_train\u001b[0m\u001b[0;34m,\u001b[0m \u001b[0mtarget_train\u001b[0m\u001b[0;34m)\u001b[0m\u001b[0;34m\u001b[0m\u001b[0;34m\u001b[0m\u001b[0m\n\u001b[0m\u001b[1;32m      4\u001b[0m     \u001b[0mtraining_time\u001b[0m \u001b[0;34m=\u001b[0m \u001b[0mtime\u001b[0m\u001b[0;34m.\u001b[0m\u001b[0mtime\u001b[0m\u001b[0;34m(\u001b[0m\u001b[0;34m)\u001b[0m \u001b[0;34m-\u001b[0m \u001b[0mnow\u001b[0m\u001b[0;34m\u001b[0m\u001b[0;34m\u001b[0m\u001b[0m\n\u001b[1;32m      5\u001b[0m \u001b[0;34m\u001b[0m\u001b[0m\n",
            "\u001b[0;32m/opt/conda/lib/python3.9/site-packages/sklearn/tree/_classes.py\u001b[0m in \u001b[0;36mfit\u001b[0;34m(self, X, y, sample_weight, check_input, X_idx_sorted)\u001b[0m\n\u001b[1;32m   1245\u001b[0m         \"\"\"\n\u001b[1;32m   1246\u001b[0m \u001b[0;34m\u001b[0m\u001b[0m\n\u001b[0;32m-> 1247\u001b[0;31m         super().fit(\n\u001b[0m\u001b[1;32m   1248\u001b[0m             \u001b[0mX\u001b[0m\u001b[0;34m,\u001b[0m \u001b[0my\u001b[0m\u001b[0;34m,\u001b[0m\u001b[0;34m\u001b[0m\u001b[0;34m\u001b[0m\u001b[0m\n\u001b[1;32m   1249\u001b[0m             \u001b[0msample_weight\u001b[0m\u001b[0;34m=\u001b[0m\u001b[0msample_weight\u001b[0m\u001b[0;34m,\u001b[0m\u001b[0;34m\u001b[0m\u001b[0;34m\u001b[0m\u001b[0m\n",
            "\u001b[0;32m/opt/conda/lib/python3.9/site-packages/sklearn/tree/_classes.py\u001b[0m in \u001b[0;36mfit\u001b[0;34m(self, X, y, sample_weight, check_input, X_idx_sorted)\u001b[0m\n\u001b[1;32m    154\u001b[0m             \u001b[0mcheck_X_params\u001b[0m \u001b[0;34m=\u001b[0m \u001b[0mdict\u001b[0m\u001b[0;34m(\u001b[0m\u001b[0mdtype\u001b[0m\u001b[0;34m=\u001b[0m\u001b[0mDTYPE\u001b[0m\u001b[0;34m,\u001b[0m \u001b[0maccept_sparse\u001b[0m\u001b[0;34m=\u001b[0m\u001b[0;34m\"csc\"\u001b[0m\u001b[0;34m)\u001b[0m\u001b[0;34m\u001b[0m\u001b[0;34m\u001b[0m\u001b[0m\n\u001b[1;32m    155\u001b[0m             \u001b[0mcheck_y_params\u001b[0m \u001b[0;34m=\u001b[0m \u001b[0mdict\u001b[0m\u001b[0;34m(\u001b[0m\u001b[0mensure_2d\u001b[0m\u001b[0;34m=\u001b[0m\u001b[0;32mFalse\u001b[0m\u001b[0;34m,\u001b[0m \u001b[0mdtype\u001b[0m\u001b[0;34m=\u001b[0m\u001b[0;32mNone\u001b[0m\u001b[0;34m)\u001b[0m\u001b[0;34m\u001b[0m\u001b[0;34m\u001b[0m\u001b[0m\n\u001b[0;32m--> 156\u001b[0;31m             X, y = self._validate_data(X, y,\n\u001b[0m\u001b[1;32m    157\u001b[0m                                        validate_separately=(check_X_params,\n\u001b[1;32m    158\u001b[0m                                                             check_y_params))\n",
            "\u001b[0;32m/opt/conda/lib/python3.9/site-packages/sklearn/base.py\u001b[0m in \u001b[0;36m_validate_data\u001b[0;34m(self, X, y, reset, validate_separately, **check_params)\u001b[0m\n\u001b[1;32m    428\u001b[0m                 \u001b[0;31m# :(\u001b[0m\u001b[0;34m\u001b[0m\u001b[0;34m\u001b[0m\u001b[0;34m\u001b[0m\u001b[0m\n\u001b[1;32m    429\u001b[0m                 \u001b[0mcheck_X_params\u001b[0m\u001b[0;34m,\u001b[0m \u001b[0mcheck_y_params\u001b[0m \u001b[0;34m=\u001b[0m \u001b[0mvalidate_separately\u001b[0m\u001b[0;34m\u001b[0m\u001b[0;34m\u001b[0m\u001b[0m\n\u001b[0;32m--> 430\u001b[0;31m                 \u001b[0mX\u001b[0m \u001b[0;34m=\u001b[0m \u001b[0mcheck_array\u001b[0m\u001b[0;34m(\u001b[0m\u001b[0mX\u001b[0m\u001b[0;34m,\u001b[0m \u001b[0;34m**\u001b[0m\u001b[0mcheck_X_params\u001b[0m\u001b[0;34m)\u001b[0m\u001b[0;34m\u001b[0m\u001b[0;34m\u001b[0m\u001b[0m\n\u001b[0m\u001b[1;32m    431\u001b[0m                 \u001b[0my\u001b[0m \u001b[0;34m=\u001b[0m \u001b[0mcheck_array\u001b[0m\u001b[0;34m(\u001b[0m\u001b[0my\u001b[0m\u001b[0;34m,\u001b[0m \u001b[0;34m**\u001b[0m\u001b[0mcheck_y_params\u001b[0m\u001b[0;34m)\u001b[0m\u001b[0;34m\u001b[0m\u001b[0;34m\u001b[0m\u001b[0m\n\u001b[1;32m    432\u001b[0m             \u001b[0;32melse\u001b[0m\u001b[0;34m:\u001b[0m\u001b[0;34m\u001b[0m\u001b[0;34m\u001b[0m\u001b[0m\n",
            "\u001b[0;32m/opt/conda/lib/python3.9/site-packages/sklearn/utils/validation.py\u001b[0m in \u001b[0;36minner_f\u001b[0;34m(*args, **kwargs)\u001b[0m\n\u001b[1;32m     61\u001b[0m             \u001b[0mextra_args\u001b[0m \u001b[0;34m=\u001b[0m \u001b[0mlen\u001b[0m\u001b[0;34m(\u001b[0m\u001b[0margs\u001b[0m\u001b[0;34m)\u001b[0m \u001b[0;34m-\u001b[0m \u001b[0mlen\u001b[0m\u001b[0;34m(\u001b[0m\u001b[0mall_args\u001b[0m\u001b[0;34m)\u001b[0m\u001b[0;34m\u001b[0m\u001b[0;34m\u001b[0m\u001b[0m\n\u001b[1;32m     62\u001b[0m             \u001b[0;32mif\u001b[0m \u001b[0mextra_args\u001b[0m \u001b[0;34m<=\u001b[0m \u001b[0;36m0\u001b[0m\u001b[0;34m:\u001b[0m\u001b[0;34m\u001b[0m\u001b[0;34m\u001b[0m\u001b[0m\n\u001b[0;32m---> 63\u001b[0;31m                 \u001b[0;32mreturn\u001b[0m \u001b[0mf\u001b[0m\u001b[0;34m(\u001b[0m\u001b[0;34m*\u001b[0m\u001b[0margs\u001b[0m\u001b[0;34m,\u001b[0m \u001b[0;34m**\u001b[0m\u001b[0mkwargs\u001b[0m\u001b[0;34m)\u001b[0m\u001b[0;34m\u001b[0m\u001b[0;34m\u001b[0m\u001b[0m\n\u001b[0m\u001b[1;32m     64\u001b[0m \u001b[0;34m\u001b[0m\u001b[0m\n\u001b[1;32m     65\u001b[0m             \u001b[0;31m# extra_args > 0\u001b[0m\u001b[0;34m\u001b[0m\u001b[0;34m\u001b[0m\u001b[0;34m\u001b[0m\u001b[0m\n",
            "\u001b[0;32m/opt/conda/lib/python3.9/site-packages/sklearn/utils/validation.py\u001b[0m in \u001b[0;36mcheck_array\u001b[0;34m(array, accept_sparse, accept_large_sparse, dtype, order, copy, force_all_finite, ensure_2d, allow_nd, ensure_min_samples, ensure_min_features, estimator)\u001b[0m\n\u001b[1;32m    614\u001b[0m                     \u001b[0marray\u001b[0m \u001b[0;34m=\u001b[0m \u001b[0marray\u001b[0m\u001b[0;34m.\u001b[0m\u001b[0mastype\u001b[0m\u001b[0;34m(\u001b[0m\u001b[0mdtype\u001b[0m\u001b[0;34m,\u001b[0m \u001b[0mcasting\u001b[0m\u001b[0;34m=\u001b[0m\u001b[0;34m\"unsafe\"\u001b[0m\u001b[0;34m,\u001b[0m \u001b[0mcopy\u001b[0m\u001b[0;34m=\u001b[0m\u001b[0;32mFalse\u001b[0m\u001b[0;34m)\u001b[0m\u001b[0;34m\u001b[0m\u001b[0;34m\u001b[0m\u001b[0m\n\u001b[1;32m    615\u001b[0m                 \u001b[0;32melse\u001b[0m\u001b[0;34m:\u001b[0m\u001b[0;34m\u001b[0m\u001b[0;34m\u001b[0m\u001b[0m\n\u001b[0;32m--> 616\u001b[0;31m                     \u001b[0marray\u001b[0m \u001b[0;34m=\u001b[0m \u001b[0mnp\u001b[0m\u001b[0;34m.\u001b[0m\u001b[0masarray\u001b[0m\u001b[0;34m(\u001b[0m\u001b[0marray\u001b[0m\u001b[0;34m,\u001b[0m \u001b[0morder\u001b[0m\u001b[0;34m=\u001b[0m\u001b[0morder\u001b[0m\u001b[0;34m,\u001b[0m \u001b[0mdtype\u001b[0m\u001b[0;34m=\u001b[0m\u001b[0mdtype\u001b[0m\u001b[0;34m)\u001b[0m\u001b[0;34m\u001b[0m\u001b[0;34m\u001b[0m\u001b[0m\n\u001b[0m\u001b[1;32m    617\u001b[0m             \u001b[0;32mexcept\u001b[0m \u001b[0mComplexWarning\u001b[0m \u001b[0;32mas\u001b[0m \u001b[0mcomplex_warning\u001b[0m\u001b[0;34m:\u001b[0m\u001b[0;34m\u001b[0m\u001b[0;34m\u001b[0m\u001b[0m\n\u001b[1;32m    618\u001b[0m                 raise ValueError(\"Complex data not supported\\n\"\n",
            "\u001b[0;32m/opt/conda/lib/python3.9/site-packages/pandas/core/generic.py\u001b[0m in \u001b[0;36m__array__\u001b[0;34m(self, dtype)\u001b[0m\n\u001b[1;32m   1897\u001b[0m \u001b[0;34m\u001b[0m\u001b[0m\n\u001b[1;32m   1898\u001b[0m     \u001b[0;32mdef\u001b[0m \u001b[0m__array__\u001b[0m\u001b[0;34m(\u001b[0m\u001b[0mself\u001b[0m\u001b[0;34m,\u001b[0m \u001b[0mdtype\u001b[0m\u001b[0;34m=\u001b[0m\u001b[0;32mNone\u001b[0m\u001b[0;34m)\u001b[0m \u001b[0;34m->\u001b[0m \u001b[0mnp\u001b[0m\u001b[0;34m.\u001b[0m\u001b[0mndarray\u001b[0m\u001b[0;34m:\u001b[0m\u001b[0;34m\u001b[0m\u001b[0;34m\u001b[0m\u001b[0m\n\u001b[0;32m-> 1899\u001b[0;31m         \u001b[0;32mreturn\u001b[0m \u001b[0mnp\u001b[0m\u001b[0;34m.\u001b[0m\u001b[0masarray\u001b[0m\u001b[0;34m(\u001b[0m\u001b[0mself\u001b[0m\u001b[0;34m.\u001b[0m\u001b[0m_values\u001b[0m\u001b[0;34m,\u001b[0m \u001b[0mdtype\u001b[0m\u001b[0;34m=\u001b[0m\u001b[0mdtype\u001b[0m\u001b[0;34m)\u001b[0m\u001b[0;34m\u001b[0m\u001b[0;34m\u001b[0m\u001b[0m\n\u001b[0m\u001b[1;32m   1900\u001b[0m \u001b[0;34m\u001b[0m\u001b[0m\n\u001b[1;32m   1901\u001b[0m     def __array_wrap__(\n",
            "\u001b[0;31mValueError\u001b[0m: could not convert string to float: 'bus'"
          ]
        }
      ],
      "source": [
        "models = []\n",
        "models.append(model_elector(grid_dt_ohe.best_estimator_, features_train, target_train, features_test, target_test, grid_dt_ohe.best_score_))\n",
        "models.append(model_elector(grid_ctb_oe.best_estimator_, features_train, target_train, features_test, target_test, grid_ctb_oe.best_score_))\n",
        "models.append(model_elector(grid_lgb.best_estimator_, features_train, target_train, features_test, target_test, grid_lgb.best_score_))"
      ]
    },
    {
      "cell_type": "code",
      "execution_count": null,
      "metadata": {
        "id": "B4p87aPYDmUN"
      },
      "outputs": [],
      "source": [
        "final_models = pd.DataFrame(data=models, index=['Tree', 'CatBoost', 'LightGBM'], columns=['trainig_time', 'predic_time', 'RMSE', 'RMSE on CV']);final_models"
      ]
    },
    {
      "cell_type": "code",
      "execution_count": null,
      "metadata": {
        "id": "o3fPdIM1DmUO"
      },
      "outputs": [],
      "source": [
        "%%time\n",
        "params = {'max_depth': [20],\n",
        "          'learning_rate': [0.2],\n",
        "          'num_leaves': [150]}\n",
        "grid_lgb = GridSearchCV(LGBMRegressor(**common_lgb_params),\n",
        "                        param_grid=params, **common_cv_params)\n",
        "grid_lgb.fit(features_test, target_test)\n",
        "\n",
        "print('LGBMRegressor with categorical features')\n",
        "best_cv_models(grid_lgb, 5)"
      ]
    },
    {
      "cell_type": "markdown",
      "metadata": {
        "id": "WAOSE4XTDmUO"
      },
      "source": [
        "**Вывод:** проведя обучение на моделях, стало понятно что худший результат  у дерева решений, лучший у LGBM, правда скорость его работы медление чем у CatBoost, но нам важен score, поэтому все же предпочтение отдаем LGBM"
      ]
    },
    {
      "cell_type": "markdown",
      "metadata": {
        "id": "cIGLKKaHDmUO"
      },
      "source": [
        "<div class=\"alert alert-block alert-info\">\n",
        "<b>Совет[3]:</b> \n",
        "\n",
        "Также если говорить, что можно ещё улучшить в подобных проектах, то я бы выделил такие моменты:<br>\n",
        "    \n",
        "1) Для понимания, а какие в итоге факторы важны при моделировании, можно выводить их важность, использую feature_importances_, ну и график заодно. Это будет смотреться очнь здорово: результативная метрика и график важности факторов)))\n",
        "    \n",
        "2) У нас разный возраст машин. Есть гипотеза, что для разных возрастов - своё ценообразование. Поэтому, можно попробовать ввести фактор \"тип возраста\" (ретро, супер-ретро, старая, новая... надо подумать..)..<br>\n",
        "\n",
        "</div>"
      ]
    }
  ],
  "metadata": {
    "ExecuteTimeLog": [
      {
        "duration": 523,
        "start_time": "2023-04-12T12:50:21.867Z"
      },
      {
        "duration": 3191,
        "start_time": "2023-04-12T12:51:23.113Z"
      },
      {
        "duration": 28,
        "start_time": "2023-04-12T13:07:00.051Z"
      },
      {
        "duration": 76,
        "start_time": "2023-04-12T13:08:29.071Z"
      },
      {
        "duration": 3,
        "start_time": "2023-04-12T13:08:37.289Z"
      },
      {
        "duration": 30,
        "start_time": "2023-04-12T13:08:41.301Z"
      },
      {
        "duration": 1168,
        "start_time": "2023-04-12T13:08:55.287Z"
      },
      {
        "duration": 180,
        "start_time": "2023-04-12T13:09:19.212Z"
      },
      {
        "duration": 9,
        "start_time": "2023-04-12T13:09:42.221Z"
      },
      {
        "duration": 541,
        "start_time": "2023-04-12T13:09:46.531Z"
      },
      {
        "duration": 1043,
        "start_time": "2023-04-12T13:10:33.238Z"
      },
      {
        "duration": 7,
        "start_time": "2023-04-12T13:10:58.187Z"
      },
      {
        "duration": 13,
        "start_time": "2023-04-12T13:11:15.827Z"
      },
      {
        "duration": 7,
        "start_time": "2023-04-12T13:11:24.903Z"
      },
      {
        "duration": 465,
        "start_time": "2023-04-12T13:12:44.997Z"
      },
      {
        "duration": 1109,
        "start_time": "2023-04-12T13:25:10.632Z"
      },
      {
        "duration": 16,
        "start_time": "2023-04-12T14:43:58.377Z"
      },
      {
        "duration": 4,
        "start_time": "2023-04-12T14:44:11.429Z"
      },
      {
        "duration": 438,
        "start_time": "2023-04-12T14:45:02.320Z"
      },
      {
        "duration": 139957,
        "start_time": "2023-04-12T14:46:20.222Z"
      },
      {
        "duration": 17074,
        "start_time": "2023-04-12T14:49:09.025Z"
      },
      {
        "duration": 191,
        "start_time": "2023-04-12T15:15:42.061Z"
      },
      {
        "duration": 50,
        "start_time": "2023-04-12T15:15:48.662Z"
      },
      {
        "duration": 93,
        "start_time": "2023-04-12T15:16:06.058Z"
      },
      {
        "duration": 118,
        "start_time": "2023-04-12T15:17:05.221Z"
      },
      {
        "duration": 16,
        "start_time": "2023-04-12T15:18:18.674Z"
      },
      {
        "duration": 268,
        "start_time": "2023-04-12T15:18:23.019Z"
      },
      {
        "duration": 115,
        "start_time": "2023-04-12T15:18:30.745Z"
      },
      {
        "duration": 84,
        "start_time": "2023-04-12T15:19:54.039Z"
      },
      {
        "duration": 121,
        "start_time": "2023-04-12T15:20:49.673Z"
      },
      {
        "duration": 7,
        "start_time": "2023-04-12T15:23:05.732Z"
      },
      {
        "duration": 194,
        "start_time": "2023-04-12T15:23:11.471Z"
      },
      {
        "duration": 5,
        "start_time": "2023-04-12T15:24:32.843Z"
      },
      {
        "duration": 111,
        "start_time": "2023-04-12T15:24:37.542Z"
      },
      {
        "duration": 323,
        "start_time": "2023-04-12T15:27:09.104Z"
      },
      {
        "duration": 336,
        "start_time": "2023-04-12T15:27:44.898Z"
      },
      {
        "duration": 17,
        "start_time": "2023-04-12T15:28:14.404Z"
      },
      {
        "duration": 298,
        "start_time": "2023-04-12T15:28:20.834Z"
      },
      {
        "duration": 3975,
        "start_time": "2023-04-12T15:28:34.688Z"
      },
      {
        "duration": 20,
        "start_time": "2023-04-12T15:28:49.157Z"
      },
      {
        "duration": 344,
        "start_time": "2023-04-12T15:28:53.457Z"
      },
      {
        "duration": 1948,
        "start_time": "2023-04-14T08:22:20.289Z"
      },
      {
        "duration": 1407,
        "start_time": "2023-04-14T08:22:22.239Z"
      },
      {
        "duration": 25,
        "start_time": "2023-04-14T08:22:24.731Z"
      },
      {
        "duration": 116,
        "start_time": "2023-04-14T08:22:28.239Z"
      },
      {
        "duration": 676,
        "start_time": "2023-04-14T08:22:30.485Z"
      },
      {
        "duration": 352,
        "start_time": "2023-04-14T08:22:31.845Z"
      },
      {
        "duration": 380,
        "start_time": "2023-04-14T08:22:33.495Z"
      },
      {
        "duration": 339,
        "start_time": "2023-04-14T08:22:35.639Z"
      },
      {
        "duration": 342,
        "start_time": "2023-04-14T08:22:37.708Z"
      },
      {
        "duration": 47,
        "start_time": "2023-04-14T08:22:53.306Z"
      },
      {
        "duration": 29,
        "start_time": "2023-04-14T08:23:31.661Z"
      },
      {
        "duration": 20,
        "start_time": "2023-04-14T08:24:13.647Z"
      },
      {
        "duration": 30,
        "start_time": "2023-04-14T08:24:45.235Z"
      },
      {
        "duration": 134,
        "start_time": "2023-04-14T08:24:59.612Z"
      },
      {
        "duration": 114,
        "start_time": "2023-04-14T08:25:05.799Z"
      },
      {
        "duration": 154,
        "start_time": "2023-04-14T08:25:23.196Z"
      },
      {
        "duration": 155,
        "start_time": "2023-04-14T08:28:26.412Z"
      },
      {
        "duration": 121,
        "start_time": "2023-04-14T08:28:30.202Z"
      },
      {
        "duration": 25,
        "start_time": "2023-04-14T08:29:03.974Z"
      },
      {
        "duration": 23,
        "start_time": "2023-04-14T08:29:14.297Z"
      },
      {
        "duration": 25,
        "start_time": "2023-04-14T08:32:36.385Z"
      },
      {
        "duration": 665,
        "start_time": "2023-04-14T08:38:37.640Z"
      },
      {
        "duration": 629,
        "start_time": "2023-04-14T08:38:52.306Z"
      },
      {
        "duration": 29,
        "start_time": "2023-04-14T08:48:31.470Z"
      },
      {
        "duration": 140,
        "start_time": "2023-04-14T08:49:23.889Z"
      },
      {
        "duration": 13,
        "start_time": "2023-04-14T08:50:27.765Z"
      },
      {
        "duration": 6,
        "start_time": "2023-04-14T08:51:54.130Z"
      },
      {
        "duration": 1598,
        "start_time": "2023-04-14T08:57:39.295Z"
      },
      {
        "duration": 966,
        "start_time": "2023-04-14T08:57:40.895Z"
      },
      {
        "duration": 18,
        "start_time": "2023-04-14T08:57:41.863Z"
      },
      {
        "duration": 126,
        "start_time": "2023-04-14T08:57:41.889Z"
      },
      {
        "duration": 516,
        "start_time": "2023-04-14T08:57:42.019Z"
      },
      {
        "duration": 275,
        "start_time": "2023-04-14T08:57:42.537Z"
      },
      {
        "duration": 291,
        "start_time": "2023-04-14T08:57:42.814Z"
      },
      {
        "duration": 265,
        "start_time": "2023-04-14T08:57:43.106Z"
      },
      {
        "duration": 358,
        "start_time": "2023-04-14T08:57:43.375Z"
      },
      {
        "duration": 118,
        "start_time": "2023-04-14T08:57:43.735Z"
      },
      {
        "duration": 6,
        "start_time": "2023-04-14T08:57:43.856Z"
      },
      {
        "duration": 134,
        "start_time": "2023-04-14T08:57:43.865Z"
      },
      {
        "duration": 3218,
        "start_time": "2023-04-14T08:57:44.001Z"
      },
      {
        "duration": 2865,
        "start_time": "2023-04-14T08:58:29.597Z"
      },
      {
        "duration": 24,
        "start_time": "2023-04-14T09:02:11.477Z"
      },
      {
        "duration": 114,
        "start_time": "2023-04-14T09:02:34.481Z"
      },
      {
        "duration": 3,
        "start_time": "2023-04-14T09:05:04.942Z"
      },
      {
        "duration": 124,
        "start_time": "2023-04-14T09:09:53.894Z"
      },
      {
        "duration": 1569,
        "start_time": "2023-04-14T09:10:13.737Z"
      },
      {
        "duration": 982,
        "start_time": "2023-04-14T09:10:15.308Z"
      },
      {
        "duration": 18,
        "start_time": "2023-04-14T09:10:16.292Z"
      },
      {
        "duration": 141,
        "start_time": "2023-04-14T09:10:16.312Z"
      },
      {
        "duration": 531,
        "start_time": "2023-04-14T09:10:16.455Z"
      },
      {
        "duration": 301,
        "start_time": "2023-04-14T09:10:16.988Z"
      },
      {
        "duration": 300,
        "start_time": "2023-04-14T09:10:17.291Z"
      },
      {
        "duration": 266,
        "start_time": "2023-04-14T09:10:17.593Z"
      },
      {
        "duration": 389,
        "start_time": "2023-04-14T09:10:17.861Z"
      },
      {
        "duration": 140,
        "start_time": "2023-04-14T09:10:18.252Z"
      },
      {
        "duration": 25,
        "start_time": "2023-04-14T09:10:18.394Z"
      },
      {
        "duration": 130,
        "start_time": "2023-04-14T09:10:18.421Z"
      },
      {
        "duration": 3,
        "start_time": "2023-04-14T09:10:18.553Z"
      },
      {
        "duration": 228,
        "start_time": "2023-04-14T09:10:18.558Z"
      },
      {
        "duration": 1597,
        "start_time": "2023-04-14T09:11:10.944Z"
      },
      {
        "duration": 914,
        "start_time": "2023-04-14T09:11:12.542Z"
      },
      {
        "duration": 17,
        "start_time": "2023-04-14T09:11:13.458Z"
      },
      {
        "duration": 126,
        "start_time": "2023-04-14T09:11:13.477Z"
      },
      {
        "duration": 531,
        "start_time": "2023-04-14T09:11:13.605Z"
      },
      {
        "duration": 279,
        "start_time": "2023-04-14T09:11:14.138Z"
      },
      {
        "duration": 337,
        "start_time": "2023-04-14T09:11:14.419Z"
      },
      {
        "duration": 278,
        "start_time": "2023-04-14T09:11:14.757Z"
      },
      {
        "duration": 369,
        "start_time": "2023-04-14T09:11:15.036Z"
      },
      {
        "duration": 139,
        "start_time": "2023-04-14T09:11:15.407Z"
      },
      {
        "duration": 26,
        "start_time": "2023-04-14T09:11:15.548Z"
      },
      {
        "duration": 127,
        "start_time": "2023-04-14T09:11:15.576Z"
      },
      {
        "duration": 3008,
        "start_time": "2023-04-14T09:11:15.704Z"
      },
      {
        "duration": 20,
        "start_time": "2023-04-14T09:19:16.273Z"
      },
      {
        "duration": 5,
        "start_time": "2023-04-14T09:19:37.612Z"
      },
      {
        "duration": 1575,
        "start_time": "2023-04-14T09:20:58.658Z"
      },
      {
        "duration": 1092,
        "start_time": "2023-04-14T09:21:00.236Z"
      },
      {
        "duration": 20,
        "start_time": "2023-04-14T09:21:01.330Z"
      },
      {
        "duration": 129,
        "start_time": "2023-04-14T09:21:01.353Z"
      },
      {
        "duration": 581,
        "start_time": "2023-04-14T09:21:01.484Z"
      },
      {
        "duration": 290,
        "start_time": "2023-04-14T09:21:02.067Z"
      },
      {
        "duration": 326,
        "start_time": "2023-04-14T09:21:02.359Z"
      },
      {
        "duration": 264,
        "start_time": "2023-04-14T09:21:02.688Z"
      },
      {
        "duration": 382,
        "start_time": "2023-04-14T09:21:02.954Z"
      },
      {
        "duration": 137,
        "start_time": "2023-04-14T09:21:03.339Z"
      },
      {
        "duration": 21,
        "start_time": "2023-04-14T09:21:03.478Z"
      },
      {
        "duration": 128,
        "start_time": "2023-04-14T09:21:03.500Z"
      },
      {
        "duration": 1941,
        "start_time": "2023-04-14T09:21:03.630Z"
      },
      {
        "duration": 19,
        "start_time": "2023-04-14T09:21:33.443Z"
      },
      {
        "duration": 1516,
        "start_time": "2023-04-14T09:21:53.356Z"
      },
      {
        "duration": 970,
        "start_time": "2023-04-14T09:21:54.875Z"
      },
      {
        "duration": 17,
        "start_time": "2023-04-14T09:21:55.847Z"
      },
      {
        "duration": 133,
        "start_time": "2023-04-14T09:21:55.865Z"
      },
      {
        "duration": 540,
        "start_time": "2023-04-14T09:21:56.001Z"
      },
      {
        "duration": 303,
        "start_time": "2023-04-14T09:21:56.543Z"
      },
      {
        "duration": 310,
        "start_time": "2023-04-14T09:21:56.848Z"
      },
      {
        "duration": 269,
        "start_time": "2023-04-14T09:21:57.160Z"
      },
      {
        "duration": 360,
        "start_time": "2023-04-14T09:21:57.430Z"
      },
      {
        "duration": 140,
        "start_time": "2023-04-14T09:21:57.792Z"
      },
      {
        "duration": 124,
        "start_time": "2023-04-14T09:21:57.934Z"
      },
      {
        "duration": 0,
        "start_time": "2023-04-14T09:21:58.060Z"
      },
      {
        "duration": 0,
        "start_time": "2023-04-14T09:21:58.061Z"
      },
      {
        "duration": 0,
        "start_time": "2023-04-14T09:21:58.063Z"
      },
      {
        "duration": 122,
        "start_time": "2023-04-14T09:22:16.643Z"
      },
      {
        "duration": 25,
        "start_time": "2023-04-14T09:22:17.059Z"
      },
      {
        "duration": 2955,
        "start_time": "2023-04-14T09:22:21.258Z"
      },
      {
        "duration": 3,
        "start_time": "2023-04-14T09:46:35.023Z"
      },
      {
        "duration": 4,
        "start_time": "2023-04-14T10:47:36.611Z"
      },
      {
        "duration": 10,
        "start_time": "2023-04-14T10:47:37.180Z"
      },
      {
        "duration": 1409,
        "start_time": "2023-04-14T10:48:55.739Z"
      },
      {
        "duration": 948,
        "start_time": "2023-04-14T10:48:57.150Z"
      },
      {
        "duration": 16,
        "start_time": "2023-04-14T10:48:58.100Z"
      },
      {
        "duration": 124,
        "start_time": "2023-04-14T10:48:58.119Z"
      },
      {
        "duration": 535,
        "start_time": "2023-04-14T10:48:58.245Z"
      },
      {
        "duration": 275,
        "start_time": "2023-04-14T10:48:58.782Z"
      },
      {
        "duration": 311,
        "start_time": "2023-04-14T10:48:59.059Z"
      },
      {
        "duration": 267,
        "start_time": "2023-04-14T10:48:59.372Z"
      },
      {
        "duration": 399,
        "start_time": "2023-04-14T10:48:59.641Z"
      },
      {
        "duration": 143,
        "start_time": "2023-04-14T10:49:00.042Z"
      },
      {
        "duration": 124,
        "start_time": "2023-04-14T10:49:00.188Z"
      },
      {
        "duration": 28,
        "start_time": "2023-04-14T10:49:00.324Z"
      },
      {
        "duration": 38,
        "start_time": "2023-04-14T10:49:00.354Z"
      },
      {
        "duration": 38,
        "start_time": "2023-04-14T10:49:00.395Z"
      },
      {
        "duration": 31,
        "start_time": "2023-04-14T10:49:00.435Z"
      },
      {
        "duration": 12873,
        "start_time": "2023-04-14T10:49:00.468Z"
      },
      {
        "duration": 0,
        "start_time": "2023-04-14T10:49:13.343Z"
      },
      {
        "duration": 0,
        "start_time": "2023-04-14T10:49:13.344Z"
      },
      {
        "duration": 0,
        "start_time": "2023-04-14T10:49:13.346Z"
      },
      {
        "duration": 0,
        "start_time": "2023-04-14T10:49:13.347Z"
      },
      {
        "duration": 0,
        "start_time": "2023-04-14T10:49:13.348Z"
      },
      {
        "duration": 96,
        "start_time": "2023-04-14T10:51:30.805Z"
      },
      {
        "duration": 3,
        "start_time": "2023-04-14T11:51:09.829Z"
      },
      {
        "duration": 15,
        "start_time": "2023-04-14T11:52:42.953Z"
      },
      {
        "duration": 2984,
        "start_time": "2023-04-14T11:53:44.903Z"
      },
      {
        "duration": 1414,
        "start_time": "2023-04-14T11:57:54.125Z"
      },
      {
        "duration": 858,
        "start_time": "2023-04-14T11:57:55.541Z"
      },
      {
        "duration": 16,
        "start_time": "2023-04-14T11:57:56.401Z"
      },
      {
        "duration": 115,
        "start_time": "2023-04-14T11:57:56.419Z"
      },
      {
        "duration": 486,
        "start_time": "2023-04-14T11:57:56.536Z"
      },
      {
        "duration": 252,
        "start_time": "2023-04-14T11:57:57.024Z"
      },
      {
        "duration": 265,
        "start_time": "2023-04-14T11:57:57.278Z"
      },
      {
        "duration": 235,
        "start_time": "2023-04-14T11:57:57.545Z"
      },
      {
        "duration": 392,
        "start_time": "2023-04-14T11:57:57.782Z"
      },
      {
        "duration": 113,
        "start_time": "2023-04-14T11:57:58.176Z"
      },
      {
        "duration": 116,
        "start_time": "2023-04-14T11:57:58.291Z"
      },
      {
        "duration": 81,
        "start_time": "2023-04-14T11:57:58.409Z"
      },
      {
        "duration": 2315,
        "start_time": "2023-04-14T11:57:58.491Z"
      },
      {
        "duration": 0,
        "start_time": "2023-04-14T11:58:00.809Z"
      },
      {
        "duration": 0,
        "start_time": "2023-04-14T11:58:00.810Z"
      },
      {
        "duration": 0,
        "start_time": "2023-04-14T11:58:00.811Z"
      },
      {
        "duration": 0,
        "start_time": "2023-04-14T11:58:00.813Z"
      },
      {
        "duration": 0,
        "start_time": "2023-04-14T11:58:00.814Z"
      },
      {
        "duration": 0,
        "start_time": "2023-04-14T11:58:00.816Z"
      },
      {
        "duration": 0,
        "start_time": "2023-04-14T11:58:00.818Z"
      },
      {
        "duration": 0,
        "start_time": "2023-04-14T11:58:00.819Z"
      },
      {
        "duration": 1542,
        "start_time": "2023-04-14T11:59:20.445Z"
      },
      {
        "duration": 929,
        "start_time": "2023-04-14T11:59:21.989Z"
      },
      {
        "duration": 17,
        "start_time": "2023-04-14T11:59:22.920Z"
      },
      {
        "duration": 131,
        "start_time": "2023-04-14T11:59:22.940Z"
      },
      {
        "duration": 544,
        "start_time": "2023-04-14T11:59:23.072Z"
      },
      {
        "duration": 289,
        "start_time": "2023-04-14T11:59:23.618Z"
      },
      {
        "duration": 296,
        "start_time": "2023-04-14T11:59:23.914Z"
      },
      {
        "duration": 257,
        "start_time": "2023-04-14T11:59:24.212Z"
      },
      {
        "duration": 391,
        "start_time": "2023-04-14T11:59:24.471Z"
      },
      {
        "duration": 164,
        "start_time": "2023-04-14T11:59:24.865Z"
      },
      {
        "duration": 141,
        "start_time": "2023-04-14T11:59:25.030Z"
      },
      {
        "duration": 98,
        "start_time": "2023-04-14T11:59:25.174Z"
      },
      {
        "duration": 3168,
        "start_time": "2023-04-14T11:59:25.274Z"
      },
      {
        "duration": 0,
        "start_time": "2023-04-14T11:59:28.444Z"
      },
      {
        "duration": 0,
        "start_time": "2023-04-14T11:59:28.445Z"
      },
      {
        "duration": 0,
        "start_time": "2023-04-14T11:59:28.446Z"
      },
      {
        "duration": 1,
        "start_time": "2023-04-14T11:59:28.447Z"
      },
      {
        "duration": 0,
        "start_time": "2023-04-14T11:59:28.449Z"
      },
      {
        "duration": 0,
        "start_time": "2023-04-14T11:59:28.450Z"
      },
      {
        "duration": 0,
        "start_time": "2023-04-14T11:59:28.451Z"
      },
      {
        "duration": 0,
        "start_time": "2023-04-14T11:59:28.452Z"
      },
      {
        "duration": 1870,
        "start_time": "2023-04-14T12:04:37.382Z"
      },
      {
        "duration": 973,
        "start_time": "2023-04-14T12:04:39.254Z"
      },
      {
        "duration": 20,
        "start_time": "2023-04-14T12:04:40.229Z"
      },
      {
        "duration": 171,
        "start_time": "2023-04-14T12:04:40.251Z"
      },
      {
        "duration": 645,
        "start_time": "2023-04-14T12:04:40.425Z"
      },
      {
        "duration": 339,
        "start_time": "2023-04-14T12:04:41.072Z"
      },
      {
        "duration": 350,
        "start_time": "2023-04-14T12:04:41.413Z"
      },
      {
        "duration": 283,
        "start_time": "2023-04-14T12:04:41.766Z"
      },
      {
        "duration": 402,
        "start_time": "2023-04-14T12:04:42.051Z"
      },
      {
        "duration": 243,
        "start_time": "2023-04-14T12:04:42.455Z"
      },
      {
        "duration": 123,
        "start_time": "2023-04-14T12:04:42.701Z"
      },
      {
        "duration": 138,
        "start_time": "2023-04-14T12:04:42.826Z"
      },
      {
        "duration": 3170,
        "start_time": "2023-04-14T12:04:42.966Z"
      },
      {
        "duration": 0,
        "start_time": "2023-04-14T12:04:46.138Z"
      },
      {
        "duration": 1,
        "start_time": "2023-04-14T12:04:46.139Z"
      },
      {
        "duration": 0,
        "start_time": "2023-04-14T12:04:46.141Z"
      },
      {
        "duration": 0,
        "start_time": "2023-04-14T12:04:46.142Z"
      },
      {
        "duration": 0,
        "start_time": "2023-04-14T12:04:46.143Z"
      },
      {
        "duration": 0,
        "start_time": "2023-04-14T12:04:46.144Z"
      },
      {
        "duration": 0,
        "start_time": "2023-04-14T12:04:46.145Z"
      },
      {
        "duration": 0,
        "start_time": "2023-04-14T12:04:46.146Z"
      },
      {
        "duration": 1626,
        "start_time": "2023-04-14T12:08:02.778Z"
      },
      {
        "duration": 941,
        "start_time": "2023-04-14T12:08:04.406Z"
      },
      {
        "duration": 17,
        "start_time": "2023-04-14T12:08:05.348Z"
      },
      {
        "duration": 128,
        "start_time": "2023-04-14T12:08:05.366Z"
      },
      {
        "duration": 664,
        "start_time": "2023-04-14T12:08:05.498Z"
      },
      {
        "duration": 299,
        "start_time": "2023-04-14T12:08:06.163Z"
      },
      {
        "duration": 327,
        "start_time": "2023-04-14T12:08:06.464Z"
      },
      {
        "duration": 275,
        "start_time": "2023-04-14T12:08:06.799Z"
      },
      {
        "duration": 384,
        "start_time": "2023-04-14T12:08:07.076Z"
      },
      {
        "duration": 131,
        "start_time": "2023-04-14T12:08:07.462Z"
      },
      {
        "duration": 121,
        "start_time": "2023-04-14T12:08:07.597Z"
      },
      {
        "duration": 86,
        "start_time": "2023-04-14T12:08:07.720Z"
      },
      {
        "duration": 3286,
        "start_time": "2023-04-14T12:08:07.809Z"
      },
      {
        "duration": 0,
        "start_time": "2023-04-14T12:08:11.097Z"
      },
      {
        "duration": 0,
        "start_time": "2023-04-14T12:08:11.099Z"
      },
      {
        "duration": 0,
        "start_time": "2023-04-14T12:08:11.100Z"
      },
      {
        "duration": 0,
        "start_time": "2023-04-14T12:08:11.101Z"
      },
      {
        "duration": 0,
        "start_time": "2023-04-14T12:08:11.102Z"
      },
      {
        "duration": 0,
        "start_time": "2023-04-14T12:08:11.103Z"
      },
      {
        "duration": 0,
        "start_time": "2023-04-14T12:08:11.105Z"
      },
      {
        "duration": 0,
        "start_time": "2023-04-14T12:08:11.106Z"
      },
      {
        "duration": 1413,
        "start_time": "2023-04-14T12:12:23.909Z"
      },
      {
        "duration": 950,
        "start_time": "2023-04-14T12:12:25.324Z"
      },
      {
        "duration": 24,
        "start_time": "2023-04-14T12:12:26.276Z"
      },
      {
        "duration": 111,
        "start_time": "2023-04-14T12:12:26.302Z"
      },
      {
        "duration": 644,
        "start_time": "2023-04-14T12:12:26.415Z"
      },
      {
        "duration": 282,
        "start_time": "2023-04-14T12:12:27.061Z"
      },
      {
        "duration": 280,
        "start_time": "2023-04-14T12:12:27.345Z"
      },
      {
        "duration": 237,
        "start_time": "2023-04-14T12:12:27.627Z"
      },
      {
        "duration": 371,
        "start_time": "2023-04-14T12:12:27.866Z"
      },
      {
        "duration": 117,
        "start_time": "2023-04-14T12:12:28.239Z"
      },
      {
        "duration": 96,
        "start_time": "2023-04-14T12:12:28.358Z"
      },
      {
        "duration": 80,
        "start_time": "2023-04-14T12:12:28.455Z"
      },
      {
        "duration": 3376,
        "start_time": "2023-04-14T12:12:28.537Z"
      },
      {
        "duration": 0,
        "start_time": "2023-04-14T12:12:31.915Z"
      },
      {
        "duration": 0,
        "start_time": "2023-04-14T12:12:31.916Z"
      },
      {
        "duration": 0,
        "start_time": "2023-04-14T12:12:31.917Z"
      },
      {
        "duration": 0,
        "start_time": "2023-04-14T12:12:31.918Z"
      },
      {
        "duration": 0,
        "start_time": "2023-04-14T12:12:31.919Z"
      },
      {
        "duration": 0,
        "start_time": "2023-04-14T12:12:31.920Z"
      },
      {
        "duration": 0,
        "start_time": "2023-04-14T12:12:31.921Z"
      },
      {
        "duration": 0,
        "start_time": "2023-04-14T12:12:31.922Z"
      },
      {
        "duration": 15,
        "start_time": "2023-04-14T12:12:45.446Z"
      },
      {
        "duration": 1825,
        "start_time": "2023-04-14T12:15:01.519Z"
      },
      {
        "duration": 1062,
        "start_time": "2023-04-14T12:15:03.346Z"
      },
      {
        "duration": 23,
        "start_time": "2023-04-14T12:15:04.410Z"
      },
      {
        "duration": 125,
        "start_time": "2023-04-14T12:15:04.435Z"
      },
      {
        "duration": 630,
        "start_time": "2023-04-14T12:15:04.562Z"
      },
      {
        "duration": 262,
        "start_time": "2023-04-14T12:15:05.198Z"
      },
      {
        "duration": 306,
        "start_time": "2023-04-14T12:15:05.462Z"
      },
      {
        "duration": 288,
        "start_time": "2023-04-14T12:15:05.770Z"
      },
      {
        "duration": 371,
        "start_time": "2023-04-14T12:15:06.060Z"
      },
      {
        "duration": 122,
        "start_time": "2023-04-14T12:15:06.435Z"
      },
      {
        "duration": 104,
        "start_time": "2023-04-14T12:15:06.559Z"
      },
      {
        "duration": 23,
        "start_time": "2023-04-14T12:15:06.665Z"
      },
      {
        "duration": 124,
        "start_time": "2023-04-14T12:15:06.694Z"
      },
      {
        "duration": 0,
        "start_time": "2023-04-14T12:15:06.819Z"
      },
      {
        "duration": 0,
        "start_time": "2023-04-14T12:15:06.820Z"
      },
      {
        "duration": 0,
        "start_time": "2023-04-14T12:15:06.821Z"
      },
      {
        "duration": 0,
        "start_time": "2023-04-14T12:15:06.823Z"
      },
      {
        "duration": 0,
        "start_time": "2023-04-14T12:15:06.824Z"
      },
      {
        "duration": 0,
        "start_time": "2023-04-14T12:15:06.825Z"
      },
      {
        "duration": 0,
        "start_time": "2023-04-14T12:15:06.826Z"
      },
      {
        "duration": 0,
        "start_time": "2023-04-14T12:15:06.827Z"
      },
      {
        "duration": 0,
        "start_time": "2023-04-14T12:15:06.828Z"
      },
      {
        "duration": 1490,
        "start_time": "2023-04-14T12:15:46.464Z"
      },
      {
        "duration": 907,
        "start_time": "2023-04-14T12:15:47.956Z"
      },
      {
        "duration": 16,
        "start_time": "2023-04-14T12:15:48.865Z"
      },
      {
        "duration": 112,
        "start_time": "2023-04-14T12:15:48.889Z"
      },
      {
        "duration": 606,
        "start_time": "2023-04-14T12:15:49.005Z"
      },
      {
        "duration": 265,
        "start_time": "2023-04-14T12:15:49.613Z"
      },
      {
        "duration": 298,
        "start_time": "2023-04-14T12:15:49.880Z"
      },
      {
        "duration": 326,
        "start_time": "2023-04-14T12:15:50.180Z"
      },
      {
        "duration": 367,
        "start_time": "2023-04-14T12:15:50.509Z"
      },
      {
        "duration": 123,
        "start_time": "2023-04-14T12:15:50.877Z"
      },
      {
        "duration": 98,
        "start_time": "2023-04-14T12:15:51.005Z"
      },
      {
        "duration": 14,
        "start_time": "2023-04-14T12:15:51.105Z"
      },
      {
        "duration": 145,
        "start_time": "2023-04-14T12:15:51.120Z"
      },
      {
        "duration": 0,
        "start_time": "2023-04-14T12:15:51.267Z"
      },
      {
        "duration": 0,
        "start_time": "2023-04-14T12:15:51.268Z"
      },
      {
        "duration": 0,
        "start_time": "2023-04-14T12:15:51.269Z"
      },
      {
        "duration": 0,
        "start_time": "2023-04-14T12:15:51.270Z"
      },
      {
        "duration": 0,
        "start_time": "2023-04-14T12:15:51.271Z"
      },
      {
        "duration": 0,
        "start_time": "2023-04-14T12:15:51.272Z"
      },
      {
        "duration": 0,
        "start_time": "2023-04-14T12:15:51.273Z"
      },
      {
        "duration": 0,
        "start_time": "2023-04-14T12:15:51.274Z"
      },
      {
        "duration": 0,
        "start_time": "2023-04-14T12:15:51.275Z"
      },
      {
        "duration": 3308,
        "start_time": "2023-04-14T12:16:29.046Z"
      },
      {
        "duration": 1046,
        "start_time": "2023-04-14T12:16:32.357Z"
      },
      {
        "duration": 33,
        "start_time": "2023-04-14T12:16:33.405Z"
      },
      {
        "duration": 124,
        "start_time": "2023-04-14T12:16:33.442Z"
      },
      {
        "duration": 688,
        "start_time": "2023-04-14T12:16:33.570Z"
      },
      {
        "duration": 273,
        "start_time": "2023-04-14T12:16:34.260Z"
      },
      {
        "duration": 298,
        "start_time": "2023-04-14T12:16:34.535Z"
      },
      {
        "duration": 261,
        "start_time": "2023-04-14T12:16:34.835Z"
      },
      {
        "duration": 369,
        "start_time": "2023-04-14T12:16:35.098Z"
      },
      {
        "duration": 129,
        "start_time": "2023-04-14T12:16:35.468Z"
      },
      {
        "duration": 110,
        "start_time": "2023-04-14T12:16:35.599Z"
      },
      {
        "duration": 16,
        "start_time": "2023-04-14T12:16:35.711Z"
      },
      {
        "duration": 137,
        "start_time": "2023-04-14T12:16:35.728Z"
      },
      {
        "duration": 2906,
        "start_time": "2023-04-14T12:16:35.867Z"
      },
      {
        "duration": 0,
        "start_time": "2023-04-14T12:16:38.776Z"
      },
      {
        "duration": 0,
        "start_time": "2023-04-14T12:16:38.777Z"
      },
      {
        "duration": 0,
        "start_time": "2023-04-14T12:16:38.779Z"
      },
      {
        "duration": 0,
        "start_time": "2023-04-14T12:16:38.780Z"
      },
      {
        "duration": 0,
        "start_time": "2023-04-14T12:16:38.781Z"
      },
      {
        "duration": 0,
        "start_time": "2023-04-14T12:16:38.782Z"
      },
      {
        "duration": 0,
        "start_time": "2023-04-14T12:16:38.783Z"
      },
      {
        "duration": 0,
        "start_time": "2023-04-14T12:16:38.784Z"
      },
      {
        "duration": 3434,
        "start_time": "2023-04-14T12:17:20.119Z"
      },
      {
        "duration": 3,
        "start_time": "2023-04-14T12:17:57.257Z"
      },
      {
        "duration": 3605,
        "start_time": "2023-04-15T08:46:22.794Z"
      },
      {
        "duration": 1016,
        "start_time": "2023-04-15T08:46:26.401Z"
      },
      {
        "duration": 18,
        "start_time": "2023-04-15T08:46:27.420Z"
      },
      {
        "duration": 156,
        "start_time": "2023-04-15T08:46:27.440Z"
      },
      {
        "duration": 656,
        "start_time": "2023-04-15T08:46:27.598Z"
      },
      {
        "duration": 317,
        "start_time": "2023-04-15T08:46:28.258Z"
      },
      {
        "duration": 329,
        "start_time": "2023-04-15T08:46:28.577Z"
      },
      {
        "duration": 271,
        "start_time": "2023-04-15T08:46:28.908Z"
      },
      {
        "duration": 371,
        "start_time": "2023-04-15T08:46:29.185Z"
      },
      {
        "duration": 144,
        "start_time": "2023-04-15T08:46:29.557Z"
      },
      {
        "duration": 97,
        "start_time": "2023-04-15T08:46:29.703Z"
      },
      {
        "duration": 16,
        "start_time": "2023-04-15T08:46:29.802Z"
      },
      {
        "duration": 133,
        "start_time": "2023-04-15T08:46:29.820Z"
      },
      {
        "duration": 2607,
        "start_time": "2023-04-15T08:46:56.314Z"
      },
      {
        "duration": 19,
        "start_time": "2023-04-15T08:47:32.712Z"
      },
      {
        "duration": 4,
        "start_time": "2023-04-15T08:47:39.205Z"
      },
      {
        "duration": 139,
        "start_time": "2023-04-15T08:47:52.941Z"
      },
      {
        "duration": 908,
        "start_time": "2023-04-15T08:47:55.025Z"
      },
      {
        "duration": 110,
        "start_time": "2023-04-15T08:48:04.234Z"
      },
      {
        "duration": 17,
        "start_time": "2023-04-15T08:48:04.976Z"
      },
      {
        "duration": 1712,
        "start_time": "2023-04-15T08:48:05.114Z"
      },
      {
        "duration": 1651,
        "start_time": "2023-04-15T09:09:20.312Z"
      },
      {
        "duration": 3284,
        "start_time": "2023-04-15T09:09:25.525Z"
      },
      {
        "duration": 16,
        "start_time": "2023-04-15T09:09:28.810Z"
      },
      {
        "duration": 107,
        "start_time": "2023-04-15T09:09:29.122Z"
      },
      {
        "duration": 528,
        "start_time": "2023-04-15T09:09:31.581Z"
      },
      {
        "duration": 314,
        "start_time": "2023-04-15T09:09:34.038Z"
      },
      {
        "duration": 331,
        "start_time": "2023-04-15T09:09:34.522Z"
      },
      {
        "duration": 298,
        "start_time": "2023-04-15T09:09:35.167Z"
      },
      {
        "duration": 316,
        "start_time": "2023-04-15T09:09:36.102Z"
      },
      {
        "duration": 102,
        "start_time": "2023-04-15T09:09:37.197Z"
      },
      {
        "duration": 73,
        "start_time": "2023-04-15T09:09:41.765Z"
      },
      {
        "duration": 16,
        "start_time": "2023-04-15T09:09:43.974Z"
      },
      {
        "duration": 109,
        "start_time": "2023-04-15T09:09:47.695Z"
      },
      {
        "duration": 130,
        "start_time": "2023-04-15T09:09:58.839Z"
      },
      {
        "duration": 14768,
        "start_time": "2023-04-15T09:10:10.866Z"
      },
      {
        "duration": 6,
        "start_time": "2023-04-15T09:11:25.810Z"
      },
      {
        "duration": 14240,
        "start_time": "2023-04-15T09:12:23.146Z"
      },
      {
        "duration": 5,
        "start_time": "2023-04-15T09:16:46.219Z"
      },
      {
        "duration": 13651,
        "start_time": "2023-04-15T09:18:02.817Z"
      },
      {
        "duration": 13178,
        "start_time": "2023-04-15T09:18:44.205Z"
      },
      {
        "duration": 13617,
        "start_time": "2023-04-15T09:19:14.296Z"
      },
      {
        "duration": 13600,
        "start_time": "2023-04-15T09:19:38.109Z"
      },
      {
        "duration": 93,
        "start_time": "2023-04-15T09:24:09.753Z"
      },
      {
        "duration": 10,
        "start_time": "2023-04-15T09:24:40.210Z"
      },
      {
        "duration": 53,
        "start_time": "2023-04-15T09:32:18.383Z"
      },
      {
        "duration": 14850,
        "start_time": "2023-04-15T09:35:07.911Z"
      },
      {
        "duration": 13168,
        "start_time": "2023-04-15T09:36:15.225Z"
      },
      {
        "duration": 13134,
        "start_time": "2023-04-15T09:36:58.297Z"
      },
      {
        "duration": 13359,
        "start_time": "2023-04-15T09:37:31.481Z"
      },
      {
        "duration": 80,
        "start_time": "2023-04-15T09:42:47.532Z"
      },
      {
        "duration": 1445,
        "start_time": "2023-04-15T09:44:33.296Z"
      },
      {
        "duration": 941,
        "start_time": "2023-04-15T09:44:34.743Z"
      },
      {
        "duration": 16,
        "start_time": "2023-04-15T09:44:35.685Z"
      },
      {
        "duration": 121,
        "start_time": "2023-04-15T09:44:35.702Z"
      },
      {
        "duration": 559,
        "start_time": "2023-04-15T09:44:35.824Z"
      },
      {
        "duration": 261,
        "start_time": "2023-04-15T09:44:36.384Z"
      },
      {
        "duration": 278,
        "start_time": "2023-04-15T09:44:36.646Z"
      },
      {
        "duration": 262,
        "start_time": "2023-04-15T09:44:36.925Z"
      },
      {
        "duration": 332,
        "start_time": "2023-04-15T09:44:37.188Z"
      },
      {
        "duration": 104,
        "start_time": "2023-04-15T09:44:37.523Z"
      },
      {
        "duration": 84,
        "start_time": "2023-04-15T09:44:37.628Z"
      },
      {
        "duration": 16,
        "start_time": "2023-04-15T09:44:37.713Z"
      },
      {
        "duration": 126,
        "start_time": "2023-04-15T09:44:37.730Z"
      },
      {
        "duration": 13735,
        "start_time": "2023-04-15T09:44:37.858Z"
      },
      {
        "duration": 160,
        "start_time": "2023-04-15T09:44:51.595Z"
      },
      {
        "duration": 84,
        "start_time": "2023-04-15T09:45:34.362Z"
      },
      {
        "duration": 39457,
        "start_time": "2023-04-15T09:45:53.003Z"
      },
      {
        "duration": 55,
        "start_time": "2023-04-15T09:46:55.321Z"
      },
      {
        "duration": 53,
        "start_time": "2023-04-15T09:54:26.934Z"
      },
      {
        "duration": 5,
        "start_time": "2023-04-15T10:33:46.793Z"
      },
      {
        "duration": 62,
        "start_time": "2023-04-15T10:36:48.711Z"
      },
      {
        "duration": 78,
        "start_time": "2023-04-15T10:38:04.433Z"
      },
      {
        "duration": 72,
        "start_time": "2023-04-15T10:38:26.156Z"
      },
      {
        "duration": 56,
        "start_time": "2023-04-15T10:38:59.259Z"
      },
      {
        "duration": 133,
        "start_time": "2023-04-15T10:39:14.981Z"
      },
      {
        "duration": 109,
        "start_time": "2023-04-15T10:40:59.660Z"
      },
      {
        "duration": 1580,
        "start_time": "2023-04-15T10:41:06.257Z"
      },
      {
        "duration": 928,
        "start_time": "2023-04-15T10:41:07.839Z"
      },
      {
        "duration": 17,
        "start_time": "2023-04-15T10:41:08.768Z"
      },
      {
        "duration": 122,
        "start_time": "2023-04-15T10:41:08.787Z"
      },
      {
        "duration": 584,
        "start_time": "2023-04-15T10:41:08.911Z"
      },
      {
        "duration": 276,
        "start_time": "2023-04-15T10:41:09.497Z"
      },
      {
        "duration": 312,
        "start_time": "2023-04-15T10:41:09.775Z"
      },
      {
        "duration": 249,
        "start_time": "2023-04-15T10:41:10.088Z"
      },
      {
        "duration": 352,
        "start_time": "2023-04-15T10:41:10.339Z"
      },
      {
        "duration": 122,
        "start_time": "2023-04-15T10:41:10.694Z"
      },
      {
        "duration": 81,
        "start_time": "2023-04-15T10:41:10.818Z"
      },
      {
        "duration": 15,
        "start_time": "2023-04-15T10:41:10.900Z"
      },
      {
        "duration": 126,
        "start_time": "2023-04-15T10:41:10.916Z"
      },
      {
        "duration": 3848,
        "start_time": "2023-04-15T10:41:11.044Z"
      },
      {
        "duration": 80,
        "start_time": "2023-04-15T10:41:14.895Z"
      },
      {
        "duration": 209,
        "start_time": "2023-04-15T10:41:14.976Z"
      },
      {
        "duration": 11,
        "start_time": "2023-04-15T10:41:15.186Z"
      },
      {
        "duration": 0,
        "start_time": "2023-04-15T10:41:15.198Z"
      },
      {
        "duration": 71,
        "start_time": "2023-04-15T10:41:36.128Z"
      },
      {
        "duration": 1658,
        "start_time": "2023-04-15T10:42:11.311Z"
      },
      {
        "duration": 916,
        "start_time": "2023-04-15T10:42:12.970Z"
      },
      {
        "duration": 17,
        "start_time": "2023-04-15T10:42:13.887Z"
      },
      {
        "duration": 124,
        "start_time": "2023-04-15T10:42:13.906Z"
      },
      {
        "duration": 603,
        "start_time": "2023-04-15T10:42:14.032Z"
      },
      {
        "duration": 341,
        "start_time": "2023-04-15T10:42:14.637Z"
      },
      {
        "duration": 298,
        "start_time": "2023-04-15T10:42:14.979Z"
      },
      {
        "duration": 255,
        "start_time": "2023-04-15T10:42:15.278Z"
      },
      {
        "duration": 353,
        "start_time": "2023-04-15T10:42:15.534Z"
      },
      {
        "duration": 112,
        "start_time": "2023-04-15T10:42:15.889Z"
      },
      {
        "duration": 87,
        "start_time": "2023-04-15T10:42:16.002Z"
      },
      {
        "duration": 15,
        "start_time": "2023-04-15T10:42:16.090Z"
      },
      {
        "duration": 123,
        "start_time": "2023-04-15T10:42:16.107Z"
      },
      {
        "duration": 41473,
        "start_time": "2023-04-15T10:42:16.232Z"
      },
      {
        "duration": 184,
        "start_time": "2023-04-15T10:42:57.707Z"
      },
      {
        "duration": 47,
        "start_time": "2023-04-15T10:42:57.893Z"
      },
      {
        "duration": 8,
        "start_time": "2023-04-15T10:42:57.942Z"
      },
      {
        "duration": 0,
        "start_time": "2023-04-15T10:42:57.952Z"
      },
      {
        "duration": 1290,
        "start_time": "2023-04-15T10:43:56.575Z"
      },
      {
        "duration": 53,
        "start_time": "2023-04-15T10:44:22.075Z"
      },
      {
        "duration": 1648,
        "start_time": "2023-04-15T10:44:48.957Z"
      },
      {
        "duration": 157,
        "start_time": "2023-04-15T10:45:04.740Z"
      },
      {
        "duration": 149,
        "start_time": "2023-04-15T10:45:12.124Z"
      },
      {
        "duration": 83,
        "start_time": "2023-04-15T10:45:21.686Z"
      },
      {
        "duration": 13,
        "start_time": "2023-04-15T10:53:23.324Z"
      },
      {
        "duration": 1415,
        "start_time": "2023-04-15T10:53:40.615Z"
      },
      {
        "duration": 867,
        "start_time": "2023-04-15T10:53:42.032Z"
      },
      {
        "duration": 16,
        "start_time": "2023-04-15T10:53:42.900Z"
      },
      {
        "duration": 121,
        "start_time": "2023-04-15T10:53:42.918Z"
      },
      {
        "duration": 564,
        "start_time": "2023-04-15T10:53:43.048Z"
      },
      {
        "duration": 264,
        "start_time": "2023-04-15T10:53:43.614Z"
      },
      {
        "duration": 296,
        "start_time": "2023-04-15T10:53:43.880Z"
      },
      {
        "duration": 258,
        "start_time": "2023-04-15T10:53:44.178Z"
      },
      {
        "duration": 381,
        "start_time": "2023-04-15T10:53:44.438Z"
      },
      {
        "duration": 148,
        "start_time": "2023-04-15T10:53:44.821Z"
      },
      {
        "duration": 170,
        "start_time": "2023-04-15T10:53:44.972Z"
      },
      {
        "duration": 0,
        "start_time": "2023-04-15T10:53:45.144Z"
      },
      {
        "duration": 0,
        "start_time": "2023-04-15T10:53:45.146Z"
      },
      {
        "duration": 0,
        "start_time": "2023-04-15T10:53:45.149Z"
      },
      {
        "duration": 0,
        "start_time": "2023-04-15T10:53:45.150Z"
      },
      {
        "duration": 0,
        "start_time": "2023-04-15T10:53:45.152Z"
      },
      {
        "duration": 0,
        "start_time": "2023-04-15T10:53:45.153Z"
      },
      {
        "duration": 0,
        "start_time": "2023-04-15T10:53:45.155Z"
      },
      {
        "duration": 0,
        "start_time": "2023-04-15T10:53:45.156Z"
      },
      {
        "duration": 688,
        "start_time": "2023-04-15T10:53:58.364Z"
      },
      {
        "duration": 15,
        "start_time": "2023-04-15T10:54:12.434Z"
      },
      {
        "duration": 15,
        "start_time": "2023-04-15T10:54:29.358Z"
      },
      {
        "duration": 457,
        "start_time": "2023-04-15T10:55:46.819Z"
      },
      {
        "duration": 171,
        "start_time": "2023-04-15T10:58:37.751Z"
      },
      {
        "duration": 38238,
        "start_time": "2023-04-15T10:58:38.491Z"
      },
      {
        "duration": 1413,
        "start_time": "2023-04-15T11:01:11.890Z"
      },
      {
        "duration": 915,
        "start_time": "2023-04-15T11:01:13.305Z"
      },
      {
        "duration": 17,
        "start_time": "2023-04-15T11:01:14.221Z"
      },
      {
        "duration": 128,
        "start_time": "2023-04-15T11:01:14.249Z"
      },
      {
        "duration": 646,
        "start_time": "2023-04-15T11:01:14.380Z"
      },
      {
        "duration": 280,
        "start_time": "2023-04-15T11:01:15.028Z"
      },
      {
        "duration": 287,
        "start_time": "2023-04-15T11:01:15.310Z"
      },
      {
        "duration": 246,
        "start_time": "2023-04-15T11:01:15.599Z"
      },
      {
        "duration": 347,
        "start_time": "2023-04-15T11:01:15.849Z"
      },
      {
        "duration": 109,
        "start_time": "2023-04-15T11:01:16.198Z"
      },
      {
        "duration": 455,
        "start_time": "2023-04-15T11:01:16.308Z"
      },
      {
        "duration": 189,
        "start_time": "2023-04-15T11:01:16.765Z"
      },
      {
        "duration": 37900,
        "start_time": "2023-04-15T11:01:16.955Z"
      },
      {
        "duration": 115,
        "start_time": "2023-04-15T11:01:54.858Z"
      },
      {
        "duration": 15,
        "start_time": "2023-04-15T11:01:54.975Z"
      },
      {
        "duration": 124,
        "start_time": "2023-04-15T11:01:54.991Z"
      },
      {
        "duration": 38095,
        "start_time": "2023-04-15T11:01:55.117Z"
      },
      {
        "duration": 178,
        "start_time": "2023-04-15T11:02:33.213Z"
      },
      {
        "duration": 53,
        "start_time": "2023-04-15T11:02:33.392Z"
      },
      {
        "duration": 9,
        "start_time": "2023-04-15T11:02:33.447Z"
      },
      {
        "duration": 0,
        "start_time": "2023-04-15T11:02:33.458Z"
      },
      {
        "duration": 1401,
        "start_time": "2023-04-15T11:09:49.481Z"
      },
      {
        "duration": 890,
        "start_time": "2023-04-15T11:09:50.884Z"
      },
      {
        "duration": 15,
        "start_time": "2023-04-15T11:09:51.778Z"
      },
      {
        "duration": 118,
        "start_time": "2023-04-15T11:09:51.794Z"
      },
      {
        "duration": 571,
        "start_time": "2023-04-15T11:09:51.914Z"
      },
      {
        "duration": 269,
        "start_time": "2023-04-15T11:09:52.487Z"
      },
      {
        "duration": 301,
        "start_time": "2023-04-15T11:09:52.758Z"
      },
      {
        "duration": 246,
        "start_time": "2023-04-15T11:09:53.061Z"
      },
      {
        "duration": 336,
        "start_time": "2023-04-15T11:09:53.309Z"
      },
      {
        "duration": 107,
        "start_time": "2023-04-15T11:09:53.646Z"
      },
      {
        "duration": 450,
        "start_time": "2023-04-15T11:09:53.755Z"
      },
      {
        "duration": 178,
        "start_time": "2023-04-15T11:09:54.207Z"
      },
      {
        "duration": 39035,
        "start_time": "2023-04-15T11:09:54.387Z"
      },
      {
        "duration": 64,
        "start_time": "2023-04-15T11:10:33.424Z"
      },
      {
        "duration": 96,
        "start_time": "2023-04-15T11:10:33.490Z"
      },
      {
        "duration": 37521,
        "start_time": "2023-04-15T11:10:33.587Z"
      },
      {
        "duration": 165,
        "start_time": "2023-04-15T11:11:11.110Z"
      },
      {
        "duration": 3,
        "start_time": "2023-04-15T11:11:11.277Z"
      },
      {
        "duration": 17,
        "start_time": "2023-04-15T11:11:11.282Z"
      },
      {
        "duration": 6,
        "start_time": "2023-04-15T11:11:11.301Z"
      },
      {
        "duration": 8,
        "start_time": "2023-04-15T11:11:11.308Z"
      },
      {
        "duration": 6,
        "start_time": "2023-04-15T11:11:11.318Z"
      },
      {
        "duration": 188,
        "start_time": "2023-04-15T11:12:02.223Z"
      },
      {
        "duration": 53,
        "start_time": "2023-04-15T11:12:59.493Z"
      },
      {
        "duration": 1446,
        "start_time": "2023-04-15T11:13:32.937Z"
      },
      {
        "duration": 944,
        "start_time": "2023-04-15T11:13:34.385Z"
      },
      {
        "duration": 19,
        "start_time": "2023-04-15T11:13:35.330Z"
      },
      {
        "duration": 123,
        "start_time": "2023-04-15T11:13:35.352Z"
      },
      {
        "duration": 554,
        "start_time": "2023-04-15T11:13:35.478Z"
      },
      {
        "duration": 263,
        "start_time": "2023-04-15T11:13:36.033Z"
      },
      {
        "duration": 287,
        "start_time": "2023-04-15T11:13:36.298Z"
      },
      {
        "duration": 242,
        "start_time": "2023-04-15T11:13:36.586Z"
      },
      {
        "duration": 338,
        "start_time": "2023-04-15T11:13:36.830Z"
      },
      {
        "duration": 104,
        "start_time": "2023-04-15T11:13:37.171Z"
      },
      {
        "duration": 452,
        "start_time": "2023-04-15T11:13:37.276Z"
      },
      {
        "duration": 178,
        "start_time": "2023-04-15T11:13:37.730Z"
      },
      {
        "duration": 38387,
        "start_time": "2023-04-15T11:13:37.910Z"
      },
      {
        "duration": 63,
        "start_time": "2023-04-15T11:14:16.299Z"
      },
      {
        "duration": 105,
        "start_time": "2023-04-15T11:14:16.364Z"
      },
      {
        "duration": 37482,
        "start_time": "2023-04-15T11:14:16.471Z"
      },
      {
        "duration": 185,
        "start_time": "2023-04-15T11:14:53.955Z"
      },
      {
        "duration": 3,
        "start_time": "2023-04-15T11:14:54.142Z"
      },
      {
        "duration": 10,
        "start_time": "2023-04-15T11:14:54.146Z"
      },
      {
        "duration": 15,
        "start_time": "2023-04-15T11:14:54.158Z"
      },
      {
        "duration": 12,
        "start_time": "2023-04-15T11:14:54.174Z"
      },
      {
        "duration": 25,
        "start_time": "2023-04-15T11:14:54.188Z"
      },
      {
        "duration": 173,
        "start_time": "2023-04-15T11:15:31.691Z"
      },
      {
        "duration": 82,
        "start_time": "2023-04-15T11:15:43.856Z"
      },
      {
        "duration": 66,
        "start_time": "2023-04-15T11:15:49.801Z"
      },
      {
        "duration": 71,
        "start_time": "2023-04-15T11:16:20.957Z"
      },
      {
        "duration": 5,
        "start_time": "2023-04-15T11:18:15.269Z"
      },
      {
        "duration": 64,
        "start_time": "2023-04-15T11:18:25.927Z"
      },
      {
        "duration": 90,
        "start_time": "2023-04-15T11:20:06.113Z"
      },
      {
        "duration": 74,
        "start_time": "2023-04-15T11:20:16.869Z"
      },
      {
        "duration": 75,
        "start_time": "2023-04-15T11:22:05.933Z"
      },
      {
        "duration": 57,
        "start_time": "2023-04-15T11:22:23.653Z"
      },
      {
        "duration": 1450,
        "start_time": "2023-04-15T11:30:09.231Z"
      },
      {
        "duration": 909,
        "start_time": "2023-04-15T11:30:10.684Z"
      },
      {
        "duration": 15,
        "start_time": "2023-04-15T11:30:11.595Z"
      },
      {
        "duration": 111,
        "start_time": "2023-04-15T11:30:11.612Z"
      },
      {
        "duration": 558,
        "start_time": "2023-04-15T11:30:11.724Z"
      },
      {
        "duration": 247,
        "start_time": "2023-04-15T11:30:12.284Z"
      },
      {
        "duration": 268,
        "start_time": "2023-04-15T11:30:12.532Z"
      },
      {
        "duration": 236,
        "start_time": "2023-04-15T11:30:12.802Z"
      },
      {
        "duration": 342,
        "start_time": "2023-04-15T11:30:13.040Z"
      },
      {
        "duration": 103,
        "start_time": "2023-04-15T11:30:13.384Z"
      },
      {
        "duration": 437,
        "start_time": "2023-04-15T11:30:13.489Z"
      },
      {
        "duration": 185,
        "start_time": "2023-04-15T11:30:13.927Z"
      },
      {
        "duration": 38448,
        "start_time": "2023-04-15T11:30:14.114Z"
      },
      {
        "duration": 57,
        "start_time": "2023-04-15T11:30:52.563Z"
      },
      {
        "duration": 98,
        "start_time": "2023-04-15T11:30:52.621Z"
      },
      {
        "duration": 2,
        "start_time": "2023-04-15T11:30:52.721Z"
      },
      {
        "duration": 196,
        "start_time": "2023-04-15T11:30:52.725Z"
      },
      {
        "duration": 3,
        "start_time": "2023-04-15T11:30:52.922Z"
      },
      {
        "duration": 26,
        "start_time": "2023-04-15T11:30:52.927Z"
      },
      {
        "duration": 8761,
        "start_time": "2023-04-15T11:30:52.955Z"
      },
      {
        "duration": 0,
        "start_time": "2023-04-15T11:31:01.718Z"
      },
      {
        "duration": 0,
        "start_time": "2023-04-15T11:31:01.719Z"
      },
      {
        "duration": 0,
        "start_time": "2023-04-15T11:31:01.720Z"
      },
      {
        "duration": 1,
        "start_time": "2023-04-15T11:31:01.721Z"
      },
      {
        "duration": 61,
        "start_time": "2023-04-15T11:37:17.677Z"
      },
      {
        "duration": 2,
        "start_time": "2023-04-15T11:37:18.215Z"
      },
      {
        "duration": 3,
        "start_time": "2023-04-15T11:37:18.717Z"
      },
      {
        "duration": 8102,
        "start_time": "2023-04-15T11:37:20.210Z"
      },
      {
        "duration": 1439,
        "start_time": "2023-04-15T11:39:27.120Z"
      },
      {
        "duration": 901,
        "start_time": "2023-04-15T11:39:28.560Z"
      },
      {
        "duration": 15,
        "start_time": "2023-04-15T11:39:29.463Z"
      },
      {
        "duration": 124,
        "start_time": "2023-04-15T11:39:29.479Z"
      },
      {
        "duration": 575,
        "start_time": "2023-04-15T11:39:29.605Z"
      },
      {
        "duration": 259,
        "start_time": "2023-04-15T11:39:30.182Z"
      },
      {
        "duration": 282,
        "start_time": "2023-04-15T11:39:30.443Z"
      },
      {
        "duration": 261,
        "start_time": "2023-04-15T11:39:30.727Z"
      },
      {
        "duration": 361,
        "start_time": "2023-04-15T11:39:30.990Z"
      },
      {
        "duration": 109,
        "start_time": "2023-04-15T11:39:31.353Z"
      },
      {
        "duration": 447,
        "start_time": "2023-04-15T11:39:31.464Z"
      },
      {
        "duration": 177,
        "start_time": "2023-04-15T11:39:31.912Z"
      },
      {
        "duration": 38274,
        "start_time": "2023-04-15T11:39:32.090Z"
      },
      {
        "duration": 59,
        "start_time": "2023-04-15T11:40:10.366Z"
      },
      {
        "duration": 2,
        "start_time": "2023-04-15T11:40:10.427Z"
      },
      {
        "duration": 18,
        "start_time": "2023-04-15T11:40:10.431Z"
      },
      {
        "duration": 8234,
        "start_time": "2023-04-15T11:40:10.450Z"
      },
      {
        "duration": 0,
        "start_time": "2023-04-15T11:40:18.685Z"
      },
      {
        "duration": 0,
        "start_time": "2023-04-15T11:40:18.687Z"
      },
      {
        "duration": 0,
        "start_time": "2023-04-15T11:40:18.688Z"
      },
      {
        "duration": 0,
        "start_time": "2023-04-15T11:40:18.689Z"
      },
      {
        "duration": 0,
        "start_time": "2023-04-15T11:40:18.690Z"
      },
      {
        "duration": 0,
        "start_time": "2023-04-15T11:40:18.690Z"
      },
      {
        "duration": 0,
        "start_time": "2023-04-15T11:40:18.691Z"
      },
      {
        "duration": 1445,
        "start_time": "2023-04-15T11:46:58.510Z"
      },
      {
        "duration": 3114,
        "start_time": "2023-04-15T11:46:59.957Z"
      },
      {
        "duration": 17,
        "start_time": "2023-04-15T11:47:03.073Z"
      },
      {
        "duration": 116,
        "start_time": "2023-04-15T11:47:03.092Z"
      },
      {
        "duration": 595,
        "start_time": "2023-04-15T11:47:03.210Z"
      },
      {
        "duration": 257,
        "start_time": "2023-04-15T11:47:03.806Z"
      },
      {
        "duration": 279,
        "start_time": "2023-04-15T11:47:04.065Z"
      },
      {
        "duration": 253,
        "start_time": "2023-04-15T11:47:04.348Z"
      },
      {
        "duration": 368,
        "start_time": "2023-04-15T11:47:04.603Z"
      },
      {
        "duration": 106,
        "start_time": "2023-04-15T11:47:04.974Z"
      },
      {
        "duration": 441,
        "start_time": "2023-04-15T11:47:05.082Z"
      },
      {
        "duration": 180,
        "start_time": "2023-04-15T11:47:05.525Z"
      },
      {
        "duration": 37866,
        "start_time": "2023-04-15T11:47:05.707Z"
      },
      {
        "duration": 1415,
        "start_time": "2023-04-15T12:05:03.901Z"
      },
      {
        "duration": 2907,
        "start_time": "2023-04-15T12:05:05.318Z"
      },
      {
        "duration": 22,
        "start_time": "2023-04-15T12:05:08.227Z"
      },
      {
        "duration": 111,
        "start_time": "2023-04-15T12:05:08.251Z"
      },
      {
        "duration": 531,
        "start_time": "2023-04-15T12:05:08.364Z"
      },
      {
        "duration": 261,
        "start_time": "2023-04-15T12:05:08.897Z"
      },
      {
        "duration": 271,
        "start_time": "2023-04-15T12:05:09.159Z"
      },
      {
        "duration": 242,
        "start_time": "2023-04-15T12:05:09.432Z"
      },
      {
        "duration": 354,
        "start_time": "2023-04-15T12:05:09.676Z"
      },
      {
        "duration": 117,
        "start_time": "2023-04-15T12:05:10.032Z"
      },
      {
        "duration": 436,
        "start_time": "2023-04-15T12:05:10.150Z"
      },
      {
        "duration": 171,
        "start_time": "2023-04-15T12:05:10.587Z"
      },
      {
        "duration": 37809,
        "start_time": "2023-04-15T12:05:10.759Z"
      },
      {
        "duration": 58,
        "start_time": "2023-04-15T12:05:48.570Z"
      },
      {
        "duration": 136,
        "start_time": "2023-04-15T12:05:48.629Z"
      },
      {
        "duration": 0,
        "start_time": "2023-04-15T12:05:48.767Z"
      },
      {
        "duration": 0,
        "start_time": "2023-04-15T12:05:48.769Z"
      },
      {
        "duration": 0,
        "start_time": "2023-04-15T12:05:48.769Z"
      },
      {
        "duration": 0,
        "start_time": "2023-04-15T12:05:48.771Z"
      },
      {
        "duration": 0,
        "start_time": "2023-04-15T12:05:48.772Z"
      },
      {
        "duration": 0,
        "start_time": "2023-04-15T12:05:48.773Z"
      },
      {
        "duration": 0,
        "start_time": "2023-04-15T12:05:48.773Z"
      },
      {
        "duration": 0,
        "start_time": "2023-04-15T12:05:48.774Z"
      },
      {
        "duration": 0,
        "start_time": "2023-04-15T12:05:48.776Z"
      },
      {
        "duration": 0,
        "start_time": "2023-04-15T12:05:48.777Z"
      },
      {
        "duration": 615,
        "start_time": "2023-04-15T12:07:25.222Z"
      },
      {
        "duration": 6,
        "start_time": "2023-04-15T12:08:13.498Z"
      },
      {
        "duration": 1498,
        "start_time": "2023-04-15T12:08:20.146Z"
      },
      {
        "duration": 89,
        "start_time": "2023-04-15T12:08:25.802Z"
      },
      {
        "duration": 102,
        "start_time": "2023-04-15T12:09:51.675Z"
      },
      {
        "duration": 3,
        "start_time": "2023-04-15T12:09:52.444Z"
      },
      {
        "duration": 3,
        "start_time": "2023-04-15T12:09:53.030Z"
      },
      {
        "duration": 8393,
        "start_time": "2023-04-15T12:09:54.109Z"
      },
      {
        "duration": 1482,
        "start_time": "2023-04-15T12:10:56.682Z"
      },
      {
        "duration": 928,
        "start_time": "2023-04-15T12:10:58.166Z"
      },
      {
        "duration": 19,
        "start_time": "2023-04-15T12:10:59.096Z"
      },
      {
        "duration": 116,
        "start_time": "2023-04-15T12:10:59.117Z"
      },
      {
        "duration": 557,
        "start_time": "2023-04-15T12:10:59.235Z"
      },
      {
        "duration": 290,
        "start_time": "2023-04-15T12:10:59.794Z"
      },
      {
        "duration": 291,
        "start_time": "2023-04-15T12:11:00.086Z"
      },
      {
        "duration": 257,
        "start_time": "2023-04-15T12:11:00.379Z"
      },
      {
        "duration": 348,
        "start_time": "2023-04-15T12:11:00.637Z"
      },
      {
        "duration": 116,
        "start_time": "2023-04-15T12:11:00.988Z"
      },
      {
        "duration": 462,
        "start_time": "2023-04-15T12:11:01.106Z"
      },
      {
        "duration": 180,
        "start_time": "2023-04-15T12:11:01.570Z"
      },
      {
        "duration": 38275,
        "start_time": "2023-04-15T12:11:01.752Z"
      },
      {
        "duration": 66,
        "start_time": "2023-04-15T12:11:40.030Z"
      },
      {
        "duration": 1428,
        "start_time": "2023-04-15T12:11:40.098Z"
      },
      {
        "duration": 107,
        "start_time": "2023-04-15T12:11:41.528Z"
      },
      {
        "duration": 4,
        "start_time": "2023-04-15T12:11:41.636Z"
      },
      {
        "duration": 8,
        "start_time": "2023-04-15T12:11:41.642Z"
      },
      {
        "duration": 21630,
        "start_time": "2023-04-15T12:11:41.651Z"
      },
      {
        "duration": 0,
        "start_time": "2023-04-15T12:12:03.284Z"
      },
      {
        "duration": 0,
        "start_time": "2023-04-15T12:12:03.285Z"
      },
      {
        "duration": 0,
        "start_time": "2023-04-15T12:12:03.286Z"
      },
      {
        "duration": 0,
        "start_time": "2023-04-15T12:12:03.287Z"
      },
      {
        "duration": 0,
        "start_time": "2023-04-15T12:12:03.288Z"
      },
      {
        "duration": 0,
        "start_time": "2023-04-15T12:12:03.289Z"
      },
      {
        "duration": 15,
        "start_time": "2023-04-15T12:15:03.319Z"
      },
      {
        "duration": 21564,
        "start_time": "2023-04-15T12:15:33.443Z"
      },
      {
        "duration": 3,
        "start_time": "2023-04-15T12:16:22.824Z"
      },
      {
        "duration": 4,
        "start_time": "2023-04-15T12:16:23.603Z"
      },
      {
        "duration": 21124,
        "start_time": "2023-04-15T12:16:24.197Z"
      },
      {
        "duration": 1669,
        "start_time": "2023-04-15T12:18:13.593Z"
      },
      {
        "duration": 260209,
        "start_time": "2023-04-15T12:18:35.947Z"
      },
      {
        "duration": 3,
        "start_time": "2023-04-15T12:25:07.753Z"
      },
      {
        "duration": 4875,
        "start_time": "2023-04-15T12:25:09.438Z"
      },
      {
        "duration": 1744,
        "start_time": "2023-04-15T12:26:54.910Z"
      },
      {
        "duration": 881,
        "start_time": "2023-04-15T12:26:56.656Z"
      },
      {
        "duration": 18,
        "start_time": "2023-04-15T12:26:57.539Z"
      },
      {
        "duration": 119,
        "start_time": "2023-04-15T12:26:57.560Z"
      },
      {
        "duration": 539,
        "start_time": "2023-04-15T12:26:57.681Z"
      },
      {
        "duration": 258,
        "start_time": "2023-04-15T12:26:58.222Z"
      },
      {
        "duration": 277,
        "start_time": "2023-04-15T12:26:58.482Z"
      },
      {
        "duration": 243,
        "start_time": "2023-04-15T12:26:58.761Z"
      },
      {
        "duration": 327,
        "start_time": "2023-04-15T12:26:59.006Z"
      },
      {
        "duration": 97,
        "start_time": "2023-04-15T12:26:59.334Z"
      },
      {
        "duration": 464,
        "start_time": "2023-04-15T12:26:59.433Z"
      },
      {
        "duration": 178,
        "start_time": "2023-04-15T12:26:59.898Z"
      },
      {
        "duration": 37647,
        "start_time": "2023-04-15T12:27:00.078Z"
      },
      {
        "duration": 63,
        "start_time": "2023-04-15T12:27:37.728Z"
      },
      {
        "duration": 1347,
        "start_time": "2023-04-15T12:27:37.792Z"
      },
      {
        "duration": 91,
        "start_time": "2023-04-15T12:27:39.140Z"
      },
      {
        "duration": 3,
        "start_time": "2023-04-15T12:27:39.232Z"
      },
      {
        "duration": 13,
        "start_time": "2023-04-15T12:27:39.236Z"
      },
      {
        "duration": 21273,
        "start_time": "2023-04-15T12:27:39.250Z"
      },
      {
        "duration": 0,
        "start_time": "2023-04-15T12:28:00.524Z"
      },
      {
        "duration": 0,
        "start_time": "2023-04-15T12:28:00.525Z"
      },
      {
        "duration": 0,
        "start_time": "2023-04-15T12:28:00.526Z"
      },
      {
        "duration": 0,
        "start_time": "2023-04-15T12:28:00.527Z"
      },
      {
        "duration": 0,
        "start_time": "2023-04-15T12:28:00.528Z"
      },
      {
        "duration": 0,
        "start_time": "2023-04-15T12:28:00.529Z"
      },
      {
        "duration": 0,
        "start_time": "2023-04-15T12:28:00.530Z"
      },
      {
        "duration": 6348,
        "start_time": "2023-04-15T12:28:05.908Z"
      },
      {
        "duration": 61,
        "start_time": "2023-04-15T12:28:51.599Z"
      },
      {
        "duration": 38672,
        "start_time": "2023-04-15T12:28:52.771Z"
      },
      {
        "duration": 10,
        "start_time": "2023-04-15T12:30:08.098Z"
      },
      {
        "duration": 22,
        "start_time": "2023-04-15T12:31:09.914Z"
      },
      {
        "duration": 14,
        "start_time": "2023-04-15T12:31:21.305Z"
      },
      {
        "duration": 9,
        "start_time": "2023-04-15T12:32:36.876Z"
      },
      {
        "duration": 4,
        "start_time": "2023-04-15T12:38:28.410Z"
      },
      {
        "duration": 80,
        "start_time": "2023-04-15T12:38:29.869Z"
      },
      {
        "duration": 14,
        "start_time": "2023-04-15T12:38:37.714Z"
      },
      {
        "duration": 10,
        "start_time": "2023-04-15T12:38:45.342Z"
      },
      {
        "duration": 15,
        "start_time": "2023-04-15T12:39:14.031Z"
      },
      {
        "duration": 1485,
        "start_time": "2023-04-15T12:43:08.913Z"
      },
      {
        "duration": 927,
        "start_time": "2023-04-15T12:43:10.400Z"
      },
      {
        "duration": 21,
        "start_time": "2023-04-15T12:43:11.329Z"
      },
      {
        "duration": 117,
        "start_time": "2023-04-15T12:43:11.352Z"
      },
      {
        "duration": 578,
        "start_time": "2023-04-15T12:43:11.471Z"
      },
      {
        "duration": 256,
        "start_time": "2023-04-15T12:43:12.051Z"
      },
      {
        "duration": 282,
        "start_time": "2023-04-15T12:43:12.309Z"
      },
      {
        "duration": 249,
        "start_time": "2023-04-15T12:43:12.593Z"
      },
      {
        "duration": 377,
        "start_time": "2023-04-15T12:43:12.843Z"
      },
      {
        "duration": 104,
        "start_time": "2023-04-15T12:43:13.221Z"
      },
      {
        "duration": 460,
        "start_time": "2023-04-15T12:43:13.327Z"
      },
      {
        "duration": 187,
        "start_time": "2023-04-15T12:43:13.789Z"
      },
      {
        "duration": 38787,
        "start_time": "2023-04-15T12:43:13.978Z"
      },
      {
        "duration": 60,
        "start_time": "2023-04-15T12:43:52.768Z"
      },
      {
        "duration": 1509,
        "start_time": "2023-04-15T12:43:52.829Z"
      },
      {
        "duration": 95,
        "start_time": "2023-04-15T12:43:54.340Z"
      },
      {
        "duration": 12,
        "start_time": "2023-04-15T12:43:54.437Z"
      },
      {
        "duration": 4,
        "start_time": "2023-04-15T12:43:54.451Z"
      },
      {
        "duration": 21577,
        "start_time": "2023-04-15T12:43:54.457Z"
      },
      {
        "duration": 0,
        "start_time": "2023-04-15T12:44:16.036Z"
      },
      {
        "duration": 0,
        "start_time": "2023-04-15T12:44:16.037Z"
      },
      {
        "duration": 0,
        "start_time": "2023-04-15T12:44:16.039Z"
      },
      {
        "duration": 0,
        "start_time": "2023-04-15T12:44:16.040Z"
      },
      {
        "duration": 0,
        "start_time": "2023-04-15T12:44:16.049Z"
      },
      {
        "duration": 0,
        "start_time": "2023-04-15T12:44:16.050Z"
      },
      {
        "duration": 0,
        "start_time": "2023-04-15T12:44:16.052Z"
      },
      {
        "duration": 0,
        "start_time": "2023-04-15T12:44:16.053Z"
      },
      {
        "duration": 0,
        "start_time": "2023-04-15T12:44:16.055Z"
      },
      {
        "duration": 0,
        "start_time": "2023-04-15T12:44:16.056Z"
      },
      {
        "duration": 6610,
        "start_time": "2023-04-15T12:44:25.739Z"
      },
      {
        "duration": 10,
        "start_time": "2023-04-15T12:44:32.352Z"
      },
      {
        "duration": 0,
        "start_time": "2023-04-15T12:44:32.364Z"
      },
      {
        "duration": 0,
        "start_time": "2023-04-15T12:44:32.365Z"
      },
      {
        "duration": 0,
        "start_time": "2023-04-15T12:44:32.366Z"
      },
      {
        "duration": 3,
        "start_time": "2023-04-15T12:45:11.721Z"
      },
      {
        "duration": 6940,
        "start_time": "2023-04-15T12:45:18.024Z"
      },
      {
        "duration": 93,
        "start_time": "2023-04-15T12:45:24.966Z"
      },
      {
        "duration": 0,
        "start_time": "2023-04-15T12:45:25.061Z"
      },
      {
        "duration": 0,
        "start_time": "2023-04-15T12:45:25.062Z"
      },
      {
        "duration": 0,
        "start_time": "2023-04-15T12:45:25.063Z"
      },
      {
        "duration": 0,
        "start_time": "2023-04-15T12:45:25.065Z"
      },
      {
        "duration": 46769,
        "start_time": "2023-04-15T12:48:41.480Z"
      },
      {
        "duration": 98,
        "start_time": "2023-04-15T12:49:28.251Z"
      },
      {
        "duration": 37486,
        "start_time": "2023-04-15T12:49:28.350Z"
      },
      {
        "duration": 3437,
        "start_time": "2023-04-15T12:50:05.838Z"
      },
      {
        "duration": 13,
        "start_time": "2023-04-15T12:51:01.310Z"
      },
      {
        "duration": 2854,
        "start_time": "2023-04-15T12:51:51.798Z"
      },
      {
        "duration": 53,
        "start_time": "2023-04-15T12:52:10.512Z"
      },
      {
        "duration": 37434,
        "start_time": "2023-04-15T12:52:34.858Z"
      },
      {
        "duration": 41868,
        "start_time": "2023-04-15T12:54:29.814Z"
      },
      {
        "duration": 42829,
        "start_time": "2023-04-15T12:55:15.305Z"
      },
      {
        "duration": 12,
        "start_time": "2023-04-15T12:55:58.137Z"
      },
      {
        "duration": 57,
        "start_time": "2023-04-15T12:57:10.825Z"
      },
      {
        "duration": 58,
        "start_time": "2023-04-15T12:57:20.366Z"
      },
      {
        "duration": 1471,
        "start_time": "2023-04-15T12:57:46.474Z"
      },
      {
        "duration": 934,
        "start_time": "2023-04-15T12:57:47.947Z"
      },
      {
        "duration": 16,
        "start_time": "2023-04-15T12:57:48.882Z"
      },
      {
        "duration": 124,
        "start_time": "2023-04-15T12:57:48.899Z"
      },
      {
        "duration": 579,
        "start_time": "2023-04-15T12:57:49.026Z"
      },
      {
        "duration": 290,
        "start_time": "2023-04-15T12:57:49.607Z"
      },
      {
        "duration": 284,
        "start_time": "2023-04-15T12:57:49.898Z"
      },
      {
        "duration": 239,
        "start_time": "2023-04-15T12:57:50.184Z"
      },
      {
        "duration": 341,
        "start_time": "2023-04-15T12:57:50.426Z"
      },
      {
        "duration": 108,
        "start_time": "2023-04-15T12:57:50.768Z"
      },
      {
        "duration": 456,
        "start_time": "2023-04-15T12:57:50.878Z"
      },
      {
        "duration": 189,
        "start_time": "2023-04-15T12:57:51.335Z"
      },
      {
        "duration": 38529,
        "start_time": "2023-04-15T12:57:51.525Z"
      },
      {
        "duration": 3,
        "start_time": "2023-04-15T12:58:30.057Z"
      },
      {
        "duration": 76,
        "start_time": "2023-04-15T12:58:30.062Z"
      },
      {
        "duration": 1503,
        "start_time": "2023-04-15T12:58:30.140Z"
      },
      {
        "duration": 96,
        "start_time": "2023-04-15T12:58:31.645Z"
      },
      {
        "duration": 6,
        "start_time": "2023-04-15T12:58:31.743Z"
      },
      {
        "duration": 22,
        "start_time": "2023-04-15T12:58:31.750Z"
      },
      {
        "duration": 21161,
        "start_time": "2023-04-15T12:58:31.774Z"
      },
      {
        "duration": 0,
        "start_time": "2023-04-15T12:58:52.936Z"
      },
      {
        "duration": 0,
        "start_time": "2023-04-15T12:58:52.937Z"
      },
      {
        "duration": 0,
        "start_time": "2023-04-15T12:58:52.938Z"
      },
      {
        "duration": 0,
        "start_time": "2023-04-15T12:58:52.939Z"
      },
      {
        "duration": 0,
        "start_time": "2023-04-15T12:58:52.940Z"
      },
      {
        "duration": 0,
        "start_time": "2023-04-15T12:58:52.941Z"
      },
      {
        "duration": 0,
        "start_time": "2023-04-15T12:58:52.948Z"
      },
      {
        "duration": 0,
        "start_time": "2023-04-15T12:58:52.949Z"
      },
      {
        "duration": 0,
        "start_time": "2023-04-15T12:58:52.950Z"
      },
      {
        "duration": 6283,
        "start_time": "2023-04-15T12:59:10.367Z"
      },
      {
        "duration": 6302,
        "start_time": "2023-04-15T12:59:16.652Z"
      },
      {
        "duration": 123,
        "start_time": "2023-04-15T12:59:22.956Z"
      },
      {
        "duration": 43205,
        "start_time": "2023-04-15T12:59:23.082Z"
      },
      {
        "duration": 43447,
        "start_time": "2023-04-15T13:00:06.289Z"
      },
      {
        "duration": 11,
        "start_time": "2023-04-15T13:00:49.738Z"
      },
      {
        "duration": 3229,
        "start_time": "2023-04-15T15:52:10.050Z"
      },
      {
        "duration": 1128,
        "start_time": "2023-04-15T15:52:13.281Z"
      },
      {
        "duration": 13,
        "start_time": "2023-04-15T15:52:14.411Z"
      },
      {
        "duration": 99,
        "start_time": "2023-04-15T15:52:14.426Z"
      },
      {
        "duration": 538,
        "start_time": "2023-04-15T15:52:14.527Z"
      },
      {
        "duration": 255,
        "start_time": "2023-04-15T15:52:15.067Z"
      },
      {
        "duration": 273,
        "start_time": "2023-04-15T15:52:15.323Z"
      },
      {
        "duration": 219,
        "start_time": "2023-04-15T15:52:15.598Z"
      },
      {
        "duration": 286,
        "start_time": "2023-04-15T15:52:15.819Z"
      },
      {
        "duration": 88,
        "start_time": "2023-04-15T15:52:16.106Z"
      },
      {
        "duration": 393,
        "start_time": "2023-04-15T15:52:16.195Z"
      },
      {
        "duration": 152,
        "start_time": "2023-04-15T15:52:16.590Z"
      },
      {
        "duration": 34506,
        "start_time": "2023-04-15T15:52:16.744Z"
      },
      {
        "duration": 3,
        "start_time": "2023-04-15T15:52:51.253Z"
      },
      {
        "duration": 103,
        "start_time": "2023-04-15T15:52:51.257Z"
      },
      {
        "duration": 1586,
        "start_time": "2023-04-15T15:52:51.362Z"
      },
      {
        "duration": 113,
        "start_time": "2023-04-15T15:52:52.950Z"
      },
      {
        "duration": 2,
        "start_time": "2023-04-15T15:52:53.065Z"
      },
      {
        "duration": 6,
        "start_time": "2023-04-15T15:52:53.068Z"
      },
      {
        "duration": 18588,
        "start_time": "2023-04-15T15:52:53.075Z"
      },
      {
        "duration": 0,
        "start_time": "2023-04-15T15:53:11.665Z"
      },
      {
        "duration": 0,
        "start_time": "2023-04-15T15:53:11.666Z"
      },
      {
        "duration": 0,
        "start_time": "2023-04-15T15:53:11.668Z"
      },
      {
        "duration": 0,
        "start_time": "2023-04-15T15:53:11.669Z"
      },
      {
        "duration": 0,
        "start_time": "2023-04-15T15:53:11.670Z"
      },
      {
        "duration": 0,
        "start_time": "2023-04-15T15:53:11.671Z"
      },
      {
        "duration": 0,
        "start_time": "2023-04-15T15:53:11.673Z"
      },
      {
        "duration": 0,
        "start_time": "2023-04-15T15:53:11.675Z"
      },
      {
        "duration": 0,
        "start_time": "2023-04-15T15:53:11.676Z"
      },
      {
        "duration": 3,
        "start_time": "2023-04-15T16:05:59.715Z"
      },
      {
        "duration": 4,
        "start_time": "2023-04-15T16:05:59.935Z"
      },
      {
        "duration": 135371,
        "start_time": "2023-04-15T16:06:00.112Z"
      },
      {
        "duration": 0,
        "start_time": "2023-04-15T16:08:15.484Z"
      },
      {
        "duration": 7,
        "start_time": "2023-04-15T16:08:27.652Z"
      },
      {
        "duration": 1124,
        "start_time": "2023-04-15T16:08:27.661Z"
      },
      {
        "duration": 3,
        "start_time": "2023-04-15T16:08:28.786Z"
      },
      {
        "duration": 16,
        "start_time": "2023-04-15T16:08:28.791Z"
      },
      {
        "duration": 20,
        "start_time": "2023-04-15T16:08:28.809Z"
      },
      {
        "duration": 27,
        "start_time": "2023-04-15T16:08:28.831Z"
      },
      {
        "duration": 113,
        "start_time": "2023-04-15T16:08:28.860Z"
      },
      {
        "duration": 125,
        "start_time": "2023-04-15T16:08:28.975Z"
      },
      {
        "duration": 107,
        "start_time": "2023-04-15T16:08:29.102Z"
      },
      {
        "duration": 97,
        "start_time": "2023-04-15T16:08:29.211Z"
      },
      {
        "duration": 5,
        "start_time": "2023-04-15T16:08:29.310Z"
      },
      {
        "duration": 287,
        "start_time": "2023-04-15T16:08:29.317Z"
      },
      {
        "duration": 32,
        "start_time": "2023-04-15T16:08:29.606Z"
      },
      {
        "duration": 22,
        "start_time": "2023-04-15T16:08:29.641Z"
      },
      {
        "duration": 5,
        "start_time": "2023-04-15T16:08:29.665Z"
      },
      {
        "duration": 15,
        "start_time": "2023-04-15T16:08:29.672Z"
      },
      {
        "duration": 33,
        "start_time": "2023-04-15T16:08:29.689Z"
      },
      {
        "duration": 12,
        "start_time": "2023-04-15T16:08:29.736Z"
      },
      {
        "duration": 10,
        "start_time": "2023-04-15T16:08:29.749Z"
      },
      {
        "duration": 4,
        "start_time": "2023-04-15T16:08:29.761Z"
      },
      {
        "duration": 58993,
        "start_time": "2023-04-15T16:08:29.766Z"
      },
      {
        "duration": 330,
        "start_time": "2023-04-15T16:09:28.760Z"
      },
      {
        "duration": 32,
        "start_time": "2023-04-15T16:09:29.091Z"
      },
      {
        "duration": 0,
        "start_time": "2023-04-15T16:09:29.125Z"
      },
      {
        "duration": 0,
        "start_time": "2023-04-15T16:09:29.136Z"
      },
      {
        "duration": 0,
        "start_time": "2023-04-15T16:09:29.137Z"
      },
      {
        "duration": 0,
        "start_time": "2023-04-15T16:09:29.139Z"
      },
      {
        "duration": 0,
        "start_time": "2023-04-15T16:09:29.139Z"
      },
      {
        "duration": 0,
        "start_time": "2023-04-15T16:09:29.140Z"
      },
      {
        "duration": 0,
        "start_time": "2023-04-15T16:09:29.141Z"
      },
      {
        "duration": 18192,
        "start_time": "2023-04-15T16:09:47.955Z"
      },
      {
        "duration": 8690,
        "start_time": "2023-04-15T16:10:06.149Z"
      },
      {
        "duration": 6,
        "start_time": "2023-04-15T16:10:14.841Z"
      },
      {
        "duration": 838,
        "start_time": "2023-04-15T16:10:14.849Z"
      },
      {
        "duration": 635,
        "start_time": "2023-04-15T16:10:15.689Z"
      },
      {
        "duration": 9,
        "start_time": "2023-04-15T16:10:16.326Z"
      },
      {
        "duration": 26,
        "start_time": "2023-04-15T16:10:16.337Z"
      },
      {
        "duration": 19,
        "start_time": "2023-04-15T16:11:47.016Z"
      },
      {
        "duration": 3,
        "start_time": "2023-04-15T16:12:04.750Z"
      },
      {
        "duration": 6,
        "start_time": "2023-04-15T16:12:04.920Z"
      },
      {
        "duration": 29,
        "start_time": "2023-04-15T16:12:05.068Z"
      },
      {
        "duration": 11,
        "start_time": "2023-04-15T16:12:05.232Z"
      },
      {
        "duration": 319,
        "start_time": "2023-04-15T16:12:08.386Z"
      },
      {
        "duration": 33,
        "start_time": "2023-04-15T16:12:08.982Z"
      },
      {
        "duration": 41,
        "start_time": "2023-04-15T16:12:11.500Z"
      },
      {
        "duration": 15803,
        "start_time": "2023-04-15T16:12:14.133Z"
      },
      {
        "duration": 24,
        "start_time": "2023-04-15T16:12:29.939Z"
      },
      {
        "duration": 16,
        "start_time": "2023-04-15T16:12:53.424Z"
      },
      {
        "duration": 1628,
        "start_time": "2023-04-15T21:02:31.010Z"
      },
      {
        "duration": 3067,
        "start_time": "2023-04-15T21:02:32.640Z"
      },
      {
        "duration": 17,
        "start_time": "2023-04-15T21:02:35.709Z"
      },
      {
        "duration": 145,
        "start_time": "2023-04-15T21:02:35.728Z"
      },
      {
        "duration": 640,
        "start_time": "2023-04-15T21:02:35.876Z"
      },
      {
        "duration": 291,
        "start_time": "2023-04-15T21:02:36.518Z"
      },
      {
        "duration": 303,
        "start_time": "2023-04-15T21:02:36.811Z"
      },
      {
        "duration": 266,
        "start_time": "2023-04-15T21:02:37.116Z"
      },
      {
        "duration": 361,
        "start_time": "2023-04-15T21:02:37.384Z"
      },
      {
        "duration": 110,
        "start_time": "2023-04-15T21:02:37.746Z"
      },
      {
        "duration": 450,
        "start_time": "2023-04-15T21:02:37.857Z"
      },
      {
        "duration": 184,
        "start_time": "2023-04-15T21:02:38.309Z"
      },
      {
        "duration": 38799,
        "start_time": "2023-04-15T21:02:38.494Z"
      },
      {
        "duration": 3,
        "start_time": "2023-04-15T21:03:17.296Z"
      },
      {
        "duration": 82,
        "start_time": "2023-04-15T21:03:17.301Z"
      },
      {
        "duration": 1763,
        "start_time": "2023-04-15T21:03:17.388Z"
      },
      {
        "duration": 107,
        "start_time": "2023-04-15T21:03:19.153Z"
      },
      {
        "duration": 3,
        "start_time": "2023-04-15T21:03:19.262Z"
      },
      {
        "duration": 11,
        "start_time": "2023-04-15T21:03:19.267Z"
      },
      {
        "duration": 6088948,
        "start_time": "2023-04-15T21:03:19.280Z"
      },
      {
        "duration": 68534,
        "start_time": "2023-04-15T22:44:48.230Z"
      },
      {
        "duration": 32611,
        "start_time": "2023-04-15T22:45:56.766Z"
      },
      {
        "duration": 3,
        "start_time": "2023-04-15T22:46:29.379Z"
      },
      {
        "duration": 7901,
        "start_time": "2023-04-15T22:46:29.388Z"
      },
      {
        "duration": 5710,
        "start_time": "2023-04-15T22:46:37.290Z"
      },
      {
        "duration": 146,
        "start_time": "2023-04-15T22:46:43.002Z"
      },
      {
        "duration": 3,
        "start_time": "2023-04-15T22:46:43.149Z"
      },
      {
        "duration": 10,
        "start_time": "2023-04-15T22:46:43.153Z"
      },
      {
        "duration": 5,
        "start_time": "2023-04-15T22:46:43.165Z"
      },
      {
        "duration": 20,
        "start_time": "2023-04-15T22:46:43.171Z"
      },
      {
        "duration": 46,
        "start_time": "2023-04-16T04:30:17.488Z"
      },
      {
        "duration": 6,
        "start_time": "2023-04-16T04:30:42.489Z"
      },
      {
        "duration": 6,
        "start_time": "2023-04-16T04:30:54.397Z"
      },
      {
        "duration": 1532,
        "start_time": "2023-04-16T04:31:02.822Z"
      },
      {
        "duration": 3044,
        "start_time": "2023-04-16T04:31:04.356Z"
      },
      {
        "duration": 16,
        "start_time": "2023-04-16T04:31:07.401Z"
      },
      {
        "duration": 129,
        "start_time": "2023-04-16T04:31:07.418Z"
      },
      {
        "duration": 626,
        "start_time": "2023-04-16T04:31:07.549Z"
      },
      {
        "duration": 273,
        "start_time": "2023-04-16T04:31:08.177Z"
      },
      {
        "duration": 348,
        "start_time": "2023-04-16T04:31:08.452Z"
      },
      {
        "duration": 273,
        "start_time": "2023-04-16T04:31:08.802Z"
      },
      {
        "duration": 360,
        "start_time": "2023-04-16T04:31:09.077Z"
      },
      {
        "duration": 109,
        "start_time": "2023-04-16T04:31:09.439Z"
      },
      {
        "duration": 441,
        "start_time": "2023-04-16T04:31:09.550Z"
      },
      {
        "duration": 184,
        "start_time": "2023-04-16T04:31:09.992Z"
      },
      {
        "duration": 37184,
        "start_time": "2023-04-16T04:31:10.178Z"
      },
      {
        "duration": 4,
        "start_time": "2023-04-16T04:31:47.365Z"
      },
      {
        "duration": 79,
        "start_time": "2023-04-16T04:31:47.370Z"
      },
      {
        "duration": 1745,
        "start_time": "2023-04-16T04:31:47.451Z"
      },
      {
        "duration": 112,
        "start_time": "2023-04-16T04:31:49.198Z"
      },
      {
        "duration": 2,
        "start_time": "2023-04-16T04:31:49.312Z"
      },
      {
        "duration": 8,
        "start_time": "2023-04-16T04:31:49.316Z"
      },
      {
        "duration": 5839175,
        "start_time": "2023-04-16T04:31:49.325Z"
      },
      {
        "duration": 69401,
        "start_time": "2023-04-16T06:09:08.502Z"
      },
      {
        "duration": 32152,
        "start_time": "2023-04-16T06:10:17.904Z"
      },
      {
        "duration": 2,
        "start_time": "2023-04-16T06:10:50.058Z"
      },
      {
        "duration": 8730,
        "start_time": "2023-04-16T06:10:50.062Z"
      },
      {
        "duration": 6207,
        "start_time": "2023-04-16T06:10:58.794Z"
      },
      {
        "duration": 137,
        "start_time": "2023-04-16T06:11:05.003Z"
      },
      {
        "duration": 3,
        "start_time": "2023-04-16T06:11:05.142Z"
      },
      {
        "duration": 7,
        "start_time": "2023-04-16T06:11:05.146Z"
      },
      {
        "duration": 14,
        "start_time": "2023-04-16T06:11:05.154Z"
      },
      {
        "duration": 10,
        "start_time": "2023-04-16T06:11:05.170Z"
      },
      {
        "duration": 90,
        "start_time": "2023-04-16T06:34:58.040Z"
      },
      {
        "duration": 71,
        "start_time": "2023-04-16T06:37:05.364Z"
      },
      {
        "duration": 1413,
        "start_time": "2023-04-16T06:37:09.235Z"
      },
      {
        "duration": 3047,
        "start_time": "2023-04-16T06:37:10.650Z"
      },
      {
        "duration": 15,
        "start_time": "2023-04-16T06:37:13.699Z"
      },
      {
        "duration": 137,
        "start_time": "2023-04-16T06:37:13.715Z"
      },
      {
        "duration": 637,
        "start_time": "2023-04-16T06:37:13.854Z"
      },
      {
        "duration": 279,
        "start_time": "2023-04-16T06:37:14.492Z"
      },
      {
        "duration": 301,
        "start_time": "2023-04-16T06:37:14.773Z"
      },
      {
        "duration": 260,
        "start_time": "2023-04-16T06:37:15.076Z"
      },
      {
        "duration": 361,
        "start_time": "2023-04-16T06:37:15.337Z"
      },
      {
        "duration": 123,
        "start_time": "2023-04-16T06:37:15.700Z"
      },
      {
        "duration": 450,
        "start_time": "2023-04-16T06:37:15.825Z"
      },
      {
        "duration": 190,
        "start_time": "2023-04-16T06:37:16.277Z"
      },
      {
        "duration": 37812,
        "start_time": "2023-04-16T06:37:16.469Z"
      },
      {
        "duration": 5,
        "start_time": "2023-04-16T06:37:54.283Z"
      },
      {
        "duration": 77,
        "start_time": "2023-04-16T06:37:54.290Z"
      },
      {
        "duration": 1785,
        "start_time": "2023-04-16T06:37:54.368Z"
      },
      {
        "duration": 114,
        "start_time": "2023-04-16T06:37:56.154Z"
      },
      {
        "duration": 3,
        "start_time": "2023-04-16T06:37:56.269Z"
      },
      {
        "duration": 14,
        "start_time": "2023-04-16T06:37:56.273Z"
      },
      {
        "duration": 5388305,
        "start_time": "2023-04-16T06:37:56.289Z"
      },
      {
        "duration": 42762,
        "start_time": "2023-04-16T08:07:44.597Z"
      },
      {
        "duration": 11756,
        "start_time": "2023-04-16T08:08:27.360Z"
      },
      {
        "duration": 2,
        "start_time": "2023-04-16T08:08:39.118Z"
      },
      {
        "duration": 43379,
        "start_time": "2023-04-16T08:08:39.122Z"
      },
      {
        "duration": 5501,
        "start_time": "2023-04-16T08:09:22.503Z"
      },
      {
        "duration": 152,
        "start_time": "2023-04-16T08:09:28.005Z"
      },
      {
        "duration": 92,
        "start_time": "2023-04-16T08:09:28.159Z"
      },
      {
        "duration": 40793,
        "start_time": "2023-04-16T08:09:28.254Z"
      },
      {
        "duration": 2,
        "start_time": "2023-04-16T08:10:09.049Z"
      },
      {
        "duration": 8,
        "start_time": "2023-04-16T08:10:09.053Z"
      },
      {
        "duration": 130,
        "start_time": "2023-04-16T08:23:17.100Z"
      },
      {
        "duration": 12,
        "start_time": "2023-04-16T08:24:35.008Z"
      },
      {
        "duration": 13,
        "start_time": "2023-04-16T08:24:55.083Z"
      },
      {
        "duration": 3,
        "start_time": "2023-04-16T08:25:02.929Z"
      },
      {
        "duration": 24,
        "start_time": "2023-04-16T08:26:48.506Z"
      },
      {
        "duration": 2,
        "start_time": "2023-04-16T08:28:04.350Z"
      },
      {
        "duration": 75,
        "start_time": "2023-04-16T08:29:13.471Z"
      },
      {
        "duration": 7,
        "start_time": "2023-04-16T08:45:28.973Z"
      },
      {
        "duration": 1459,
        "start_time": "2023-04-16T08:47:52.596Z"
      },
      {
        "duration": 4,
        "start_time": "2023-04-16T08:47:54.057Z"
      },
      {
        "duration": 1956,
        "start_time": "2023-04-16T08:48:19.983Z"
      },
      {
        "duration": 628,
        "start_time": "2023-04-16T10:39:27.820Z"
      },
      {
        "duration": 307,
        "start_time": "2023-04-16T10:39:32.600Z"
      },
      {
        "duration": 328,
        "start_time": "2023-04-16T10:39:33.533Z"
      },
      {
        "duration": 429,
        "start_time": "2023-04-16T10:39:34.608Z"
      },
      {
        "duration": 339,
        "start_time": "2023-04-16T10:39:36.452Z"
      },
      {
        "duration": 6,
        "start_time": "2023-04-16T10:40:30.732Z"
      },
      {
        "duration": 5,
        "start_time": "2023-04-16T10:40:31.297Z"
      },
      {
        "duration": 1662,
        "start_time": "2023-04-16T10:40:31.599Z"
      },
      {
        "duration": 13,
        "start_time": "2023-04-16T10:40:33.263Z"
      },
      {
        "duration": 426,
        "start_time": "2023-04-16T10:40:35.924Z"
      },
      {
        "duration": 541,
        "start_time": "2023-04-16T10:41:20.248Z"
      },
      {
        "duration": 1546,
        "start_time": "2023-04-16T10:41:57.904Z"
      },
      {
        "duration": 4,
        "start_time": "2023-04-16T10:41:59.452Z"
      },
      {
        "duration": 1992,
        "start_time": "2023-04-16T10:41:59.457Z"
      },
      {
        "duration": 15,
        "start_time": "2023-04-16T10:42:01.451Z"
      },
      {
        "duration": 570,
        "start_time": "2023-04-16T10:42:01.468Z"
      },
      {
        "duration": 116,
        "start_time": "2023-04-16T10:42:25.900Z"
      },
      {
        "duration": 381,
        "start_time": "2023-04-16T10:42:32.270Z"
      },
      {
        "duration": 239,
        "start_time": "2023-04-16T10:47:46.345Z"
      },
      {
        "duration": 23,
        "start_time": "2023-04-16T10:49:40.549Z"
      },
      {
        "duration": 18,
        "start_time": "2023-04-16T10:49:47.648Z"
      },
      {
        "duration": 266,
        "start_time": "2023-04-16T10:50:24.628Z"
      },
      {
        "duration": 296,
        "start_time": "2023-04-16T10:50:24.991Z"
      },
      {
        "duration": 312,
        "start_time": "2023-04-16T10:50:25.310Z"
      },
      {
        "duration": 306,
        "start_time": "2023-04-16T10:50:27.003Z"
      },
      {
        "duration": 17,
        "start_time": "2023-04-16T10:51:56.002Z"
      },
      {
        "duration": 114,
        "start_time": "2023-04-16T10:58:19.614Z"
      },
      {
        "duration": 111,
        "start_time": "2023-04-16T10:58:29.700Z"
      },
      {
        "duration": 120,
        "start_time": "2023-04-16T10:58:54.716Z"
      },
      {
        "duration": 131,
        "start_time": "2023-04-16T10:59:06.189Z"
      },
      {
        "duration": 104,
        "start_time": "2023-04-16T10:59:26.205Z"
      },
      {
        "duration": 130,
        "start_time": "2023-04-16T10:59:31.152Z"
      },
      {
        "duration": 111,
        "start_time": "2023-04-16T10:59:35.641Z"
      },
      {
        "duration": 10,
        "start_time": "2023-04-16T10:59:53.600Z"
      },
      {
        "duration": 112,
        "start_time": "2023-04-16T11:02:56.151Z"
      },
      {
        "duration": 15,
        "start_time": "2023-04-16T11:03:33.047Z"
      },
      {
        "duration": 106,
        "start_time": "2023-04-16T11:03:41.483Z"
      },
      {
        "duration": 105,
        "start_time": "2023-04-16T11:03:49.919Z"
      },
      {
        "duration": 118,
        "start_time": "2023-04-16T11:05:26.346Z"
      },
      {
        "duration": 523,
        "start_time": "2023-04-16T11:08:35.802Z"
      },
      {
        "duration": 47,
        "start_time": "2023-04-16T11:09:27.249Z"
      },
      {
        "duration": 8,
        "start_time": "2023-04-16T11:09:41.103Z"
      },
      {
        "duration": 18,
        "start_time": "2023-04-16T11:09:52.607Z"
      },
      {
        "duration": 45,
        "start_time": "2023-04-16T11:09:56.303Z"
      },
      {
        "duration": 14,
        "start_time": "2023-04-16T11:10:03.884Z"
      },
      {
        "duration": 15,
        "start_time": "2023-04-16T11:30:27.755Z"
      },
      {
        "duration": 790,
        "start_time": "2023-04-16T11:31:24.932Z"
      },
      {
        "duration": 30,
        "start_time": "2023-04-16T11:32:23.212Z"
      },
      {
        "duration": 24,
        "start_time": "2023-04-16T11:32:32.207Z"
      },
      {
        "duration": 758,
        "start_time": "2023-04-16T11:32:35.289Z"
      },
      {
        "duration": 1750,
        "start_time": "2023-04-16T11:34:59.906Z"
      },
      {
        "duration": 5,
        "start_time": "2023-04-16T11:35:01.658Z"
      },
      {
        "duration": 2043,
        "start_time": "2023-04-16T11:35:01.665Z"
      },
      {
        "duration": 14,
        "start_time": "2023-04-16T11:35:03.710Z"
      },
      {
        "duration": 412,
        "start_time": "2023-04-16T11:35:03.725Z"
      },
      {
        "duration": 248,
        "start_time": "2023-04-16T11:35:04.139Z"
      },
      {
        "duration": 22,
        "start_time": "2023-04-16T11:35:04.393Z"
      },
      {
        "duration": 295,
        "start_time": "2023-04-16T11:35:05.027Z"
      },
      {
        "duration": 349,
        "start_time": "2023-04-16T11:35:06.707Z"
      },
      {
        "duration": 381,
        "start_time": "2023-04-16T11:35:07.058Z"
      },
      {
        "duration": 331,
        "start_time": "2023-04-16T11:35:07.714Z"
      },
      {
        "duration": 20,
        "start_time": "2023-04-16T11:35:10.249Z"
      },
      {
        "duration": 166,
        "start_time": "2023-04-16T11:35:10.909Z"
      },
      {
        "duration": 2,
        "start_time": "2023-04-16T11:35:12.033Z"
      },
      {
        "duration": 463,
        "start_time": "2023-04-16T11:35:12.280Z"
      },
      {
        "duration": 36,
        "start_time": "2023-04-16T11:35:14.797Z"
      },
      {
        "duration": 21,
        "start_time": "2023-04-16T11:35:17.228Z"
      },
      {
        "duration": 3,
        "start_time": "2023-04-16T11:35:18.023Z"
      },
      {
        "duration": 2,
        "start_time": "2023-04-16T11:35:18.408Z"
      },
      {
        "duration": 14,
        "start_time": "2023-04-16T11:35:19.024Z"
      },
      {
        "duration": 15,
        "start_time": "2023-04-16T11:35:20.528Z"
      },
      {
        "duration": 662,
        "start_time": "2023-04-16T11:35:20.919Z"
      },
      {
        "duration": 21,
        "start_time": "2023-04-16T11:44:02.042Z"
      },
      {
        "duration": 175,
        "start_time": "2023-04-16T11:44:48.717Z"
      },
      {
        "duration": 76,
        "start_time": "2023-04-16T11:45:20.784Z"
      },
      {
        "duration": 166,
        "start_time": "2023-04-16T11:45:25.113Z"
      },
      {
        "duration": 46,
        "start_time": "2023-04-16T11:45:35.230Z"
      },
      {
        "duration": 185,
        "start_time": "2023-04-16T11:45:40.263Z"
      },
      {
        "duration": 122,
        "start_time": "2023-04-16T11:53:31.421Z"
      },
      {
        "duration": 225,
        "start_time": "2023-04-16T11:53:42.833Z"
      },
      {
        "duration": 30,
        "start_time": "2023-04-16T11:54:59.087Z"
      },
      {
        "duration": 112,
        "start_time": "2023-04-16T11:54:59.407Z"
      },
      {
        "duration": 25,
        "start_time": "2023-04-16T11:55:23.749Z"
      },
      {
        "duration": 7,
        "start_time": "2023-04-16T11:55:37.718Z"
      },
      {
        "duration": 7,
        "start_time": "2023-04-16T11:55:38.014Z"
      },
      {
        "duration": 1811,
        "start_time": "2023-04-16T11:55:38.148Z"
      },
      {
        "duration": 27,
        "start_time": "2023-04-16T11:55:39.961Z"
      },
      {
        "duration": 391,
        "start_time": "2023-04-16T11:55:39.990Z"
      },
      {
        "duration": 333,
        "start_time": "2023-04-16T11:55:40.384Z"
      },
      {
        "duration": 23,
        "start_time": "2023-04-16T11:55:40.719Z"
      },
      {
        "duration": 305,
        "start_time": "2023-04-16T11:55:40.749Z"
      },
      {
        "duration": 384,
        "start_time": "2023-04-16T11:55:41.056Z"
      },
      {
        "duration": 283,
        "start_time": "2023-04-16T11:55:41.442Z"
      },
      {
        "duration": 374,
        "start_time": "2023-04-16T11:55:41.727Z"
      },
      {
        "duration": 15,
        "start_time": "2023-04-16T11:55:42.105Z"
      },
      {
        "duration": 211,
        "start_time": "2023-04-16T11:55:42.122Z"
      },
      {
        "duration": 3,
        "start_time": "2023-04-16T11:55:42.335Z"
      },
      {
        "duration": 602,
        "start_time": "2023-04-16T11:55:42.340Z"
      },
      {
        "duration": 54,
        "start_time": "2023-04-16T11:55:42.944Z"
      },
      {
        "duration": 13,
        "start_time": "2023-04-16T11:55:43.000Z"
      },
      {
        "duration": 24,
        "start_time": "2023-04-16T11:55:43.015Z"
      },
      {
        "duration": 674,
        "start_time": "2023-04-16T11:55:43.791Z"
      },
      {
        "duration": 180,
        "start_time": "2023-04-16T11:55:46.312Z"
      },
      {
        "duration": 97,
        "start_time": "2023-04-16T11:55:47.950Z"
      },
      {
        "duration": 278,
        "start_time": "2023-04-16T11:55:49.663Z"
      },
      {
        "duration": 18,
        "start_time": "2023-04-16T11:55:55.718Z"
      },
      {
        "duration": 7,
        "start_time": "2023-04-16T11:56:01.913Z"
      },
      {
        "duration": 7,
        "start_time": "2023-04-16T11:56:02.215Z"
      },
      {
        "duration": 1791,
        "start_time": "2023-04-16T11:56:02.387Z"
      },
      {
        "duration": 19,
        "start_time": "2023-04-16T11:56:04.186Z"
      },
      {
        "duration": 374,
        "start_time": "2023-04-16T11:56:04.207Z"
      },
      {
        "duration": 266,
        "start_time": "2023-04-16T11:56:04.586Z"
      },
      {
        "duration": 18,
        "start_time": "2023-04-16T11:56:04.854Z"
      },
      {
        "duration": 355,
        "start_time": "2023-04-16T11:56:04.874Z"
      },
      {
        "duration": 345,
        "start_time": "2023-04-16T11:56:05.231Z"
      },
      {
        "duration": 314,
        "start_time": "2023-04-16T11:56:05.578Z"
      },
      {
        "duration": 369,
        "start_time": "2023-04-16T11:56:05.894Z"
      },
      {
        "duration": 29,
        "start_time": "2023-04-16T11:56:06.266Z"
      },
      {
        "duration": 196,
        "start_time": "2023-04-16T11:56:06.298Z"
      },
      {
        "duration": 4,
        "start_time": "2023-04-16T11:56:06.497Z"
      },
      {
        "duration": 577,
        "start_time": "2023-04-16T11:56:06.503Z"
      },
      {
        "duration": 49,
        "start_time": "2023-04-16T11:56:07.086Z"
      },
      {
        "duration": 17,
        "start_time": "2023-04-16T11:56:07.137Z"
      },
      {
        "duration": 15,
        "start_time": "2023-04-16T11:56:09.150Z"
      },
      {
        "duration": 744,
        "start_time": "2023-04-16T11:56:09.814Z"
      },
      {
        "duration": 166,
        "start_time": "2023-04-16T11:56:15.313Z"
      },
      {
        "duration": 96,
        "start_time": "2023-04-16T11:56:16.608Z"
      },
      {
        "duration": 371,
        "start_time": "2023-04-16T11:56:18.562Z"
      },
      {
        "duration": 70,
        "start_time": "2023-04-16T12:00:15.553Z"
      },
      {
        "duration": 19,
        "start_time": "2023-04-16T12:00:58.514Z"
      },
      {
        "duration": 25,
        "start_time": "2023-04-16T12:01:09.213Z"
      },
      {
        "duration": 28,
        "start_time": "2023-04-16T12:01:15.301Z"
      },
      {
        "duration": 62,
        "start_time": "2023-04-16T12:04:49.611Z"
      },
      {
        "duration": 8,
        "start_time": "2023-04-16T12:04:53.800Z"
      },
      {
        "duration": 1570,
        "start_time": "2023-04-16T12:05:00.111Z"
      },
      {
        "duration": 4,
        "start_time": "2023-04-16T12:06:55.435Z"
      },
      {
        "duration": 73,
        "start_time": "2023-04-16T12:09:15.690Z"
      },
      {
        "duration": 12,
        "start_time": "2023-04-16T12:09:27.535Z"
      },
      {
        "duration": 6,
        "start_time": "2023-04-16T12:09:42.633Z"
      },
      {
        "duration": 56,
        "start_time": "2023-04-16T12:09:46.632Z"
      },
      {
        "duration": 6,
        "start_time": "2023-04-16T12:10:17.643Z"
      },
      {
        "duration": 111,
        "start_time": "2023-04-16T12:10:34.740Z"
      },
      {
        "duration": 5,
        "start_time": "2023-04-16T12:11:20.117Z"
      },
      {
        "duration": 7,
        "start_time": "2023-04-16T12:11:21.126Z"
      },
      {
        "duration": 3,
        "start_time": "2023-04-16T12:11:21.513Z"
      },
      {
        "duration": 1488360,
        "start_time": "2023-04-16T12:11:22.576Z"
      },
      {
        "duration": 1564615,
        "start_time": "2023-04-16T12:36:52.104Z"
      },
      {
        "duration": 2,
        "start_time": "2023-04-16T13:02:56.721Z"
      },
      {
        "duration": 31360274,
        "start_time": "2023-04-16T13:02:56.725Z"
      },
      {
        "duration": 9311817,
        "start_time": "2023-04-16T21:45:37.001Z"
      },
      {
        "duration": 9803886,
        "start_time": "2023-04-17T00:20:48.819Z"
      },
      {
        "duration": 3,
        "start_time": "2023-04-17T03:04:12.707Z"
      },
      {
        "duration": 23,
        "start_time": "2023-04-17T03:04:12.712Z"
      },
      {
        "duration": 1134183,
        "start_time": "2023-04-17T03:04:12.737Z"
      },
      {
        "duration": 5770,
        "start_time": "2023-04-17T03:23:06.922Z"
      },
      {
        "duration": 708658,
        "start_time": "2023-04-17T03:23:12.695Z"
      },
      {
        "duration": 832617,
        "start_time": "2023-04-17T03:35:01.354Z"
      },
      {
        "duration": 4,
        "start_time": "2023-04-17T03:48:53.973Z"
      },
      {
        "duration": 4,
        "start_time": "2023-04-17T03:49:37.019Z"
      },
      {
        "duration": 11,
        "start_time": "2023-04-17T03:49:39.178Z"
      },
      {
        "duration": 10,
        "start_time": "2023-04-17T03:49:52.788Z"
      },
      {
        "duration": 255262,
        "start_time": "2023-04-17T03:50:01.991Z"
      },
      {
        "duration": 10,
        "start_time": "2023-04-17T03:55:36.011Z"
      },
      {
        "duration": 3,
        "start_time": "2023-04-17T03:55:45.473Z"
      },
      {
        "duration": 257191,
        "start_time": "2023-04-17T03:55:50.965Z"
      },
      {
        "duration": 8285,
        "start_time": "2023-04-17T07:16:59.641Z"
      },
      {
        "duration": 5,
        "start_time": "2023-04-17T07:17:07.930Z"
      },
      {
        "duration": 2354,
        "start_time": "2023-04-17T07:17:07.937Z"
      },
      {
        "duration": 29,
        "start_time": "2023-04-17T07:17:10.293Z"
      },
      {
        "duration": 436,
        "start_time": "2023-04-17T07:17:10.324Z"
      },
      {
        "duration": 240,
        "start_time": "2023-04-17T07:17:10.762Z"
      },
      {
        "duration": 21,
        "start_time": "2023-04-17T07:17:11.007Z"
      },
      {
        "duration": 278,
        "start_time": "2023-04-17T07:17:11.030Z"
      },
      {
        "duration": 422,
        "start_time": "2023-04-17T07:17:11.310Z"
      },
      {
        "duration": 278,
        "start_time": "2023-04-17T07:17:11.735Z"
      },
      {
        "duration": 359,
        "start_time": "2023-04-17T07:17:12.016Z"
      },
      {
        "duration": 27,
        "start_time": "2023-04-17T07:17:12.377Z"
      },
      {
        "duration": 166,
        "start_time": "2023-04-17T07:17:12.406Z"
      },
      {
        "duration": 500,
        "start_time": "2023-04-17T07:17:12.575Z"
      },
      {
        "duration": 59,
        "start_time": "2023-04-17T07:17:13.078Z"
      },
      {
        "duration": 14,
        "start_time": "2023-04-17T07:17:13.139Z"
      },
      {
        "duration": 19,
        "start_time": "2023-04-17T07:17:13.155Z"
      },
      {
        "duration": 797,
        "start_time": "2023-04-17T07:17:13.176Z"
      },
      {
        "duration": 196,
        "start_time": "2023-04-17T07:17:13.975Z"
      },
      {
        "duration": 142,
        "start_time": "2023-04-17T07:17:14.175Z"
      },
      {
        "duration": 355,
        "start_time": "2023-04-17T07:17:14.318Z"
      },
      {
        "duration": 1594,
        "start_time": "2023-04-17T07:17:14.676Z"
      },
      {
        "duration": 6,
        "start_time": "2023-04-17T07:17:21.668Z"
      },
      {
        "duration": 134,
        "start_time": "2023-04-17T07:17:21.929Z"
      },
      {
        "duration": 10,
        "start_time": "2023-04-17T07:17:46.224Z"
      },
      {
        "duration": 7,
        "start_time": "2023-04-17T07:17:54.020Z"
      },
      {
        "duration": 5,
        "start_time": "2023-04-17T07:17:54.029Z"
      },
      {
        "duration": 1532,
        "start_time": "2023-04-17T07:17:54.035Z"
      },
      {
        "duration": 22,
        "start_time": "2023-04-17T07:17:55.568Z"
      },
      {
        "duration": 305,
        "start_time": "2023-04-17T07:17:55.593Z"
      },
      {
        "duration": 220,
        "start_time": "2023-04-17T07:17:55.900Z"
      },
      {
        "duration": 18,
        "start_time": "2023-04-17T07:17:56.122Z"
      },
      {
        "duration": 258,
        "start_time": "2023-04-17T07:17:56.142Z"
      },
      {
        "duration": 301,
        "start_time": "2023-04-17T07:17:56.402Z"
      },
      {
        "duration": 250,
        "start_time": "2023-04-17T07:17:56.705Z"
      },
      {
        "duration": 292,
        "start_time": "2023-04-17T07:17:56.957Z"
      },
      {
        "duration": 14,
        "start_time": "2023-04-17T07:17:57.251Z"
      },
      {
        "duration": 180,
        "start_time": "2023-04-17T07:17:57.267Z"
      },
      {
        "duration": 593,
        "start_time": "2023-04-17T07:17:57.450Z"
      },
      {
        "duration": 59,
        "start_time": "2023-04-17T07:17:58.045Z"
      },
      {
        "duration": 14,
        "start_time": "2023-04-17T07:17:58.106Z"
      },
      {
        "duration": 16,
        "start_time": "2023-04-17T07:17:58.122Z"
      },
      {
        "duration": 642,
        "start_time": "2023-04-17T07:17:58.140Z"
      },
      {
        "duration": 166,
        "start_time": "2023-04-17T07:17:58.784Z"
      },
      {
        "duration": 103,
        "start_time": "2023-04-17T07:17:58.951Z"
      },
      {
        "duration": 224,
        "start_time": "2023-04-17T07:17:59.056Z"
      },
      {
        "duration": 1607,
        "start_time": "2023-04-17T07:17:59.289Z"
      },
      {
        "duration": 4,
        "start_time": "2023-04-17T07:18:00.899Z"
      },
      {
        "duration": 27,
        "start_time": "2023-04-17T07:18:00.905Z"
      },
      {
        "duration": 263928,
        "start_time": "2023-04-17T07:18:00.934Z"
      },
      {
        "duration": 0,
        "start_time": "2023-04-17T07:23:44.708Z"
      },
      {
        "duration": 0,
        "start_time": "2023-04-17T07:23:44.710Z"
      },
      {
        "duration": 0,
        "start_time": "2023-04-17T07:23:44.711Z"
      },
      {
        "duration": 0,
        "start_time": "2023-04-17T07:23:44.712Z"
      },
      {
        "duration": 0,
        "start_time": "2023-04-17T07:23:44.713Z"
      },
      {
        "duration": 0,
        "start_time": "2023-04-17T07:23:44.714Z"
      },
      {
        "duration": 0,
        "start_time": "2023-04-17T07:23:44.715Z"
      },
      {
        "duration": 0,
        "start_time": "2023-04-17T07:23:44.717Z"
      },
      {
        "duration": 1,
        "start_time": "2023-04-17T07:23:44.717Z"
      },
      {
        "duration": 0,
        "start_time": "2023-04-17T07:23:44.718Z"
      },
      {
        "duration": 0,
        "start_time": "2023-04-17T07:23:44.719Z"
      },
      {
        "duration": 0,
        "start_time": "2023-04-17T07:23:44.721Z"
      },
      {
        "duration": 0,
        "start_time": "2023-04-17T07:23:44.722Z"
      },
      {
        "duration": 0,
        "start_time": "2023-04-17T07:23:44.723Z"
      },
      {
        "duration": 0,
        "start_time": "2023-04-17T07:23:44.724Z"
      },
      {
        "duration": 0,
        "start_time": "2023-04-17T07:23:44.725Z"
      },
      {
        "duration": 0,
        "start_time": "2023-04-17T07:23:44.726Z"
      },
      {
        "duration": 0,
        "start_time": "2023-04-17T07:23:44.728Z"
      },
      {
        "duration": 0,
        "start_time": "2023-04-17T07:23:44.789Z"
      },
      {
        "duration": 0,
        "start_time": "2023-04-17T07:23:44.791Z"
      },
      {
        "duration": 0,
        "start_time": "2023-04-17T07:23:44.792Z"
      },
      {
        "duration": 0,
        "start_time": "2023-04-17T07:23:44.793Z"
      },
      {
        "duration": 0,
        "start_time": "2023-04-17T07:23:44.794Z"
      },
      {
        "duration": 0,
        "start_time": "2023-04-17T07:23:44.795Z"
      },
      {
        "duration": 0,
        "start_time": "2023-04-17T07:23:44.797Z"
      },
      {
        "duration": 0,
        "start_time": "2023-04-17T07:23:44.798Z"
      },
      {
        "duration": 0,
        "start_time": "2023-04-17T07:23:44.799Z"
      },
      {
        "duration": 0,
        "start_time": "2023-04-17T07:23:44.800Z"
      },
      {
        "duration": 0,
        "start_time": "2023-04-17T07:23:44.801Z"
      },
      {
        "duration": 0,
        "start_time": "2023-04-17T07:23:44.802Z"
      },
      {
        "duration": 0,
        "start_time": "2023-04-17T07:23:44.803Z"
      },
      {
        "duration": 0,
        "start_time": "2023-04-17T07:23:44.804Z"
      },
      {
        "duration": 0,
        "start_time": "2023-04-17T07:23:44.805Z"
      },
      {
        "duration": 0,
        "start_time": "2023-04-17T07:23:44.806Z"
      },
      {
        "duration": 0,
        "start_time": "2023-04-17T07:23:44.807Z"
      },
      {
        "duration": 0,
        "start_time": "2023-04-17T07:23:44.808Z"
      },
      {
        "duration": 0,
        "start_time": "2023-04-17T07:23:44.809Z"
      },
      {
        "duration": 0,
        "start_time": "2023-04-17T07:23:44.810Z"
      },
      {
        "duration": 0,
        "start_time": "2023-04-17T07:23:44.811Z"
      },
      {
        "duration": 0,
        "start_time": "2023-04-17T07:23:44.812Z"
      },
      {
        "duration": 3749,
        "start_time": "2023-04-17T07:23:50.852Z"
      },
      {
        "duration": 4,
        "start_time": "2023-04-17T07:23:54.604Z"
      },
      {
        "duration": 1755,
        "start_time": "2023-04-17T07:23:54.610Z"
      },
      {
        "duration": 3,
        "start_time": "2023-04-17T07:23:56.367Z"
      },
      {
        "duration": 25,
        "start_time": "2023-04-17T07:23:56.372Z"
      },
      {
        "duration": 23,
        "start_time": "2023-04-17T07:23:56.400Z"
      },
      {
        "duration": 15,
        "start_time": "2023-04-17T07:23:56.425Z"
      },
      {
        "duration": 7,
        "start_time": "2023-04-17T07:23:56.442Z"
      },
      {
        "duration": 113,
        "start_time": "2023-04-17T07:23:56.451Z"
      },
      {
        "duration": 145,
        "start_time": "2023-04-17T07:23:56.566Z"
      },
      {
        "duration": 114,
        "start_time": "2023-04-17T07:23:56.713Z"
      },
      {
        "duration": 197,
        "start_time": "2023-04-17T07:23:56.829Z"
      },
      {
        "duration": 7,
        "start_time": "2023-04-17T07:23:57.028Z"
      },
      {
        "duration": 132,
        "start_time": "2023-04-17T07:23:57.037Z"
      },
      {
        "duration": 302,
        "start_time": "2023-04-17T07:23:57.171Z"
      },
      {
        "duration": 19,
        "start_time": "2023-04-17T07:23:57.474Z"
      },
      {
        "duration": 8,
        "start_time": "2023-04-17T07:23:57.495Z"
      },
      {
        "duration": 5,
        "start_time": "2023-04-17T07:23:57.505Z"
      },
      {
        "duration": 366,
        "start_time": "2023-04-17T07:23:57.512Z"
      },
      {
        "duration": 11,
        "start_time": "2023-04-17T07:23:57.891Z"
      },
      {
        "duration": 10,
        "start_time": "2023-04-17T07:23:57.904Z"
      },
      {
        "duration": 38,
        "start_time": "2023-04-17T07:23:57.915Z"
      },
      {
        "duration": 65,
        "start_time": "2023-04-17T07:23:57.954Z"
      },
      {
        "duration": 3,
        "start_time": "2023-04-17T07:23:58.021Z"
      },
      {
        "duration": 18,
        "start_time": "2023-04-17T07:23:58.026Z"
      },
      {
        "duration": 24067,
        "start_time": "2023-04-17T07:23:58.046Z"
      },
      {
        "duration": 2833,
        "start_time": "2023-04-17T07:24:22.115Z"
      },
      {
        "duration": 4,
        "start_time": "2023-04-17T07:24:24.952Z"
      },
      {
        "duration": 19,
        "start_time": "2023-04-17T07:24:24.958Z"
      },
      {
        "duration": 1511311,
        "start_time": "2023-04-17T07:24:24.979Z"
      },
      {
        "duration": 0,
        "start_time": "2023-04-17T08:01:17.798Z"
      },
      {
        "duration": 0,
        "start_time": "2023-04-17T08:01:17.799Z"
      },
      {
        "duration": 0,
        "start_time": "2023-04-17T08:01:17.803Z"
      },
      {
        "duration": 0,
        "start_time": "2023-04-17T08:01:17.804Z"
      },
      {
        "duration": 0,
        "start_time": "2023-04-17T08:01:17.805Z"
      },
      {
        "duration": 0,
        "start_time": "2023-04-17T08:01:17.805Z"
      },
      {
        "duration": 0,
        "start_time": "2023-04-17T08:01:17.807Z"
      },
      {
        "duration": 0,
        "start_time": "2023-04-17T08:01:17.808Z"
      },
      {
        "duration": 0,
        "start_time": "2023-04-17T08:01:17.810Z"
      },
      {
        "duration": 0,
        "start_time": "2023-04-17T08:01:17.810Z"
      },
      {
        "duration": 0,
        "start_time": "2023-04-17T08:01:17.811Z"
      },
      {
        "duration": 2,
        "start_time": "2023-04-17T08:01:20.632Z"
      },
      {
        "duration": 30094,
        "start_time": "2023-04-17T08:01:28.868Z"
      },
      {
        "duration": 115546,
        "start_time": "2023-04-17T08:02:14.243Z"
      },
      {
        "duration": 30208,
        "start_time": "2023-04-17T08:04:25.131Z"
      },
      {
        "duration": 60,
        "start_time": "2023-04-17T08:05:09.540Z"
      },
      {
        "duration": 3,
        "start_time": "2023-04-17T08:05:11.559Z"
      },
      {
        "duration": 3041,
        "start_time": "2023-04-17T08:05:11.731Z"
      },
      {
        "duration": 2978,
        "start_time": "2023-04-17T08:05:22.431Z"
      },
      {
        "duration": 3467,
        "start_time": "2023-04-17T08:05:32.543Z"
      },
      {
        "duration": 4,
        "start_time": "2023-04-17T08:05:36.012Z"
      },
      {
        "duration": 5,
        "start_time": "2023-04-17T08:05:44.641Z"
      },
      {
        "duration": 6,
        "start_time": "2023-04-17T08:05:47.539Z"
      },
      {
        "duration": 3446,
        "start_time": "2023-04-17T08:05:48.011Z"
      },
      {
        "duration": 8,
        "start_time": "2023-04-17T08:07:11.642Z"
      },
      {
        "duration": 35,
        "start_time": "2023-04-17T08:07:14.653Z"
      },
      {
        "duration": 13,
        "start_time": "2023-04-17T08:07:38.431Z"
      },
      {
        "duration": 13,
        "start_time": "2023-04-17T08:07:46.915Z"
      },
      {
        "duration": 67,
        "start_time": "2023-04-17T08:07:48.415Z"
      },
      {
        "duration": 13,
        "start_time": "2023-04-17T08:07:50.931Z"
      },
      {
        "duration": 27,
        "start_time": "2023-04-17T08:07:58.238Z"
      },
      {
        "duration": 778,
        "start_time": "2023-04-17T08:08:03.323Z"
      },
      {
        "duration": 892,
        "start_time": "2023-04-17T08:08:07.818Z"
      },
      {
        "duration": 9,
        "start_time": "2023-04-17T08:08:12.467Z"
      },
      {
        "duration": 5,
        "start_time": "2023-04-17T08:09:12.215Z"
      },
      {
        "duration": 1734,
        "start_time": "2023-04-17T19:48:47.542Z"
      },
      {
        "duration": 5,
        "start_time": "2023-04-17T19:48:49.278Z"
      },
      {
        "duration": 2221,
        "start_time": "2023-04-17T19:48:49.285Z"
      },
      {
        "duration": 11,
        "start_time": "2023-04-17T19:48:51.508Z"
      },
      {
        "duration": 372,
        "start_time": "2023-04-17T19:48:51.521Z"
      },
      {
        "duration": 292,
        "start_time": "2023-04-17T19:48:51.895Z"
      },
      {
        "duration": 21,
        "start_time": "2023-04-17T19:48:52.189Z"
      },
      {
        "duration": 296,
        "start_time": "2023-04-17T19:48:52.213Z"
      },
      {
        "duration": 413,
        "start_time": "2023-04-17T19:48:52.511Z"
      },
      {
        "duration": 283,
        "start_time": "2023-04-17T19:48:52.926Z"
      },
      {
        "duration": 367,
        "start_time": "2023-04-17T19:48:53.210Z"
      },
      {
        "duration": 18,
        "start_time": "2023-04-17T19:48:53.579Z"
      },
      {
        "duration": 202,
        "start_time": "2023-04-17T19:48:53.599Z"
      },
      {
        "duration": 451,
        "start_time": "2023-04-17T19:48:53.804Z"
      },
      {
        "duration": 44,
        "start_time": "2023-04-17T19:48:54.257Z"
      },
      {
        "duration": 13,
        "start_time": "2023-04-17T19:48:54.303Z"
      },
      {
        "duration": 32,
        "start_time": "2023-04-17T19:48:54.318Z"
      },
      {
        "duration": 696,
        "start_time": "2023-04-17T19:48:54.356Z"
      },
      {
        "duration": 165,
        "start_time": "2023-04-17T19:48:55.054Z"
      },
      {
        "duration": 135,
        "start_time": "2023-04-17T19:48:55.221Z"
      },
      {
        "duration": 258,
        "start_time": "2023-04-17T19:48:55.358Z"
      },
      {
        "duration": 1353,
        "start_time": "2023-04-17T19:48:55.618Z"
      },
      {
        "duration": 4,
        "start_time": "2023-04-17T19:48:56.973Z"
      },
      {
        "duration": 18,
        "start_time": "2023-04-17T19:48:56.978Z"
      },
      {
        "duration": 1493,
        "start_time": "2023-04-17T19:53:44.671Z"
      },
      {
        "duration": 4,
        "start_time": "2023-04-17T19:53:46.167Z"
      },
      {
        "duration": 1785,
        "start_time": "2023-04-17T19:53:46.173Z"
      },
      {
        "duration": 13,
        "start_time": "2023-04-17T19:53:47.960Z"
      },
      {
        "duration": 385,
        "start_time": "2023-04-17T19:53:47.976Z"
      },
      {
        "duration": 235,
        "start_time": "2023-04-17T19:53:48.363Z"
      },
      {
        "duration": 22,
        "start_time": "2023-04-17T19:53:48.600Z"
      },
      {
        "duration": 287,
        "start_time": "2023-04-17T19:53:48.624Z"
      },
      {
        "duration": 326,
        "start_time": "2023-04-17T19:53:48.913Z"
      },
      {
        "duration": 326,
        "start_time": "2023-04-17T19:53:49.241Z"
      },
      {
        "duration": 385,
        "start_time": "2023-04-17T19:53:49.569Z"
      },
      {
        "duration": 13,
        "start_time": "2023-04-17T19:53:49.956Z"
      },
      {
        "duration": 175,
        "start_time": "2023-04-17T19:53:49.971Z"
      },
      {
        "duration": 435,
        "start_time": "2023-04-17T19:53:50.150Z"
      },
      {
        "duration": 57,
        "start_time": "2023-04-17T19:53:50.587Z"
      },
      {
        "duration": 15,
        "start_time": "2023-04-17T19:53:50.646Z"
      },
      {
        "duration": 26,
        "start_time": "2023-04-17T19:53:50.663Z"
      },
      {
        "duration": 712,
        "start_time": "2023-04-17T19:53:50.691Z"
      },
      {
        "duration": 170,
        "start_time": "2023-04-17T19:53:51.405Z"
      },
      {
        "duration": 93,
        "start_time": "2023-04-17T19:53:51.577Z"
      },
      {
        "duration": 235,
        "start_time": "2023-04-17T19:53:51.672Z"
      },
      {
        "duration": 1333,
        "start_time": "2023-04-17T19:53:51.909Z"
      },
      {
        "duration": 3,
        "start_time": "2023-04-17T19:53:53.244Z"
      },
      {
        "duration": 14,
        "start_time": "2023-04-17T19:53:53.248Z"
      },
      {
        "duration": 13,
        "start_time": "2023-04-17T19:53:53.264Z"
      },
      {
        "duration": 1342274,
        "start_time": "2023-04-17T19:53:53.279Z"
      },
      {
        "duration": 1533967,
        "start_time": "2023-04-17T20:16:15.555Z"
      },
      {
        "duration": 3,
        "start_time": "2023-04-17T20:41:49.523Z"
      },
      {
        "duration": 23,
        "start_time": "2023-04-17T20:41:49.535Z"
      },
      {
        "duration": 84073200,
        "start_time": "2023-04-17T20:41:49.560Z"
      },
      {
        "duration": 1450,
        "start_time": "2023-04-18T20:08:39.506Z"
      },
      {
        "duration": 8,
        "start_time": "2023-04-18T20:08:40.958Z"
      },
      {
        "duration": 1864,
        "start_time": "2023-04-18T20:08:40.968Z"
      },
      {
        "duration": 22,
        "start_time": "2023-04-18T20:08:42.834Z"
      },
      {
        "duration": 361,
        "start_time": "2023-04-18T20:08:42.858Z"
      },
      {
        "duration": 243,
        "start_time": "2023-04-18T20:08:43.221Z"
      },
      {
        "duration": 22,
        "start_time": "2023-04-18T20:08:43.465Z"
      },
      {
        "duration": 283,
        "start_time": "2023-04-18T20:08:43.489Z"
      },
      {
        "duration": 305,
        "start_time": "2023-04-18T20:08:43.774Z"
      },
      {
        "duration": 1379,
        "start_time": "2023-04-18T20:09:01.983Z"
      },
      {
        "duration": 5,
        "start_time": "2023-04-18T20:09:03.364Z"
      },
      {
        "duration": 1870,
        "start_time": "2023-04-18T20:09:03.370Z"
      },
      {
        "duration": 21,
        "start_time": "2023-04-18T20:09:05.244Z"
      },
      {
        "duration": 394,
        "start_time": "2023-04-18T20:09:05.268Z"
      },
      {
        "duration": 228,
        "start_time": "2023-04-18T20:09:05.663Z"
      },
      {
        "duration": 21,
        "start_time": "2023-04-18T20:09:05.893Z"
      },
      {
        "duration": 276,
        "start_time": "2023-04-18T20:09:05.916Z"
      },
      {
        "duration": 301,
        "start_time": "2023-04-18T20:09:06.193Z"
      },
      {
        "duration": 288,
        "start_time": "2023-04-18T20:09:06.496Z"
      },
      {
        "duration": 418,
        "start_time": "2023-04-18T20:09:06.786Z"
      },
      {
        "duration": 15,
        "start_time": "2023-04-18T20:09:07.206Z"
      },
      {
        "duration": 190,
        "start_time": "2023-04-18T20:09:07.223Z"
      },
      {
        "duration": 483,
        "start_time": "2023-04-18T20:09:07.416Z"
      },
      {
        "duration": 56,
        "start_time": "2023-04-18T20:09:07.901Z"
      },
      {
        "duration": 13,
        "start_time": "2023-04-18T20:09:07.960Z"
      },
      {
        "duration": 14,
        "start_time": "2023-04-18T20:09:07.975Z"
      },
      {
        "duration": 695,
        "start_time": "2023-04-18T20:09:07.991Z"
      },
      {
        "duration": 202,
        "start_time": "2023-04-18T20:09:08.688Z"
      },
      {
        "duration": 106,
        "start_time": "2023-04-18T20:09:08.891Z"
      },
      {
        "duration": 232,
        "start_time": "2023-04-18T20:09:08.999Z"
      },
      {
        "duration": 1391,
        "start_time": "2023-04-18T20:09:09.232Z"
      },
      {
        "duration": 2,
        "start_time": "2023-04-18T20:09:10.625Z"
      },
      {
        "duration": 28,
        "start_time": "2023-04-18T20:09:10.634Z"
      },
      {
        "duration": 16,
        "start_time": "2023-04-18T20:09:10.663Z"
      },
      {
        "duration": 1458,
        "start_time": "2023-04-18T20:11:14.608Z"
      },
      {
        "duration": 4,
        "start_time": "2023-04-18T20:11:16.068Z"
      },
      {
        "duration": 1792,
        "start_time": "2023-04-18T20:11:16.074Z"
      },
      {
        "duration": 12,
        "start_time": "2023-04-18T20:11:17.868Z"
      },
      {
        "duration": 369,
        "start_time": "2023-04-18T20:11:17.881Z"
      },
      {
        "duration": 221,
        "start_time": "2023-04-18T20:11:18.254Z"
      },
      {
        "duration": 23,
        "start_time": "2023-04-18T20:11:18.477Z"
      },
      {
        "duration": 281,
        "start_time": "2023-04-18T20:11:18.502Z"
      },
      {
        "duration": 313,
        "start_time": "2023-04-18T20:11:18.785Z"
      },
      {
        "duration": 274,
        "start_time": "2023-04-18T20:11:19.099Z"
      },
      {
        "duration": 384,
        "start_time": "2023-04-18T20:11:19.374Z"
      },
      {
        "duration": 13,
        "start_time": "2023-04-18T20:11:19.763Z"
      },
      {
        "duration": 147,
        "start_time": "2023-04-18T20:11:19.777Z"
      },
      {
        "duration": 430,
        "start_time": "2023-04-18T20:11:19.926Z"
      },
      {
        "duration": 44,
        "start_time": "2023-04-18T20:11:20.358Z"
      },
      {
        "duration": 12,
        "start_time": "2023-04-18T20:11:20.403Z"
      },
      {
        "duration": 35,
        "start_time": "2023-04-18T20:11:20.417Z"
      },
      {
        "duration": 622,
        "start_time": "2023-04-18T20:11:20.456Z"
      },
      {
        "duration": 187,
        "start_time": "2023-04-18T20:11:21.079Z"
      },
      {
        "duration": 101,
        "start_time": "2023-04-18T20:11:21.268Z"
      },
      {
        "duration": 238,
        "start_time": "2023-04-18T20:11:21.370Z"
      },
      {
        "duration": 1316,
        "start_time": "2023-04-18T20:11:21.610Z"
      },
      {
        "duration": 14,
        "start_time": "2023-04-18T20:11:22.927Z"
      },
      {
        "duration": 21,
        "start_time": "2023-04-18T20:11:22.944Z"
      },
      {
        "duration": 5,
        "start_time": "2023-04-18T20:11:22.966Z"
      },
      {
        "duration": 1368,
        "start_time": "2023-04-18T20:11:31.155Z"
      },
      {
        "duration": 15,
        "start_time": "2023-04-18T20:11:32.525Z"
      },
      {
        "duration": 1793,
        "start_time": "2023-04-18T20:11:32.544Z"
      },
      {
        "duration": 19,
        "start_time": "2023-04-18T20:11:34.339Z"
      },
      {
        "duration": 369,
        "start_time": "2023-04-18T20:11:34.363Z"
      },
      {
        "duration": 242,
        "start_time": "2023-04-18T20:11:34.733Z"
      },
      {
        "duration": 23,
        "start_time": "2023-04-18T20:11:34.977Z"
      },
      {
        "duration": 286,
        "start_time": "2023-04-18T20:11:35.002Z"
      },
      {
        "duration": 353,
        "start_time": "2023-04-18T20:11:35.290Z"
      },
      {
        "duration": 260,
        "start_time": "2023-04-18T20:11:35.645Z"
      },
      {
        "duration": 402,
        "start_time": "2023-04-18T20:11:35.907Z"
      },
      {
        "duration": 14,
        "start_time": "2023-04-18T20:11:36.310Z"
      },
      {
        "duration": 216,
        "start_time": "2023-04-18T20:11:36.338Z"
      },
      {
        "duration": 430,
        "start_time": "2023-04-18T20:11:36.563Z"
      },
      {
        "duration": 61,
        "start_time": "2023-04-18T20:11:36.995Z"
      },
      {
        "duration": 13,
        "start_time": "2023-04-18T20:11:37.064Z"
      },
      {
        "duration": 13,
        "start_time": "2023-04-18T20:11:37.079Z"
      },
      {
        "duration": 710,
        "start_time": "2023-04-18T20:11:37.094Z"
      },
      {
        "duration": 188,
        "start_time": "2023-04-18T20:11:37.807Z"
      },
      {
        "duration": 112,
        "start_time": "2023-04-18T20:11:37.996Z"
      },
      {
        "duration": 244,
        "start_time": "2023-04-18T20:11:38.109Z"
      },
      {
        "duration": 1342,
        "start_time": "2023-04-18T20:11:38.354Z"
      },
      {
        "duration": 3,
        "start_time": "2023-04-18T20:11:39.698Z"
      },
      {
        "duration": 11,
        "start_time": "2023-04-18T20:11:39.702Z"
      },
      {
        "duration": 9,
        "start_time": "2023-04-18T20:11:39.715Z"
      },
      {
        "duration": 1040354,
        "start_time": "2023-04-18T20:11:39.725Z"
      },
      {
        "duration": 2073880,
        "start_time": "2023-04-18T20:29:00.080Z"
      },
      {
        "duration": 4,
        "start_time": "2023-04-18T21:03:33.961Z"
      },
      {
        "duration": 33,
        "start_time": "2023-04-18T21:03:33.971Z"
      },
      {
        "duration": 1428,
        "start_time": "2023-04-18T21:06:53.070Z"
      },
      {
        "duration": 3,
        "start_time": "2023-04-18T21:06:54.501Z"
      },
      {
        "duration": 1967,
        "start_time": "2023-04-18T21:06:54.506Z"
      },
      {
        "duration": 15,
        "start_time": "2023-04-18T21:06:56.476Z"
      },
      {
        "duration": 401,
        "start_time": "2023-04-18T21:06:56.494Z"
      },
      {
        "duration": 248,
        "start_time": "2023-04-18T21:06:56.897Z"
      },
      {
        "duration": 23,
        "start_time": "2023-04-18T21:06:57.150Z"
      },
      {
        "duration": 285,
        "start_time": "2023-04-18T21:06:57.175Z"
      },
      {
        "duration": 322,
        "start_time": "2023-04-18T21:06:57.461Z"
      },
      {
        "duration": 277,
        "start_time": "2023-04-18T21:06:57.785Z"
      },
      {
        "duration": 393,
        "start_time": "2023-04-18T21:06:58.064Z"
      },
      {
        "duration": 17,
        "start_time": "2023-04-18T21:06:58.459Z"
      },
      {
        "duration": 170,
        "start_time": "2023-04-18T21:06:58.478Z"
      },
      {
        "duration": 426,
        "start_time": "2023-04-18T21:06:58.659Z"
      },
      {
        "duration": 40,
        "start_time": "2023-04-18T21:06:59.087Z"
      },
      {
        "duration": 24,
        "start_time": "2023-04-18T21:06:59.135Z"
      },
      {
        "duration": 31,
        "start_time": "2023-04-18T21:06:59.161Z"
      },
      {
        "duration": 659,
        "start_time": "2023-04-18T21:06:59.194Z"
      },
      {
        "duration": 190,
        "start_time": "2023-04-18T21:06:59.855Z"
      },
      {
        "duration": 115,
        "start_time": "2023-04-18T21:07:00.047Z"
      },
      {
        "duration": 243,
        "start_time": "2023-04-18T21:07:00.169Z"
      },
      {
        "duration": 1461,
        "start_time": "2023-04-18T21:07:00.413Z"
      },
      {
        "duration": 4,
        "start_time": "2023-04-18T21:07:01.875Z"
      },
      {
        "duration": 32,
        "start_time": "2023-04-18T21:07:01.880Z"
      },
      {
        "duration": 49,
        "start_time": "2023-04-18T21:07:01.914Z"
      },
      {
        "duration": 616798,
        "start_time": "2023-04-18T21:07:01.965Z"
      },
      {
        "duration": 1558851,
        "start_time": "2023-04-18T21:17:18.765Z"
      },
      {
        "duration": 3,
        "start_time": "2023-04-18T21:43:17.618Z"
      },
      {
        "duration": 19,
        "start_time": "2023-04-18T21:43:17.622Z"
      },
      {
        "duration": 17927198,
        "start_time": "2023-04-18T21:43:17.650Z"
      },
      {
        "duration": 6086604,
        "start_time": "2023-04-19T02:42:04.850Z"
      },
      {
        "duration": 4034891,
        "start_time": "2023-04-19T04:23:31.456Z"
      },
      {
        "duration": 3,
        "start_time": "2023-04-19T05:30:46.348Z"
      },
      {
        "duration": 10,
        "start_time": "2023-04-19T05:30:46.353Z"
      },
      {
        "duration": 27615,
        "start_time": "2023-04-19T05:30:46.364Z"
      },
      {
        "duration": 22675,
        "start_time": "2023-04-19T05:31:13.982Z"
      },
      {
        "duration": 443697,
        "start_time": "2023-04-19T05:31:36.659Z"
      },
      {
        "duration": 104,
        "start_time": "2023-04-19T05:39:00.357Z"
      },
      {
        "duration": 0,
        "start_time": "2023-04-19T05:39:00.463Z"
      },
      {
        "duration": 0,
        "start_time": "2023-04-19T05:39:00.464Z"
      },
      {
        "duration": 0,
        "start_time": "2023-04-19T05:39:00.465Z"
      },
      {
        "duration": 0,
        "start_time": "2023-04-19T05:39:00.466Z"
      },
      {
        "duration": 5,
        "start_time": "2023-04-19T06:06:04.471Z"
      },
      {
        "duration": 4,
        "start_time": "2023-04-19T06:06:07.874Z"
      },
      {
        "duration": 1025,
        "start_time": "2023-04-19T06:06:09.338Z"
      },
      {
        "duration": 794,
        "start_time": "2023-04-19T06:06:21.699Z"
      },
      {
        "duration": 990,
        "start_time": "2023-04-19T06:07:21.226Z"
      },
      {
        "duration": 2,
        "start_time": "2023-04-19T06:07:29.205Z"
      },
      {
        "duration": 109809,
        "start_time": "2023-04-19T06:13:54.513Z"
      },
      {
        "duration": 565461,
        "start_time": "2023-04-19T06:21:38.090Z"
      },
      {
        "duration": 1620,
        "start_time": "2023-04-25T19:03:47.029Z"
      },
      {
        "duration": 15,
        "start_time": "2023-04-25T19:03:48.651Z"
      },
      {
        "duration": 3813,
        "start_time": "2023-04-25T19:03:48.667Z"
      },
      {
        "duration": 347,
        "start_time": "2023-04-25T19:03:52.483Z"
      },
      {
        "duration": 299,
        "start_time": "2023-04-25T19:03:52.831Z"
      },
      {
        "duration": 27,
        "start_time": "2023-04-25T19:03:53.132Z"
      },
      {
        "duration": 291,
        "start_time": "2023-04-25T19:03:53.161Z"
      },
      {
        "duration": 400,
        "start_time": "2023-04-25T19:03:53.453Z"
      },
      {
        "duration": 250,
        "start_time": "2023-04-25T19:03:53.855Z"
      },
      {
        "duration": 291,
        "start_time": "2023-04-25T19:03:54.108Z"
      },
      {
        "duration": 1767,
        "start_time": "2023-04-25T19:03:54.401Z"
      },
      {
        "duration": 13,
        "start_time": "2023-04-25T19:03:56.170Z"
      },
      {
        "duration": 1605,
        "start_time": "2023-04-25T19:03:56.185Z"
      },
      {
        "duration": 416,
        "start_time": "2023-04-25T19:03:57.792Z"
      },
      {
        "duration": 1503,
        "start_time": "2023-04-25T19:03:58.210Z"
      },
      {
        "duration": 13,
        "start_time": "2023-04-25T19:03:59.714Z"
      },
      {
        "duration": 1668,
        "start_time": "2023-04-25T19:03:59.728Z"
      },
      {
        "duration": 1443,
        "start_time": "2023-04-25T19:04:01.398Z"
      },
      {
        "duration": 16,
        "start_time": "2023-04-25T19:04:02.843Z"
      },
      {
        "duration": 598,
        "start_time": "2023-04-25T19:04:02.861Z"
      },
      {
        "duration": 376,
        "start_time": "2023-04-25T19:04:03.461Z"
      },
      {
        "duration": 0,
        "start_time": "2023-04-25T19:04:03.839Z"
      },
      {
        "duration": 0,
        "start_time": "2023-04-25T19:04:03.840Z"
      },
      {
        "duration": 0,
        "start_time": "2023-04-25T19:04:03.841Z"
      },
      {
        "duration": 0,
        "start_time": "2023-04-25T19:04:03.843Z"
      },
      {
        "duration": 0,
        "start_time": "2023-04-25T19:04:03.844Z"
      },
      {
        "duration": 0,
        "start_time": "2023-04-25T19:04:03.845Z"
      },
      {
        "duration": 0,
        "start_time": "2023-04-25T19:04:03.861Z"
      },
      {
        "duration": 0,
        "start_time": "2023-04-25T19:04:03.863Z"
      },
      {
        "duration": 0,
        "start_time": "2023-04-25T19:04:03.865Z"
      },
      {
        "duration": 0,
        "start_time": "2023-04-25T19:04:03.866Z"
      },
      {
        "duration": 0,
        "start_time": "2023-04-25T19:04:03.868Z"
      },
      {
        "duration": 0,
        "start_time": "2023-04-25T19:04:03.869Z"
      },
      {
        "duration": 0,
        "start_time": "2023-04-25T19:04:03.870Z"
      },
      {
        "duration": 0,
        "start_time": "2023-04-25T19:04:03.870Z"
      },
      {
        "duration": 0,
        "start_time": "2023-04-25T19:04:03.872Z"
      },
      {
        "duration": 0,
        "start_time": "2023-04-25T19:04:03.873Z"
      },
      {
        "duration": 0,
        "start_time": "2023-04-25T19:04:03.874Z"
      },
      {
        "duration": 0,
        "start_time": "2023-04-25T19:04:03.876Z"
      },
      {
        "duration": 0,
        "start_time": "2023-04-25T19:04:03.877Z"
      },
      {
        "duration": 0,
        "start_time": "2023-04-25T19:04:03.878Z"
      },
      {
        "duration": 0,
        "start_time": "2023-04-25T19:04:03.879Z"
      },
      {
        "duration": 33527,
        "start_time": "2023-04-25T19:09:25.524Z"
      },
      {
        "duration": 1617,
        "start_time": "2023-04-25T19:10:11.577Z"
      },
      {
        "duration": 13,
        "start_time": "2023-04-25T19:10:13.197Z"
      },
      {
        "duration": 1759,
        "start_time": "2023-04-25T19:10:13.212Z"
      },
      {
        "duration": 357,
        "start_time": "2023-04-25T19:10:14.973Z"
      },
      {
        "duration": 262,
        "start_time": "2023-04-25T19:10:15.333Z"
      },
      {
        "duration": 19,
        "start_time": "2023-04-25T19:10:15.597Z"
      },
      {
        "duration": 390,
        "start_time": "2023-04-25T19:10:15.618Z"
      },
      {
        "duration": 497,
        "start_time": "2023-04-25T19:10:16.010Z"
      },
      {
        "duration": 408,
        "start_time": "2023-04-25T19:10:16.509Z"
      },
      {
        "duration": 470,
        "start_time": "2023-04-25T19:10:16.918Z"
      },
      {
        "duration": 2070,
        "start_time": "2023-04-25T19:10:17.390Z"
      },
      {
        "duration": 16,
        "start_time": "2023-04-25T19:10:19.462Z"
      },
      {
        "duration": 1985,
        "start_time": "2023-04-25T19:10:19.480Z"
      },
      {
        "duration": 743,
        "start_time": "2023-04-25T19:10:21.468Z"
      },
      {
        "duration": 1753,
        "start_time": "2023-04-25T19:10:22.213Z"
      },
      {
        "duration": 13,
        "start_time": "2023-04-25T19:10:23.968Z"
      },
      {
        "duration": 1846,
        "start_time": "2023-04-25T19:10:23.983Z"
      },
      {
        "duration": 1779,
        "start_time": "2023-04-25T19:10:25.831Z"
      },
      {
        "duration": 14,
        "start_time": "2023-04-25T19:10:27.611Z"
      },
      {
        "duration": 656,
        "start_time": "2023-04-25T19:10:27.627Z"
      },
      {
        "duration": 2783,
        "start_time": "2023-04-25T19:10:28.285Z"
      },
      {
        "duration": 103,
        "start_time": "2023-04-25T19:10:31.070Z"
      },
      {
        "duration": 258,
        "start_time": "2023-04-25T19:10:31.175Z"
      },
      {
        "duration": 1623,
        "start_time": "2023-04-25T19:10:31.436Z"
      },
      {
        "duration": 3,
        "start_time": "2023-04-25T19:10:33.061Z"
      },
      {
        "duration": 18,
        "start_time": "2023-04-25T19:10:33.066Z"
      },
      {
        "duration": 617674,
        "start_time": "2023-04-25T19:10:33.086Z"
      },
      {
        "duration": 1517421,
        "start_time": "2023-04-25T19:20:50.762Z"
      },
      {
        "duration": 3,
        "start_time": "2023-04-25T19:46:08.185Z"
      },
      {
        "duration": 9,
        "start_time": "2023-04-25T19:46:08.189Z"
      },
      {
        "duration": 10034376,
        "start_time": "2023-04-25T19:46:08.199Z"
      },
      {
        "duration": 6420083,
        "start_time": "2023-04-25T22:33:22.577Z"
      },
      {
        "duration": 2679910,
        "start_time": "2023-04-26T00:20:22.662Z"
      },
      {
        "duration": 3,
        "start_time": "2023-04-26T01:05:02.573Z"
      },
      {
        "duration": 28,
        "start_time": "2023-04-26T01:05:02.578Z"
      },
      {
        "duration": 30134,
        "start_time": "2023-04-26T01:05:02.607Z"
      },
      {
        "duration": 25296,
        "start_time": "2023-04-26T01:05:32.743Z"
      },
      {
        "duration": 472149,
        "start_time": "2023-04-26T01:05:58.040Z"
      },
      {
        "duration": 4,
        "start_time": "2023-04-26T01:13:50.191Z"
      },
      {
        "duration": 4,
        "start_time": "2023-04-26T01:13:50.197Z"
      },
      {
        "duration": 0,
        "start_time": "2023-04-26T01:13:50.203Z"
      },
      {
        "duration": 0,
        "start_time": "2023-04-26T01:13:50.204Z"
      },
      {
        "duration": 5,
        "start_time": "2023-04-26T03:53:32.207Z"
      },
      {
        "duration": 1349,
        "start_time": "2023-04-26T03:53:41.958Z"
      },
      {
        "duration": 1190,
        "start_time": "2023-04-26T03:54:23.662Z"
      },
      {
        "duration": 5,
        "start_time": "2023-04-26T04:05:30.633Z"
      },
      {
        "duration": 1162,
        "start_time": "2023-04-26T04:05:34.030Z"
      },
      {
        "duration": 1255,
        "start_time": "2023-04-26T04:08:47.661Z"
      },
      {
        "duration": 1308,
        "start_time": "2023-04-26T04:12:43.570Z"
      },
      {
        "duration": 43,
        "start_time": "2023-04-26T04:17:16.389Z"
      },
      {
        "duration": 30,
        "start_time": "2023-04-26T04:17:42.966Z"
      },
      {
        "duration": 1276,
        "start_time": "2023-04-26T04:18:38.812Z"
      },
      {
        "duration": 1336,
        "start_time": "2023-04-26T19:33:00.150Z"
      },
      {
        "duration": 1923,
        "start_time": "2023-04-28T09:34:23.480Z"
      },
      {
        "duration": 14,
        "start_time": "2023-04-28T09:34:25.406Z"
      },
      {
        "duration": 2697,
        "start_time": "2023-04-28T09:34:25.423Z"
      },
      {
        "duration": 479,
        "start_time": "2023-04-28T09:34:28.122Z"
      },
      {
        "duration": 327,
        "start_time": "2023-04-28T09:34:28.605Z"
      },
      {
        "duration": 28,
        "start_time": "2023-04-28T09:34:28.940Z"
      },
      {
        "duration": 301,
        "start_time": "2023-04-28T09:34:28.972Z"
      },
      {
        "duration": 441,
        "start_time": "2023-04-28T09:34:29.276Z"
      },
      {
        "duration": 290,
        "start_time": "2023-04-28T09:34:29.719Z"
      },
      {
        "duration": 340,
        "start_time": "2023-04-28T09:34:30.012Z"
      },
      {
        "duration": 1895,
        "start_time": "2023-04-28T09:34:30.356Z"
      },
      {
        "duration": 17,
        "start_time": "2023-04-28T09:34:32.253Z"
      },
      {
        "duration": 1756,
        "start_time": "2023-04-28T09:34:32.272Z"
      },
      {
        "duration": 541,
        "start_time": "2023-04-28T09:34:34.040Z"
      },
      {
        "duration": 2060,
        "start_time": "2023-04-28T09:34:34.583Z"
      },
      {
        "duration": 20,
        "start_time": "2023-04-28T09:34:36.645Z"
      },
      {
        "duration": 1826,
        "start_time": "2023-04-28T09:34:36.668Z"
      },
      {
        "duration": 1787,
        "start_time": "2023-04-28T09:34:38.496Z"
      },
      {
        "duration": 20,
        "start_time": "2023-04-28T09:34:40.286Z"
      },
      {
        "duration": 696,
        "start_time": "2023-04-28T09:34:40.308Z"
      },
      {
        "duration": 436,
        "start_time": "2023-04-28T09:34:41.007Z"
      },
      {
        "duration": 0,
        "start_time": "2023-04-28T09:34:41.446Z"
      },
      {
        "duration": 0,
        "start_time": "2023-04-28T09:34:41.447Z"
      },
      {
        "duration": 0,
        "start_time": "2023-04-28T09:34:41.449Z"
      },
      {
        "duration": 0,
        "start_time": "2023-04-28T09:34:41.451Z"
      },
      {
        "duration": 0,
        "start_time": "2023-04-28T09:34:41.453Z"
      },
      {
        "duration": 0,
        "start_time": "2023-04-28T09:34:41.455Z"
      },
      {
        "duration": 0,
        "start_time": "2023-04-28T09:34:41.456Z"
      },
      {
        "duration": 0,
        "start_time": "2023-04-28T09:34:41.458Z"
      },
      {
        "duration": 0,
        "start_time": "2023-04-28T09:34:41.459Z"
      },
      {
        "duration": 0,
        "start_time": "2023-04-28T09:34:41.461Z"
      },
      {
        "duration": 0,
        "start_time": "2023-04-28T09:34:41.462Z"
      },
      {
        "duration": 0,
        "start_time": "2023-04-28T09:34:41.464Z"
      },
      {
        "duration": 0,
        "start_time": "2023-04-28T09:34:41.465Z"
      },
      {
        "duration": 0,
        "start_time": "2023-04-28T09:34:41.467Z"
      },
      {
        "duration": 1,
        "start_time": "2023-04-28T09:34:41.468Z"
      },
      {
        "duration": 0,
        "start_time": "2023-04-28T09:34:41.470Z"
      },
      {
        "duration": 0,
        "start_time": "2023-04-28T09:34:41.471Z"
      },
      {
        "duration": 0,
        "start_time": "2023-04-28T09:34:41.472Z"
      },
      {
        "duration": 0,
        "start_time": "2023-04-28T09:34:41.474Z"
      },
      {
        "duration": 0,
        "start_time": "2023-04-28T09:34:41.475Z"
      },
      {
        "duration": 0,
        "start_time": "2023-04-28T09:34:41.477Z"
      },
      {
        "duration": 881,
        "start_time": "2023-04-28T09:40:01.063Z"
      },
      {
        "duration": 838,
        "start_time": "2023-04-28T09:40:27.411Z"
      },
      {
        "duration": 11650,
        "start_time": "2023-04-28T09:41:33.861Z"
      },
      {
        "duration": 1896,
        "start_time": "2023-04-28T09:41:56.515Z"
      },
      {
        "duration": 14,
        "start_time": "2023-04-28T09:41:58.413Z"
      },
      {
        "duration": 2253,
        "start_time": "2023-04-28T09:41:58.429Z"
      },
      {
        "duration": 508,
        "start_time": "2023-04-28T09:42:00.686Z"
      },
      {
        "duration": 336,
        "start_time": "2023-04-28T09:42:01.197Z"
      },
      {
        "duration": 27,
        "start_time": "2023-04-28T09:42:01.535Z"
      },
      {
        "duration": 479,
        "start_time": "2023-04-28T09:42:01.564Z"
      },
      {
        "duration": 490,
        "start_time": "2023-04-28T09:42:02.044Z"
      },
      {
        "duration": 448,
        "start_time": "2023-04-28T09:42:02.541Z"
      },
      {
        "duration": 480,
        "start_time": "2023-04-28T09:42:02.993Z"
      },
      {
        "duration": 2287,
        "start_time": "2023-04-28T09:42:03.475Z"
      },
      {
        "duration": 25,
        "start_time": "2023-04-28T09:42:05.764Z"
      },
      {
        "duration": 2179,
        "start_time": "2023-04-28T09:42:05.792Z"
      },
      {
        "duration": 843,
        "start_time": "2023-04-28T09:42:07.973Z"
      },
      {
        "duration": 2060,
        "start_time": "2023-04-28T09:42:08.819Z"
      },
      {
        "duration": 18,
        "start_time": "2023-04-28T09:42:10.881Z"
      },
      {
        "duration": 2237,
        "start_time": "2023-04-28T09:42:10.901Z"
      },
      {
        "duration": 2214,
        "start_time": "2023-04-28T09:42:13.142Z"
      },
      {
        "duration": 27,
        "start_time": "2023-04-28T09:42:15.358Z"
      },
      {
        "duration": 1217,
        "start_time": "2023-04-28T09:42:15.387Z"
      },
      {
        "duration": 3044,
        "start_time": "2023-04-28T09:42:16.607Z"
      },
      {
        "duration": 104,
        "start_time": "2023-04-28T09:42:19.653Z"
      },
      {
        "duration": 301,
        "start_time": "2023-04-28T09:42:19.759Z"
      },
      {
        "duration": 2194,
        "start_time": "2023-04-28T09:42:20.062Z"
      },
      {
        "duration": 4,
        "start_time": "2023-04-28T09:42:22.258Z"
      },
      {
        "duration": 134,
        "start_time": "2023-04-28T09:42:22.264Z"
      },
      {
        "duration": 1979,
        "start_time": "2023-04-28T09:45:07.337Z"
      },
      {
        "duration": 15,
        "start_time": "2023-04-28T09:45:09.319Z"
      },
      {
        "duration": 2325,
        "start_time": "2023-04-28T09:45:09.341Z"
      },
      {
        "duration": 495,
        "start_time": "2023-04-28T09:45:11.669Z"
      },
      {
        "duration": 322,
        "start_time": "2023-04-28T09:45:12.166Z"
      },
      {
        "duration": 30,
        "start_time": "2023-04-28T09:45:12.490Z"
      },
      {
        "duration": 486,
        "start_time": "2023-04-28T09:45:12.523Z"
      },
      {
        "duration": 545,
        "start_time": "2023-04-28T09:45:13.011Z"
      },
      {
        "duration": 429,
        "start_time": "2023-04-28T09:45:13.558Z"
      },
      {
        "duration": 459,
        "start_time": "2023-04-28T09:45:13.990Z"
      },
      {
        "duration": 2423,
        "start_time": "2023-04-28T09:45:14.452Z"
      },
      {
        "duration": 27,
        "start_time": "2023-04-28T09:45:16.878Z"
      },
      {
        "duration": 2154,
        "start_time": "2023-04-28T09:45:16.907Z"
      },
      {
        "duration": 867,
        "start_time": "2023-04-28T09:45:19.063Z"
      },
      {
        "duration": 1971,
        "start_time": "2023-04-28T09:45:19.932Z"
      },
      {
        "duration": 41,
        "start_time": "2023-04-28T09:45:21.906Z"
      },
      {
        "duration": 2009,
        "start_time": "2023-04-28T09:45:21.950Z"
      },
      {
        "duration": 1974,
        "start_time": "2023-04-28T09:45:23.962Z"
      },
      {
        "duration": 24,
        "start_time": "2023-04-28T09:45:25.938Z"
      },
      {
        "duration": 846,
        "start_time": "2023-04-28T09:45:25.964Z"
      },
      {
        "duration": 3107,
        "start_time": "2023-04-28T09:45:26.812Z"
      },
      {
        "duration": 107,
        "start_time": "2023-04-28T09:45:29.921Z"
      },
      {
        "duration": 310,
        "start_time": "2023-04-28T09:45:30.040Z"
      },
      {
        "duration": 2310,
        "start_time": "2023-04-28T09:45:30.353Z"
      },
      {
        "duration": 5,
        "start_time": "2023-04-28T09:45:32.665Z"
      },
      {
        "duration": 54,
        "start_time": "2023-04-28T09:45:32.673Z"
      },
      {
        "duration": 2086,
        "start_time": "2023-04-28T09:56:40.482Z"
      },
      {
        "duration": 14,
        "start_time": "2023-04-28T09:56:42.571Z"
      },
      {
        "duration": 2125,
        "start_time": "2023-04-28T09:56:42.587Z"
      },
      {
        "duration": 426,
        "start_time": "2023-04-28T09:56:44.715Z"
      },
      {
        "duration": 252,
        "start_time": "2023-04-28T09:56:45.144Z"
      },
      {
        "duration": 22,
        "start_time": "2023-04-28T09:56:45.398Z"
      },
      {
        "duration": 442,
        "start_time": "2023-04-28T09:56:45.422Z"
      },
      {
        "duration": 576,
        "start_time": "2023-04-28T09:56:45.867Z"
      },
      {
        "duration": 453,
        "start_time": "2023-04-28T09:56:46.445Z"
      },
      {
        "duration": 477,
        "start_time": "2023-04-28T09:56:46.902Z"
      },
      {
        "duration": 2105,
        "start_time": "2023-04-28T09:56:47.382Z"
      },
      {
        "duration": 20,
        "start_time": "2023-04-28T09:56:49.489Z"
      },
      {
        "duration": 2061,
        "start_time": "2023-04-28T09:56:49.512Z"
      },
      {
        "duration": 846,
        "start_time": "2023-04-28T09:56:51.576Z"
      },
      {
        "duration": 1995,
        "start_time": "2023-04-28T09:56:52.425Z"
      },
      {
        "duration": 29,
        "start_time": "2023-04-28T09:56:54.423Z"
      },
      {
        "duration": 2236,
        "start_time": "2023-04-28T09:56:54.455Z"
      },
      {
        "duration": 2069,
        "start_time": "2023-04-28T09:56:56.695Z"
      },
      {
        "duration": 19,
        "start_time": "2023-04-28T09:56:58.766Z"
      },
      {
        "duration": 773,
        "start_time": "2023-04-28T09:56:58.788Z"
      },
      {
        "duration": 3164,
        "start_time": "2023-04-28T09:56:59.563Z"
      },
      {
        "duration": 102,
        "start_time": "2023-04-28T09:57:02.729Z"
      },
      {
        "duration": 314,
        "start_time": "2023-04-28T09:57:02.842Z"
      },
      {
        "duration": 2179,
        "start_time": "2023-04-28T09:57:03.158Z"
      },
      {
        "duration": 7,
        "start_time": "2023-04-28T09:57:05.340Z"
      },
      {
        "duration": 22,
        "start_time": "2023-04-28T09:57:05.349Z"
      },
      {
        "duration": 20125,
        "start_time": "2023-04-28T09:57:05.373Z"
      },
      {
        "duration": 212389,
        "start_time": "2023-04-28T09:57:25.503Z"
      },
      {
        "duration": 3,
        "start_time": "2023-04-28T10:00:57.894Z"
      },
      {
        "duration": 13,
        "start_time": "2023-04-28T10:00:57.899Z"
      },
      {
        "duration": 1937,
        "start_time": "2023-04-28T11:59:46.159Z"
      },
      {
        "duration": 14,
        "start_time": "2023-04-28T11:59:48.098Z"
      },
      {
        "duration": 2238,
        "start_time": "2023-04-28T11:59:48.114Z"
      },
      {
        "duration": 429,
        "start_time": "2023-04-28T11:59:50.354Z"
      },
      {
        "duration": 308,
        "start_time": "2023-04-28T11:59:50.784Z"
      },
      {
        "duration": 25,
        "start_time": "2023-04-28T11:59:51.094Z"
      },
      {
        "duration": 472,
        "start_time": "2023-04-28T11:59:51.121Z"
      },
      {
        "duration": 530,
        "start_time": "2023-04-28T11:59:51.595Z"
      },
      {
        "duration": 429,
        "start_time": "2023-04-28T11:59:52.127Z"
      },
      {
        "duration": 492,
        "start_time": "2023-04-28T11:59:52.559Z"
      },
      {
        "duration": 2289,
        "start_time": "2023-04-28T11:59:53.058Z"
      },
      {
        "duration": 29,
        "start_time": "2023-04-28T11:59:55.349Z"
      },
      {
        "duration": 2279,
        "start_time": "2023-04-28T11:59:55.381Z"
      },
      {
        "duration": 863,
        "start_time": "2023-04-28T11:59:57.662Z"
      },
      {
        "duration": 2096,
        "start_time": "2023-04-28T11:59:58.527Z"
      },
      {
        "duration": 37,
        "start_time": "2023-04-28T12:00:00.626Z"
      },
      {
        "duration": 2273,
        "start_time": "2023-04-28T12:00:00.666Z"
      },
      {
        "duration": 2017,
        "start_time": "2023-04-28T12:00:02.953Z"
      },
      {
        "duration": 24,
        "start_time": "2023-04-28T12:00:04.971Z"
      },
      {
        "duration": 814,
        "start_time": "2023-04-28T12:00:04.997Z"
      },
      {
        "duration": 3111,
        "start_time": "2023-04-28T12:00:05.814Z"
      },
      {
        "duration": 107,
        "start_time": "2023-04-28T12:00:08.927Z"
      },
      {
        "duration": 297,
        "start_time": "2023-04-28T12:00:09.036Z"
      },
      {
        "duration": 2121,
        "start_time": "2023-04-28T12:00:09.335Z"
      },
      {
        "duration": 4,
        "start_time": "2023-04-28T12:00:11.458Z"
      },
      {
        "duration": 65,
        "start_time": "2023-04-28T12:00:11.464Z"
      },
      {
        "duration": 19827,
        "start_time": "2023-04-28T12:00:11.532Z"
      },
      {
        "duration": 210349,
        "start_time": "2023-04-28T12:00:31.363Z"
      },
      {
        "duration": 4,
        "start_time": "2023-04-28T12:04:01.714Z"
      },
      {
        "duration": 87,
        "start_time": "2023-04-28T12:04:01.720Z"
      },
      {
        "duration": 3520553,
        "start_time": "2023-04-28T12:04:01.810Z"
      },
      {
        "duration": 623995,
        "start_time": "2023-04-28T13:02:42.366Z"
      },
      {
        "duration": 812596,
        "start_time": "2023-04-28T13:13:06.363Z"
      },
      {
        "duration": 4,
        "start_time": "2023-04-28T13:26:38.961Z"
      },
      {
        "duration": 12,
        "start_time": "2023-04-28T13:26:38.966Z"
      },
      {
        "duration": 36190,
        "start_time": "2023-04-28T13:26:38.980Z"
      },
      {
        "duration": 31826,
        "start_time": "2023-04-28T13:27:15.173Z"
      },
      {
        "duration": 308466,
        "start_time": "2023-04-28T13:27:47.001Z"
      },
      {
        "duration": 4,
        "start_time": "2023-04-28T13:32:55.469Z"
      },
      {
        "duration": 22,
        "start_time": "2023-04-28T13:32:55.475Z"
      },
      {
        "duration": 727,
        "start_time": "2023-04-28T13:32:55.499Z"
      },
      {
        "duration": 0,
        "start_time": "2023-04-28T13:32:56.229Z"
      },
      {
        "duration": 1229,
        "start_time": "2023-04-28T14:35:32.578Z"
      },
      {
        "duration": 100,
        "start_time": "2023-04-28T14:40:43.566Z"
      },
      {
        "duration": 41,
        "start_time": "2023-04-28T14:41:07.801Z"
      },
      {
        "duration": 1822,
        "start_time": "2023-04-28T14:42:15.633Z"
      },
      {
        "duration": 1190,
        "start_time": "2023-04-28T14:43:32.454Z"
      },
      {
        "duration": 3,
        "start_time": "2023-04-28T14:49:04.107Z"
      },
      {
        "duration": 14,
        "start_time": "2023-04-28T14:55:04.804Z"
      },
      {
        "duration": 15,
        "start_time": "2023-04-28T14:55:07.699Z"
      },
      {
        "duration": 5,
        "start_time": "2023-04-28T14:55:59.520Z"
      },
      {
        "duration": 75,
        "start_time": "2023-04-28T14:56:00.321Z"
      },
      {
        "duration": 3,
        "start_time": "2023-04-28T14:57:18.216Z"
      },
      {
        "duration": 1864,
        "start_time": "2023-04-28T14:57:39.151Z"
      },
      {
        "duration": 24,
        "start_time": "2023-04-28T14:57:41.018Z"
      },
      {
        "duration": 2294,
        "start_time": "2023-04-28T14:57:41.044Z"
      },
      {
        "duration": 455,
        "start_time": "2023-04-28T14:57:43.342Z"
      },
      {
        "duration": 310,
        "start_time": "2023-04-28T14:57:43.800Z"
      },
      {
        "duration": 34,
        "start_time": "2023-04-28T14:57:44.112Z"
      },
      {
        "duration": 446,
        "start_time": "2023-04-28T14:57:44.148Z"
      },
      {
        "duration": 492,
        "start_time": "2023-04-28T14:57:44.597Z"
      },
      {
        "duration": 399,
        "start_time": "2023-04-28T14:57:45.091Z"
      },
      {
        "duration": 456,
        "start_time": "2023-04-28T14:57:45.492Z"
      },
      {
        "duration": 2294,
        "start_time": "2023-04-28T14:57:45.950Z"
      },
      {
        "duration": 27,
        "start_time": "2023-04-28T14:57:48.245Z"
      },
      {
        "duration": 1990,
        "start_time": "2023-04-28T14:57:48.274Z"
      },
      {
        "duration": 837,
        "start_time": "2023-04-28T14:57:50.268Z"
      },
      {
        "duration": 1909,
        "start_time": "2023-04-28T14:57:51.107Z"
      },
      {
        "duration": 24,
        "start_time": "2023-04-28T14:57:53.019Z"
      },
      {
        "duration": 2138,
        "start_time": "2023-04-28T14:57:53.045Z"
      },
      {
        "duration": 1992,
        "start_time": "2023-04-28T14:57:55.186Z"
      },
      {
        "duration": 24,
        "start_time": "2023-04-28T14:57:57.180Z"
      },
      {
        "duration": 669,
        "start_time": "2023-04-28T14:57:57.206Z"
      },
      {
        "duration": 2977,
        "start_time": "2023-04-28T14:57:57.877Z"
      },
      {
        "duration": 119,
        "start_time": "2023-04-28T14:58:00.858Z"
      },
      {
        "duration": 308,
        "start_time": "2023-04-28T14:58:00.980Z"
      },
      {
        "duration": 2087,
        "start_time": "2023-04-28T14:58:01.290Z"
      },
      {
        "duration": 4,
        "start_time": "2023-04-28T14:58:03.379Z"
      },
      {
        "duration": 38,
        "start_time": "2023-04-28T14:58:03.385Z"
      },
      {
        "duration": 25,
        "start_time": "2023-04-28T14:58:03.425Z"
      },
      {
        "duration": 19119,
        "start_time": "2023-04-28T14:58:03.453Z"
      },
      {
        "duration": 205688,
        "start_time": "2023-04-28T14:58:22.573Z"
      },
      {
        "duration": 4,
        "start_time": "2023-04-28T15:01:48.263Z"
      },
      {
        "duration": 34,
        "start_time": "2023-04-28T15:01:48.269Z"
      },
      {
        "duration": 19,
        "start_time": "2023-04-28T15:01:48.305Z"
      },
      {
        "duration": 10,
        "start_time": "2023-04-28T15:01:48.327Z"
      },
      {
        "duration": 12,
        "start_time": "2023-04-28T15:01:48.339Z"
      },
      {
        "duration": 13,
        "start_time": "2023-04-28T15:01:48.354Z"
      },
      {
        "duration": 10,
        "start_time": "2023-04-28T15:01:48.369Z"
      },
      {
        "duration": 39597,
        "start_time": "2023-04-28T15:01:48.382Z"
      },
      {
        "duration": 33122,
        "start_time": "2023-04-28T15:02:27.981Z"
      },
      {
        "duration": 318267,
        "start_time": "2023-04-28T15:03:01.106Z"
      },
      {
        "duration": 5,
        "start_time": "2023-04-28T15:08:19.376Z"
      },
      {
        "duration": 11,
        "start_time": "2023-04-28T15:08:19.387Z"
      },
      {
        "duration": 2213,
        "start_time": "2023-04-28T15:08:19.400Z"
      },
      {
        "duration": 0,
        "start_time": "2023-04-28T15:08:21.615Z"
      },
      {
        "duration": 0,
        "start_time": "2023-04-28T15:08:21.617Z"
      },
      {
        "duration": 0,
        "start_time": "2023-04-28T15:08:21.618Z"
      },
      {
        "duration": 0,
        "start_time": "2023-04-28T15:08:21.619Z"
      },
      {
        "duration": 3,
        "start_time": "2023-04-28T15:09:12.248Z"
      },
      {
        "duration": 1890,
        "start_time": "2023-04-28T15:10:33.800Z"
      },
      {
        "duration": 14,
        "start_time": "2023-04-28T15:10:35.692Z"
      },
      {
        "duration": 2244,
        "start_time": "2023-04-28T15:10:35.708Z"
      },
      {
        "duration": 443,
        "start_time": "2023-04-28T15:10:37.954Z"
      },
      {
        "duration": 303,
        "start_time": "2023-04-28T15:10:38.399Z"
      },
      {
        "duration": 37,
        "start_time": "2023-04-28T15:10:38.705Z"
      },
      {
        "duration": 434,
        "start_time": "2023-04-28T15:10:38.744Z"
      },
      {
        "duration": 463,
        "start_time": "2023-04-28T15:10:39.180Z"
      },
      {
        "duration": 442,
        "start_time": "2023-04-28T15:10:39.645Z"
      },
      {
        "duration": 458,
        "start_time": "2023-04-28T15:10:40.092Z"
      },
      {
        "duration": 2276,
        "start_time": "2023-04-28T15:10:40.552Z"
      },
      {
        "duration": 30,
        "start_time": "2023-04-28T15:10:42.830Z"
      },
      {
        "duration": 2042,
        "start_time": "2023-04-28T15:10:42.862Z"
      },
      {
        "duration": 898,
        "start_time": "2023-04-28T15:10:44.906Z"
      },
      {
        "duration": 2068,
        "start_time": "2023-04-28T15:10:45.806Z"
      },
      {
        "duration": 18,
        "start_time": "2023-04-28T15:10:47.876Z"
      },
      {
        "duration": 2045,
        "start_time": "2023-04-28T15:10:47.896Z"
      },
      {
        "duration": 1936,
        "start_time": "2023-04-28T15:10:49.943Z"
      },
      {
        "duration": 24,
        "start_time": "2023-04-28T15:10:51.881Z"
      },
      {
        "duration": 685,
        "start_time": "2023-04-28T15:10:51.908Z"
      },
      {
        "duration": 2922,
        "start_time": "2023-04-28T15:10:52.595Z"
      },
      {
        "duration": 111,
        "start_time": "2023-04-28T15:10:55.520Z"
      },
      {
        "duration": 323,
        "start_time": "2023-04-28T15:10:55.633Z"
      },
      {
        "duration": 2134,
        "start_time": "2023-04-28T15:10:55.958Z"
      },
      {
        "duration": 4,
        "start_time": "2023-04-28T15:10:58.094Z"
      },
      {
        "duration": 30,
        "start_time": "2023-04-28T15:10:58.099Z"
      },
      {
        "duration": 23,
        "start_time": "2023-04-28T15:10:58.131Z"
      },
      {
        "duration": 18848,
        "start_time": "2023-04-28T15:10:58.158Z"
      },
      {
        "duration": 204151,
        "start_time": "2023-04-28T15:11:17.008Z"
      },
      {
        "duration": 4,
        "start_time": "2023-04-28T15:14:41.160Z"
      },
      {
        "duration": 7,
        "start_time": "2023-04-28T15:14:41.166Z"
      },
      {
        "duration": 13,
        "start_time": "2023-04-28T15:14:41.175Z"
      },
      {
        "duration": 9,
        "start_time": "2023-04-28T15:14:41.190Z"
      },
      {
        "duration": 15,
        "start_time": "2023-04-28T15:14:41.201Z"
      },
      {
        "duration": 6,
        "start_time": "2023-04-28T15:14:41.219Z"
      },
      {
        "duration": 15,
        "start_time": "2023-04-28T15:14:41.227Z"
      },
      {
        "duration": 39749,
        "start_time": "2023-04-28T15:14:41.252Z"
      },
      {
        "duration": 35048,
        "start_time": "2023-04-28T15:15:21.003Z"
      },
      {
        "duration": 322832,
        "start_time": "2023-04-28T15:15:56.054Z"
      },
      {
        "duration": 4,
        "start_time": "2023-04-28T15:21:18.889Z"
      },
      {
        "duration": 13,
        "start_time": "2023-04-28T15:21:18.896Z"
      },
      {
        "duration": 24,
        "start_time": "2023-04-28T15:21:18.911Z"
      },
      {
        "duration": 43,
        "start_time": "2023-04-28T15:21:18.938Z"
      },
      {
        "duration": 225,
        "start_time": "2023-04-28T15:21:18.984Z"
      },
      {
        "duration": 0,
        "start_time": "2023-04-28T15:21:19.211Z"
      },
      {
        "duration": 0,
        "start_time": "2023-04-28T15:21:19.212Z"
      }
    ],
    "kernelspec": {
      "display_name": "Python 3 (ipykernel)",
      "language": "python",
      "name": "python3"
    },
    "language_info": {
      "codemirror_mode": {
        "name": "ipython",
        "version": 3
      },
      "file_extension": ".py",
      "mimetype": "text/x-python",
      "name": "python",
      "nbconvert_exporter": "python",
      "pygments_lexer": "ipython3",
      "version": "3.9.5"
    },
    "toc": {
      "base_numbering": 1,
      "nav_menu": {},
      "number_sections": true,
      "sideBar": true,
      "skip_h1_title": true,
      "title_cell": "Table of Contents",
      "title_sidebar": "Contents",
      "toc_cell": false,
      "toc_position": {},
      "toc_section_display": true,
      "toc_window_display": false
    },
    "colab": {
      "provenance": []
    }
  },
  "nbformat": 4,
  "nbformat_minor": 0
}